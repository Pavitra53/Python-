{
 "cells": [
  {
   "cell_type": "markdown",
   "id": "c077bb13-739f-4626-b85a-af815f88b705",
   "metadata": {},
   "source": [
    "# python day 1"
   ]
  },
  {
   "cell_type": "markdown",
   "id": "4b095759-7846-4e15-a749-bb4dc859776c",
   "metadata": {},
   "source": [
    "#. lets work with numbers"
   ]
  },
  {
   "cell_type": "markdown",
   "id": "0c259d8f-c71f-4fcb-b2da-59f1a377ec69",
   "metadata": {},
   "source": [
    "## Python is widely used for data analysis due to its simplicity and the extensive ecosystem of libraries designed for data manipulation, analysis, and visualization. Here are some key components:\n",
    "- Libraries:\r\n",
    "\r\n",
    "1. Pandas: Provides data structures like DataFrames, making it easy to manipulate and analyze structured data.\r\n",
    "2. NumPy: Offers support for large, multi-dimensional arrays and matrices, along with a collection of mathematical functions to operate on these arrays.\r\n",
    "3. Matplotlib: A plotting library used for creating static, animated, and interactive visualizations in Python.\r\n",
    "4. Seaborn: Built on Matplotlib, it simplifies complex visualizations and enhances aesthetics.\r\n",
    "5. SciPy: A library for scientific and technical computing that builds on NumPy, providing additional functionality for optimization, integration, and statistics.\r\n",
    "6. Scikit-learn: A machine learning library that provides simple and efficient tools for data mining and data analysis.\r\n",
    "\r\n",
    "7. Data Cleaning and Preparation: Python's libraries, especially Pandas, provide powerful tools for cleaning and transforming data, handling missing values, and merging datasets.\r\n",
    "\r\n",
    "8. Exploratory Data Analysis (EDA): Python allows analysts to perform EDA using statistical techniques and visualizations, helping to uncover patterns, trends, and\n",
    "9. Statistical Analysis: Python supports various statistical tests and methods, making it suitable for hypothesis testing and inferential statistics.\r\n",
    "\r\n",
    "10. Machine Learning and Predictive Analytics: With libraries like Scikit-learn and TensorFlow, Python enables the development of predictive models and machine learning algorithms.\r\n",
    "\r\n",
    "Overall, Python's versatility and the breadth of its libraries make it a powerful tool for data analysis across various domains. anomalies."
   ]
  },
  {
   "cell_type": "code",
   "execution_count": 1,
   "id": "7a624039-113d-4836-8cfe-dddf1b63a1fa",
   "metadata": {},
   "outputs": [
    {
     "data": {
      "text/plain": [
       "15"
      ]
     },
     "execution_count": 1,
     "metadata": {},
     "output_type": "execute_result"
    }
   ],
   "source": [
    "10+5"
   ]
  },
  {
   "cell_type": "code",
   "execution_count": 2,
   "id": "18e0bc68-5552-45e9-8e9d-b32fc0fa230e",
   "metadata": {},
   "outputs": [
    {
     "data": {
      "text/plain": [
       "5"
      ]
     },
     "execution_count": 2,
     "metadata": {},
     "output_type": "execute_result"
    }
   ],
   "source": [
    "10-5"
   ]
  },
  {
   "cell_type": "code",
   "execution_count": 3,
   "id": "91ec4a94-0ec6-43b7-bab9-d9991eacf8dc",
   "metadata": {},
   "outputs": [
    {
     "data": {
      "text/plain": [
       "50"
      ]
     },
     "execution_count": 3,
     "metadata": {},
     "output_type": "execute_result"
    }
   ],
   "source": [
    "10*5"
   ]
  },
  {
   "cell_type": "code",
   "execution_count": 4,
   "id": "798713b5-8f34-4580-89ca-8f28e729e16c",
   "metadata": {},
   "outputs": [
    {
     "data": {
      "text/plain": [
       "2.0"
      ]
     },
     "execution_count": 4,
     "metadata": {},
     "output_type": "execute_result"
    }
   ],
   "source": [
    "10/5"
   ]
  },
  {
   "cell_type": "code",
   "execution_count": 5,
   "id": "f71190be-2919-4d07-b169-a6bd5fe0af47",
   "metadata": {},
   "outputs": [
    {
     "data": {
      "text/plain": [
       "2"
      ]
     },
     "execution_count": 5,
     "metadata": {},
     "output_type": "execute_result"
    }
   ],
   "source": [
    "10//5"
   ]
  },
  {
   "cell_type": "code",
   "execution_count": 6,
   "id": "cd693970-dc42-4d94-893e-82aa7916cbe3",
   "metadata": {},
   "outputs": [
    {
     "data": {
      "text/plain": [
       "14"
      ]
     },
     "execution_count": 6,
     "metadata": {},
     "output_type": "execute_result"
    }
   ],
   "source": [
    "(10+5)-7+6"
   ]
  },
  {
   "cell_type": "code",
   "execution_count": 7,
   "id": "fe4d6357-489d-4bd8-932a-c3eeb6fbe7df",
   "metadata": {},
   "outputs": [
    {
     "data": {
      "text/plain": [
       "30"
      ]
     },
     "execution_count": 7,
     "metadata": {},
     "output_type": "execute_result"
    }
   ],
   "source": [
    "5+(5*5)"
   ]
  },
  {
   "cell_type": "code",
   "execution_count": 8,
   "id": "0d1eed1d-d347-4aea-9573-df33e9504254",
   "metadata": {},
   "outputs": [
    {
     "data": {
      "text/plain": [
       "50"
      ]
     },
     "execution_count": 8,
     "metadata": {},
     "output_type": "execute_result"
    }
   ],
   "source": [
    "(5+5)*5"
   ]
  },
  {
   "cell_type": "code",
   "execution_count": 9,
   "id": "b195f969-36c8-4a77-bec6-f6279a252c63",
   "metadata": {},
   "outputs": [
    {
     "data": {
      "text/plain": [
       "53"
      ]
     },
     "execution_count": 9,
     "metadata": {},
     "output_type": "execute_result"
    }
   ],
   "source": [
    "_+3"
   ]
  },
  {
   "cell_type": "code",
   "execution_count": 10,
   "id": "24ba94d2-16cc-4e7e-8993-ed6a06279cda",
   "metadata": {},
   "outputs": [
    {
     "data": {
      "text/plain": [
       "56"
      ]
     },
     "execution_count": 10,
     "metadata": {},
     "output_type": "execute_result"
    }
   ],
   "source": [
    "_+3"
   ]
  },
  {
   "cell_type": "code",
   "execution_count": 11,
   "id": "012ab5d5-4c7c-43da-a0fa-115968ea3c6e",
   "metadata": {},
   "outputs": [
    {
     "data": {
      "text/plain": [
       "'3.12.4 | packaged by Anaconda, Inc. | (main, Jun 18 2024, 15:03:56) [MSC v.1929 64 bit (AMD64)]'"
      ]
     },
     "execution_count": 11,
     "metadata": {},
     "output_type": "execute_result"
    }
   ],
   "source": [
    "import sys \n",
    "sys.version"
   ]
  },
  {
   "cell_type": "code",
   "execution_count": 12,
   "id": "8c6058c1-8265-4213-8bec-459f6f8d6c88",
   "metadata": {},
   "outputs": [
    {
     "data": {
      "text/plain": [
       "4"
      ]
     },
     "execution_count": 12,
     "metadata": {},
     "output_type": "execute_result"
    }
   ],
   "source": [
    "1+1\n",
    "2+1\n",
    "3+1"
   ]
  },
  {
   "cell_type": "code",
   "execution_count": 13,
   "id": "6ea2b4c3-293f-4ac2-9cb1-29ce3dc34306",
   "metadata": {},
   "outputs": [
    {
     "name": "stdout",
     "output_type": "stream",
     "text": [
      "2\n",
      "3\n",
      "4\n"
     ]
    }
   ],
   "source": [
    "print(1+1)\n",
    "print(2+1)\n",
    "print(3+1)"
   ]
  },
  {
   "cell_type": "code",
   "execution_count": 14,
   "id": "d437e0cf-8fd5-4ed9-bf38-f1207ee3192f",
   "metadata": {},
   "outputs": [
    {
     "name": "stdout",
     "output_type": "stream",
     "text": [
      "30\n"
     ]
    }
   ],
   "source": [
    "a=10\n",
    "b=20\n",
    "c=a+b\n",
    "print(c )"
   ]
  },
  {
   "cell_type": "code",
   "execution_count": 15,
   "id": "b1c6ed98-c373-424c-9b84-bcc28b2ca45e",
   "metadata": {},
   "outputs": [
    {
     "name": "stdout",
     "output_type": "stream",
     "text": [
      "10\n",
      "20\n",
      "30\n"
     ]
    }
   ],
   "source": [
    "print (a)\n",
    "print(b)\n",
    "print(c)"
   ]
  },
  {
   "cell_type": "code",
   "execution_count": 16,
   "id": "981d86b5-9a6e-4306-98c2-f8b8c63014a2",
   "metadata": {},
   "outputs": [
    {
     "ename": "SyntaxError",
     "evalue": "cannot assign to literal here. Maybe you meant '==' instead of '='? (4183533242.py, line 1)",
     "output_type": "error",
     "traceback": [
      "\u001b[1;36m  Cell \u001b[1;32mIn[16], line 1\u001b[1;36m\u001b[0m\n\u001b[1;33m    100=d\u001b[0m\n\u001b[1;37m    ^\u001b[0m\n\u001b[1;31mSyntaxError\u001b[0m\u001b[1;31m:\u001b[0m cannot assign to literal here. Maybe you meant '==' instead of '='?\n"
     ]
    }
   ],
   "source": [
    "100=d"
   ]
  },
  {
   "cell_type": "code",
   "execution_count": 17,
   "id": "a93e576f-45a8-4490-8260-7c8c54d90331",
   "metadata": {},
   "outputs": [
    {
     "name": "stdout",
     "output_type": "stream",
     "text": [
      "50\n"
     ]
    }
   ],
   "source": [
    "num1=20\n",
    "num2=30\n",
    "add=num1+num2\n",
    "print(add)\n",
    "#print('The addition of',num1,' and' num2,'is=',add)"
   ]
  },
  {
   "cell_type": "code",
   "execution_count": 25,
   "id": "5baaff20-6ac1-4dcc-b127-2b774149f930",
   "metadata": {},
   "outputs": [
    {
     "name": "stdout",
     "output_type": "stream",
     "text": [
      "The addition of-- 20 and 30 is== 50\n"
     ]
    }
   ],
   "source": [
    "num1=20\n",
    "num2=30\n",
    "\n",
    "add=num1+num2\n",
    "print('The addition of--',num1,'and',num2,'is==',add)"
   ]
  },
  {
   "cell_type": "markdown",
   "id": "751e3a2d-8a7c-420e-8af5-fad75db5b814",
   "metadata": {},
   "source": [
    "# 22nd oct day2\n",
    "python variable concept =python identifier concept"
   ]
  },
  {
   "cell_type": "markdown",
   "id": "f062e9cd-f5dc-4da1-8a67-da82de00049e",
   "metadata": {},
   "source": [
    ". syntax of define variable ||(variable name=value)||(identifer =value)"
   ]
  },
  {
   "cell_type": "code",
   "execution_count": 26,
   "id": "07f506ad-d585-45ca-83d7-11b86eb61321",
   "metadata": {},
   "outputs": [
    {
     "data": {
      "text/plain": [
       "15"
      ]
     },
     "execution_count": 26,
     "metadata": {},
     "output_type": "execute_result"
    }
   ],
   "source": [
    "NIT=15\n",
    "NIT"
   ]
  },
  {
   "cell_type": "code",
   "execution_count": 27,
   "id": "ac375508-6064-488f-9e61-fe833d06c042",
   "metadata": {},
   "outputs": [
    {
     "data": {
      "text/plain": [
       "20"
      ]
     },
     "execution_count": 27,
     "metadata": {},
     "output_type": "execute_result"
    }
   ],
   "source": [
    "NIT=20\n",
    "NIT"
   ]
  },
  {
   "cell_type": "code",
   "execution_count": 28,
   "id": "6b3faae1-ac18-4a15-8bf0-3a7b00103e91",
   "metadata": {},
   "outputs": [
    {
     "data": {
      "text/plain": [
       "15"
      ]
     },
     "execution_count": 28,
     "metadata": {},
     "output_type": "execute_result"
    }
   ],
   "source": [
    "v=15\n",
    "v"
   ]
  },
  {
   "cell_type": "code",
   "execution_count": 29,
   "id": "bac63caa-6833-4819-b9f8-09b912cff8e7",
   "metadata": {},
   "outputs": [
    {
     "name": "stdout",
     "output_type": "stream",
     "text": [
      "15\n",
      "20\n"
     ]
    }
   ],
   "source": [
    "print(v)\n",
    "print(NIT)"
   ]
  },
  {
   "cell_type": "code",
   "execution_count": 30,
   "id": "43ce4850-126f-4b8e-a50a-bf7208ba3fc9",
   "metadata": {},
   "outputs": [
    {
     "data": {
      "text/plain": [
       "20"
      ]
     },
     "execution_count": 30,
     "metadata": {},
     "output_type": "execute_result"
    }
   ],
   "source": [
    "NIT"
   ]
  },
  {
   "cell_type": "code",
   "execution_count": 31,
   "id": "1d8cadb3-80e5-4537-94fe-a12dab5189f4",
   "metadata": {},
   "outputs": [
    {
     "ename": "NameError",
     "evalue": "name 'Nit' is not defined",
     "output_type": "error",
     "traceback": [
      "\u001b[1;31m---------------------------------------------------------------------------\u001b[0m",
      "\u001b[1;31mNameError\u001b[0m                                 Traceback (most recent call last)",
      "Cell \u001b[1;32mIn[31], line 1\u001b[0m\n\u001b[1;32m----> 1\u001b[0m Nit\n",
      "\u001b[1;31mNameError\u001b[0m: name 'Nit' is not defined"
     ]
    }
   ],
   "source": [
    "Nit"
   ]
  },
  {
   "cell_type": "code",
   "execution_count": 32,
   "id": "696fb2ae-67fc-4c05-935a-87ad3a8fa9c6",
   "metadata": {},
   "outputs": [
    {
     "data": {
      "text/plain": [
       "15"
      ]
     },
     "execution_count": 32,
     "metadata": {},
     "output_type": "execute_result"
    }
   ],
   "source": [
    "v"
   ]
  },
  {
   "cell_type": "code",
   "execution_count": 33,
   "id": "d9444b28-e566-4fe4-9a94-bd96c9bf1b7d",
   "metadata": {},
   "outputs": [
    {
     "ename": "NameError",
     "evalue": "name 'V' is not defined",
     "output_type": "error",
     "traceback": [
      "\u001b[1;31m---------------------------------------------------------------------------\u001b[0m",
      "\u001b[1;31mNameError\u001b[0m                                 Traceback (most recent call last)",
      "Cell \u001b[1;32mIn[33], line 1\u001b[0m\n\u001b[1;32m----> 1\u001b[0m V\n",
      "\u001b[1;31mNameError\u001b[0m: name 'V' is not defined"
     ]
    }
   ],
   "source": [
    "V"
   ]
  },
  {
   "cell_type": "code",
   "execution_count": 34,
   "id": "2678cc80-4ea7-4cdd-99be-8bd9bf8c014c",
   "metadata": {},
   "outputs": [
    {
     "ename": "SyntaxError",
     "evalue": "invalid decimal literal (1638024947.py, line 1)",
     "output_type": "error",
     "traceback": [
      "\u001b[1;36m  Cell \u001b[1;32mIn[34], line 1\u001b[1;36m\u001b[0m\n\u001b[1;33m    1var=20\u001b[0m\n\u001b[1;37m    ^\u001b[0m\n\u001b[1;31mSyntaxError\u001b[0m\u001b[1;31m:\u001b[0m invalid decimal literal\n"
     ]
    }
   ],
   "source": [
    "1var=20\n",
    "1var"
   ]
  },
  {
   "cell_type": "code",
   "execution_count": 35,
   "id": "df75919a-ae16-41a2-836d-4f693860a77a",
   "metadata": {},
   "outputs": [
    {
     "data": {
      "text/plain": [
       "20"
      ]
     },
     "execution_count": 35,
     "metadata": {},
     "output_type": "execute_result"
    }
   ],
   "source": [
    "var1=20\n",
    "var1"
   ]
  },
  {
   "cell_type": "code",
   "execution_count": 36,
   "id": "323baa1b-9650-4ff3-bed9-cd8f64f01ee7",
   "metadata": {},
   "outputs": [
    {
     "ename": "SyntaxError",
     "evalue": "invalid syntax (2389346729.py, line 1)",
     "output_type": "error",
     "traceback": [
      "\u001b[1;36m  Cell \u001b[1;32mIn[36], line 1\u001b[1;36m\u001b[0m\n\u001b[1;33m    var$=56\u001b[0m\n\u001b[1;37m       ^\u001b[0m\n\u001b[1;31mSyntaxError\u001b[0m\u001b[1;31m:\u001b[0m invalid syntax\n"
     ]
    }
   ],
   "source": [
    "var$=56\n",
    "var$"
   ]
  },
  {
   "cell_type": "code",
   "execution_count": 37,
   "id": "84017088-a7a9-4c4a-a3a3-b9d3485d50e2",
   "metadata": {},
   "outputs": [
    {
     "ename": "SyntaxError",
     "evalue": "invalid syntax (1512909451.py, line 2)",
     "output_type": "error",
     "traceback": [
      "\u001b[1;36m  Cell \u001b[1;32mIn[37], line 2\u001b[1;36m\u001b[0m\n\u001b[1;33m    var*\u001b[0m\n\u001b[1;37m        ^\u001b[0m\n\u001b[1;31mSyntaxError\u001b[0m\u001b[1;31m:\u001b[0m invalid syntax\n"
     ]
    }
   ],
   "source": [
    "var*=45\n",
    "var*"
   ]
  },
  {
   "cell_type": "code",
   "execution_count": 38,
   "id": "f0a298a1-a5a2-44b0-a6fd-65148d606c22",
   "metadata": {},
   "outputs": [
    {
     "data": {
      "text/plain": [
       "67"
      ]
     },
     "execution_count": 38,
     "metadata": {},
     "output_type": "execute_result"
    }
   ],
   "source": [
    "var_=67\n",
    "var_"
   ]
  },
  {
   "cell_type": "code",
   "execution_count": 39,
   "id": "9ac9c5a5-387e-4c1b-9a77-5ea2e9d27481",
   "metadata": {},
   "outputs": [
    {
     "ename": "ValueError",
     "evalue": "too many values to unpack (expected 2)",
     "output_type": "error",
     "traceback": [
      "\u001b[1;31m---------------------------------------------------------------------------\u001b[0m",
      "\u001b[1;31mValueError\u001b[0m                                Traceback (most recent call last)",
      "Cell \u001b[1;32mIn[39], line 1\u001b[0m\n\u001b[1;32m----> 1\u001b[0m x_train,x_test\u001b[38;5;241m=\u001b[39m\u001b[38;5;241m80\u001b[39m,\u001b[38;5;241m20\u001b[39m,\u001b[38;5;241m50\u001b[39m\n\u001b[0;32m      2\u001b[0m x_train\n",
      "\u001b[1;31mValueError\u001b[0m: too many values to unpack (expected 2)"
     ]
    }
   ],
   "source": [
    "x_train,x_test=80,20,50\n",
    "x_train"
   ]
  },
  {
   "cell_type": "code",
   "execution_count": 41,
   "id": "33af208d-7a8e-4541-8853-82c3073d0641",
   "metadata": {},
   "outputs": [
    {
     "name": "stdout",
     "output_type": "stream",
     "text": [
      "80\n",
      "20\n"
     ]
    }
   ],
   "source": [
    "x_train,x_test=80,20\n",
    "\n",
    "print(x_train)\n",
    "print(x_test)"
   ]
  },
  {
   "cell_type": "code",
   "execution_count": 42,
   "id": "6c7d111b-fb7b-4f05-a4af-d284ca6b7ad2",
   "metadata": {},
   "outputs": [],
   "source": [
    "a=10\n",
    "b=20\n",
    "c=30\n",
    "d=40"
   ]
  },
  {
   "cell_type": "code",
   "execution_count": 43,
   "id": "4da840f4-3cfa-491c-951c-17028c287c31",
   "metadata": {},
   "outputs": [
    {
     "name": "stdout",
     "output_type": "stream",
     "text": [
      "10\n",
      "20\n",
      "30\n",
      "40\n"
     ]
    }
   ],
   "source": [
    "a,b,c,d=10,20,30,40\n",
    "print(a)\n",
    "print(b)\n",
    "print(c)\n",
    "print(d)"
   ]
  },
  {
   "cell_type": "code",
   "execution_count": 44,
   "id": "6eac517e-5649-44b1-8d51-d5f116584f9e",
   "metadata": {},
   "outputs": [
    {
     "name": "stdout",
     "output_type": "stream",
     "text": [
      "78\n"
     ]
    }
   ],
   "source": [
    "aaaaaaaaaaaaaaaaaaaaaaaaaaaaaaaaaaaaaaaaaaaaaaaaaaaaaaaaaaaaaaaaaaaaaa = 78\n",
    "print(aaaaaaaaaaaaaaaaaaaaaaaaaaaaaaaaaaaaaaaaaaaaaaaaaaaaaaaaaaaaaaaaaaaaaa)"
   ]
  },
  {
   "cell_type": "code",
   "execution_count": 45,
   "id": "36c9f687-e29b-4cae-88e0-074950a94167",
   "metadata": {},
   "outputs": [
    {
     "ename": "NameError",
     "evalue": "name 'abc' is not defined",
     "output_type": "error",
     "traceback": [
      "\u001b[1;31m---------------------------------------------------------------------------\u001b[0m",
      "\u001b[1;31mNameError\u001b[0m                                 Traceback (most recent call last)",
      "Cell \u001b[1;32mIn[45], line 2\u001b[0m\n\u001b[0;32m      1\u001b[0m ABC\u001b[38;5;241m=\u001b[39m\u001b[38;5;241m100\u001b[39m\u001b[38;5;66;03m#case sensitive\u001b[39;00m\n\u001b[1;32m----> 2\u001b[0m abc\n",
      "\u001b[1;31mNameError\u001b[0m: name 'abc' is not defined"
     ]
    }
   ],
   "source": [
    "ABC=100#case sensitive\n",
    "abc"
   ]
  },
  {
   "cell_type": "code",
   "execution_count": 46,
   "id": "f0a801e3-07cf-4a0e-bb5d-7b263bc26d6e",
   "metadata": {},
   "outputs": [
    {
     "ename": "SyntaxError",
     "evalue": "invalid syntax (397089865.py, line 2)",
     "output_type": "error",
     "traceback": [
      "\u001b[1;36m  Cell \u001b[1;32mIn[46], line 2\u001b[1;36m\u001b[0m\n\u001b[1;33m    nit@\u001b[0m\n\u001b[1;37m        ^\u001b[0m\n\u001b[1;31mSyntaxError\u001b[0m\u001b[1;31m:\u001b[0m invalid syntax\n"
     ]
    }
   ],
   "source": [
    "nit@=6 #special character\n",
    "nit@"
   ]
  },
  {
   "cell_type": "code",
   "execution_count": 49,
   "id": "df4bbb6d-3acc-4021-894d-9a83ca20256d",
   "metadata": {},
   "outputs": [
    {
     "data": {
      "text/plain": [
       "50"
      ]
     },
     "execution_count": 49,
     "metadata": {},
     "output_type": "execute_result"
    }
   ],
   "source": [
    "nit_=50 #underscore only allowed\n",
    "nit_"
   ]
  },
  {
   "cell_type": "code",
   "execution_count": 48,
   "id": "a3e1a65c-a542-409a-ba45-972147354df9",
   "metadata": {},
   "outputs": [
    {
     "ename": "SyntaxError",
     "evalue": "invalid decimal literal (3736035919.py, line 1)",
     "output_type": "error",
     "traceback": [
      "\u001b[1;36m  Cell \u001b[1;32mIn[48], line 1\u001b[1;36m\u001b[0m\n\u001b[1;33m    1nit=20\u001b[0m\n\u001b[1;37m    ^\u001b[0m\n\u001b[1;31mSyntaxError\u001b[0m\u001b[1;31m:\u001b[0m invalid decimal literal\n"
     ]
    }
   ],
   "source": [
    "1nit=20\n",
    "1nit"
   ]
  },
  {
   "cell_type": "markdown",
   "id": "2b7526c1-84f5-4595-861e-168ff26f8bf6",
   "metadata": {},
   "source": [
    "#python identifier we are completed"
   ]
  },
  {
   "cell_type": "code",
   "execution_count": null,
   "id": "94fc5328-a1c4-4834-b551-f7835a6a6d37",
   "metadata": {},
   "outputs": [],
   "source": [
    "a=25\n",
    "# a  is variable"
   ]
  },
  {
   "cell_type": "markdown",
   "id": "c5ff6521-7e40-4654-8b3b-db4b962a37e5",
   "metadata": {},
   "source": [
    "# 23rd oct (PYTHON DATA TYPES)"
   ]
  },
  {
   "cell_type": "markdown",
   "id": "b0560eae-6b7b-462e-acf4-9269b385be9e",
   "metadata": {},
   "source": [
    "    - INT - value without decimal \n",
    "    - FLOAT - value with decimal ( petrol price, gold price, salary)\n",
    "    - BOOL - True or False \n",
    "    - STRING - 'nit ' | '' nit ''\n",
    "    - COMPLEX  - (a + bj)   "
   ]
  },
  {
   "cell_type": "code",
   "execution_count": 50,
   "id": "9e2e3bf4-0e85-48a3-a6b5-9c6d63eb8f29",
   "metadata": {},
   "outputs": [
    {
     "data": {
      "text/plain": [
       "25"
      ]
     },
     "execution_count": 50,
     "metadata": {},
     "output_type": "execute_result"
    }
   ],
   "source": [
    "i=25\n",
    "i"
   ]
  },
  {
   "cell_type": "code",
   "execution_count": 51,
   "id": "1a37810e-2437-4441-9f8b-0c8d274383f4",
   "metadata": {},
   "outputs": [
    {
     "data": {
      "text/plain": [
       "int"
      ]
     },
     "execution_count": 51,
     "metadata": {},
     "output_type": "execute_result"
    }
   ],
   "source": [
    "type(i)"
   ]
  },
  {
   "cell_type": "code",
   "execution_count": 52,
   "id": "c778328e-2202-4167-b322-0ef0782bf87b",
   "metadata": {},
   "outputs": [
    {
     "name": "stdout",
     "output_type": "stream",
     "text": [
      "<class 'int'>\n"
     ]
    }
   ],
   "source": [
    "print(type(i))"
   ]
  },
  {
   "cell_type": "code",
   "execution_count": 53,
   "id": "b108c6be-6f1a-45dc-a464-baf62ef6ef9d",
   "metadata": {},
   "outputs": [
    {
     "data": {
      "text/plain": [
       "25"
      ]
     },
     "execution_count": 53,
     "metadata": {},
     "output_type": "execute_result"
    }
   ],
   "source": [
    "i"
   ]
  },
  {
   "cell_type": "code",
   "execution_count": 54,
   "id": "b08b5c2c-5b8e-46fd-9017-f0f8962cbf2f",
   "metadata": {},
   "outputs": [],
   "source": [
    "i1,i2=20,30"
   ]
  },
  {
   "cell_type": "code",
   "execution_count": 55,
   "id": "4c063c33-0180-4d39-9637-18b370b6cfcc",
   "metadata": {},
   "outputs": [
    {
     "data": {
      "text/plain": [
       "75"
      ]
     },
     "execution_count": 55,
     "metadata": {},
     "output_type": "execute_result"
    }
   ],
   "source": [
    "i+i1+i2"
   ]
  },
  {
   "cell_type": "code",
   "execution_count": 56,
   "id": "7fc3cb77-452a-47bc-9263-e5583dbcd6d2",
   "metadata": {},
   "outputs": [
    {
     "data": {
      "text/plain": [
       "15"
      ]
     },
     "execution_count": 56,
     "metadata": {},
     "output_type": "execute_result"
    }
   ],
   "source": [
    "i-i2+i1"
   ]
  },
  {
   "cell_type": "code",
   "execution_count": 57,
   "id": "1f402a93-55ac-47a2-a73c-ca9d6ecbc2a1",
   "metadata": {},
   "outputs": [
    {
     "name": "stdout",
     "output_type": "stream",
     "text": [
      "25\n",
      "20\n",
      "30\n"
     ]
    }
   ],
   "source": [
    "print(i)\n",
    "print(i1)\n",
    "print(i2)"
   ]
  },
  {
   "cell_type": "code",
   "execution_count": 58,
   "id": "4cb31d72-3890-436b-98d4-f7fdbe637895",
   "metadata": {},
   "outputs": [
    {
     "data": {
      "text/plain": [
       "-25"
      ]
     },
     "execution_count": 58,
     "metadata": {},
     "output_type": "execute_result"
    }
   ],
   "source": [
    "i-(i2+i1)"
   ]
  },
  {
   "cell_type": "markdown",
   "id": "c2d5e5b7-34ea-4b63-9a3e-19c86104c3e0",
   "metadata": {},
   "source": [
    "# integer data type we are completed"
   ]
  },
  {
   "cell_type": "code",
   "execution_count": 59,
   "id": "d740e1a1-7b56-49cf-ae0c-655eabe119ca",
   "metadata": {},
   "outputs": [
    {
     "data": {
      "text/plain": [
       "110.23"
      ]
     },
     "execution_count": 59,
     "metadata": {},
     "output_type": "execute_result"
    }
   ],
   "source": [
    "f=110.23\n",
    "f"
   ]
  },
  {
   "cell_type": "code",
   "execution_count": 60,
   "id": "168a34a2-873e-46fe-8cf5-7552b4b0ccee",
   "metadata": {},
   "outputs": [
    {
     "data": {
      "text/plain": [
       "float"
      ]
     },
     "execution_count": 60,
     "metadata": {},
     "output_type": "execute_result"
    }
   ],
   "source": [
    "type(f)"
   ]
  },
  {
   "cell_type": "code",
   "execution_count": 61,
   "id": "b7a8921d-7267-4200-9bef-14f39495230e",
   "metadata": {},
   "outputs": [],
   "source": [
    "f1,f2,f3=2.3,3.4,5.1"
   ]
  },
  {
   "cell_type": "code",
   "execution_count": 62,
   "id": "940b5587-666a-4e6a-81cd-95a10d424c8a",
   "metadata": {},
   "outputs": [
    {
     "name": "stdout",
     "output_type": "stream",
     "text": [
      "110.23\n",
      "2.3\n",
      "3.4\n",
      "5.1\n"
     ]
    }
   ],
   "source": [
    "print(f)\n",
    "print(f1)\n",
    "print(f2)\n",
    "print(f3)"
   ]
  },
  {
   "cell_type": "code",
   "execution_count": 63,
   "id": "2ed2ffe3-2b31-4dcc-8ac2-a47d2f5637ac",
   "metadata": {},
   "outputs": [
    {
     "ename": "SyntaxError",
     "evalue": "invalid decimal literal (3948656954.py, line 1)",
     "output_type": "error",
     "traceback": [
      "\u001b[1;36m  Cell \u001b[1;32mIn[63], line 1\u001b[1;36m\u001b[0m\n\u001b[1;33m    1f=1e0\u001b[0m\n\u001b[1;37m    ^\u001b[0m\n\u001b[1;31mSyntaxError\u001b[0m\u001b[1;31m:\u001b[0m invalid decimal literal\n"
     ]
    }
   ],
   "source": [
    "1f=1e0"
   ]
  },
  {
   "cell_type": "code",
   "execution_count": 65,
   "id": "de3ff47c-ba62-416f-9634-67c7d2c1c618",
   "metadata": {},
   "outputs": [
    {
     "data": {
      "text/plain": [
       "20.0"
      ]
     },
     "execution_count": 65,
     "metadata": {},
     "output_type": "execute_result"
    }
   ],
   "source": [
    "f2=2e1\n",
    "f2"
   ]
  },
  {
   "cell_type": "code",
   "execution_count": 66,
   "id": "08628232-1458-4769-91d8-1677d254c566",
   "metadata": {},
   "outputs": [
    {
     "data": {
      "text/plain": [
       "300.0"
      ]
     },
     "execution_count": 66,
     "metadata": {},
     "output_type": "execute_result"
    }
   ],
   "source": [
    "f3=3e2\n",
    "f3"
   ]
  },
  {
   "cell_type": "code",
   "execution_count": 67,
   "id": "a4349066-4275-45e7-9e46-5f4e360d9cba",
   "metadata": {},
   "outputs": [
    {
     "data": {
      "text/plain": [
       "3000.0"
      ]
     },
     "execution_count": 67,
     "metadata": {},
     "output_type": "execute_result"
    }
   ],
   "source": [
    "f4=3e3\n",
    "f4"
   ]
  },
  {
   "cell_type": "code",
   "execution_count": 68,
   "id": "87a5f1bc-b423-4edb-9b19-e246a2c84ce0",
   "metadata": {},
   "outputs": [
    {
     "data": {
      "text/plain": [
       "240.0"
      ]
     },
     "execution_count": 68,
     "metadata": {},
     "output_type": "execute_result"
    }
   ],
   "source": [
    "f5=2.4e2\n",
    "f5"
   ]
  },
  {
   "cell_type": "code",
   "execution_count": 69,
   "id": "549433fe-6ba1-41e4-8f27-ea1e329cfef9",
   "metadata": {},
   "outputs": [
    {
     "ename": "SyntaxError",
     "evalue": "invalid decimal literal (1093739539.py, line 1)",
     "output_type": "error",
     "traceback": [
      "\u001b[1;36m  Cell \u001b[1;32mIn[69], line 1\u001b[1;36m\u001b[0m\n\u001b[1;33m    f6=2b3\u001b[0m\n\u001b[1;37m       ^\u001b[0m\n\u001b[1;31mSyntaxError\u001b[0m\u001b[1;31m:\u001b[0m invalid decimal literal\n"
     ]
    }
   ],
   "source": [
    "f6=2b3"
   ]
  },
  {
   "cell_type": "markdown",
   "id": "3955cb09-3df3-49b3-a49e-c76905e45a9e",
   "metadata": {},
   "source": [
    "# BOOL OR BOOLEAN"
   ]
  },
  {
   "cell_type": "code",
   "execution_count": 70,
   "id": "4f745243-f26a-443a-94a5-5f10b02cd4ca",
   "metadata": {},
   "outputs": [
    {
     "ename": "NameError",
     "evalue": "name 'true' is not defined",
     "output_type": "error",
     "traceback": [
      "\u001b[1;31m---------------------------------------------------------------------------\u001b[0m",
      "\u001b[1;31mNameError\u001b[0m                                 Traceback (most recent call last)",
      "Cell \u001b[1;32mIn[70], line 1\u001b[0m\n\u001b[1;32m----> 1\u001b[0m b\u001b[38;5;241m=\u001b[39mtrue\n\u001b[0;32m      2\u001b[0m b\n",
      "\u001b[1;31mNameError\u001b[0m: name 'true' is not defined"
     ]
    }
   ],
   "source": [
    "b=true\n",
    "b"
   ]
  },
  {
   "cell_type": "code",
   "execution_count": 71,
   "id": "5c1b2e3b-b16a-4fb6-85ae-a6d7bfd657fa",
   "metadata": {},
   "outputs": [
    {
     "data": {
      "text/plain": [
       "True"
      ]
     },
     "execution_count": 71,
     "metadata": {},
     "output_type": "execute_result"
    }
   ],
   "source": [
    "b=True\n",
    "b"
   ]
  },
  {
   "cell_type": "code",
   "execution_count": 72,
   "id": "edfbebc4-ed7d-4fa9-8605-1bd9ce62fe6c",
   "metadata": {},
   "outputs": [
    {
     "ename": "NameError",
     "evalue": "name 'false' is not defined",
     "output_type": "error",
     "traceback": [
      "\u001b[1;31m---------------------------------------------------------------------------\u001b[0m",
      "\u001b[1;31mNameError\u001b[0m                                 Traceback (most recent call last)",
      "Cell \u001b[1;32mIn[72], line 1\u001b[0m\n\u001b[1;32m----> 1\u001b[0m b1\u001b[38;5;241m=\u001b[39mfalse\n\u001b[0;32m      2\u001b[0m b1\n",
      "\u001b[1;31mNameError\u001b[0m: name 'false' is not defined"
     ]
    }
   ],
   "source": [
    "b1=false\n",
    "b1"
   ]
  },
  {
   "cell_type": "code",
   "execution_count": 73,
   "id": "704df1d3-3652-479c-9d94-193dbd9e7008",
   "metadata": {},
   "outputs": [
    {
     "data": {
      "text/plain": [
       "False"
      ]
     },
     "execution_count": 73,
     "metadata": {},
     "output_type": "execute_result"
    }
   ],
   "source": [
    "b1=False\n",
    "b1"
   ]
  },
  {
   "cell_type": "code",
   "execution_count": 74,
   "id": "e132ae2f-bf48-4981-ba5f-18eb04c34267",
   "metadata": {},
   "outputs": [
    {
     "name": "stdout",
     "output_type": "stream",
     "text": [
      "True\n",
      "False\n"
     ]
    }
   ],
   "source": [
    "print(b)\n",
    "print(b1)"
   ]
  },
  {
   "cell_type": "code",
   "execution_count": 75,
   "id": "a098d9da-b810-4ac1-bea0-824922b75636",
   "metadata": {},
   "outputs": [
    {
     "data": {
      "text/plain": [
       "1"
      ]
     },
     "execution_count": 75,
     "metadata": {},
     "output_type": "execute_result"
    }
   ],
   "source": [
    "True+False"
   ]
  },
  {
   "cell_type": "code",
   "execution_count": 76,
   "id": "95e06711-bdd7-42d7-8ded-1d17c8bd60da",
   "metadata": {},
   "outputs": [
    {
     "data": {
      "text/plain": [
       "1"
      ]
     },
     "execution_count": 76,
     "metadata": {},
     "output_type": "execute_result"
    }
   ],
   "source": [
    "True-False"
   ]
  },
  {
   "cell_type": "code",
   "execution_count": 77,
   "id": "954c7378-cc7d-4724-b70d-8b5c8c22a8de",
   "metadata": {},
   "outputs": [
    {
     "data": {
      "text/plain": [
       "-1"
      ]
     },
     "execution_count": 77,
     "metadata": {},
     "output_type": "execute_result"
    }
   ],
   "source": [
    "False-True"
   ]
  },
  {
   "cell_type": "code",
   "execution_count": 78,
   "id": "7e5b6bb1-bbc6-495b-9bf7-70a193f01bef",
   "metadata": {},
   "outputs": [
    {
     "data": {
      "text/plain": [
       "2"
      ]
     },
     "execution_count": 78,
     "metadata": {},
     "output_type": "execute_result"
    }
   ],
   "source": [
    "True+True+True+False-True"
   ]
  },
  {
   "cell_type": "code",
   "execution_count": 79,
   "id": "0b4fe250-2126-4003-a760-d06fce7113dd",
   "metadata": {},
   "outputs": [
    {
     "data": {
      "text/plain": [
       "0"
      ]
     },
     "execution_count": 79,
     "metadata": {},
     "output_type": "execute_result"
    }
   ],
   "source": [
    "False*True"
   ]
  },
  {
   "cell_type": "code",
   "execution_count": 80,
   "id": "cd914d3d-5675-47f7-8431-76fac8e45212",
   "metadata": {},
   "outputs": [
    {
     "data": {
      "text/plain": [
       "1"
      ]
     },
     "execution_count": 80,
     "metadata": {},
     "output_type": "execute_result"
    }
   ],
   "source": [
    "True*True"
   ]
  },
  {
   "cell_type": "code",
   "execution_count": 81,
   "id": "d96512c1-6c84-4d3e-b20c-b7966ef44953",
   "metadata": {},
   "outputs": [
    {
     "data": {
      "text/plain": [
       "0.0"
      ]
     },
     "execution_count": 81,
     "metadata": {},
     "output_type": "execute_result"
    }
   ],
   "source": [
    "False/True"
   ]
  },
  {
   "cell_type": "code",
   "execution_count": 82,
   "id": "e93651aa-9435-424d-a363-167cfb9474e4",
   "metadata": {},
   "outputs": [
    {
     "ename": "ZeroDivisionError",
     "evalue": "division by zero",
     "output_type": "error",
     "traceback": [
      "\u001b[1;31m---------------------------------------------------------------------------\u001b[0m",
      "\u001b[1;31mZeroDivisionError\u001b[0m                         Traceback (most recent call last)",
      "Cell \u001b[1;32mIn[82], line 1\u001b[0m\n\u001b[1;32m----> 1\u001b[0m \u001b[38;5;28;01mTrue\u001b[39;00m\u001b[38;5;241m/\u001b[39m\u001b[38;5;28;01mFalse\u001b[39;00m\n",
      "\u001b[1;31mZeroDivisionError\u001b[0m: division by zero"
     ]
    }
   ],
   "source": [
    "True/False"
   ]
  },
  {
   "cell_type": "markdown",
   "id": "bbaa3135-8b7f-4a3b-84b4-ced22075803e",
   "metadata": {},
   "source": [
    "# Complex data types"
   ]
  },
  {
   "cell_type": "code",
   "execution_count": 83,
   "id": "575a38f1-29d6-463f-9efa-32121a6d3c56",
   "metadata": {},
   "outputs": [
    {
     "data": {
      "text/plain": [
       "(1+20j)"
      ]
     },
     "execution_count": 83,
     "metadata": {},
     "output_type": "execute_result"
    }
   ],
   "source": [
    "c=1+20j\n",
    "c"
   ]
  },
  {
   "cell_type": "code",
   "execution_count": 84,
   "id": "b03331cf-1ccf-4d97-bd77-108fb9a2ce1a",
   "metadata": {},
   "outputs": [
    {
     "data": {
      "text/plain": [
       "complex"
      ]
     },
     "execution_count": 84,
     "metadata": {},
     "output_type": "execute_result"
    }
   ],
   "source": [
    "type(c)"
   ]
  },
  {
   "cell_type": "code",
   "execution_count": 85,
   "id": "8970c0c8-9594-4ae5-ac6e-f8136b9530ca",
   "metadata": {},
   "outputs": [
    {
     "data": {
      "text/plain": [
       "(1+20j)"
      ]
     },
     "execution_count": 85,
     "metadata": {},
     "output_type": "execute_result"
    }
   ],
   "source": [
    "c"
   ]
  },
  {
   "cell_type": "code",
   "execution_count": 86,
   "id": "d81c7767-afe4-4d20-9968-f9c9c7792b69",
   "metadata": {},
   "outputs": [
    {
     "data": {
      "text/plain": [
       "1.0"
      ]
     },
     "execution_count": 86,
     "metadata": {},
     "output_type": "execute_result"
    }
   ],
   "source": [
    "c.real"
   ]
  },
  {
   "cell_type": "code",
   "execution_count": 87,
   "id": "0ab360ce-22b9-400b-9e0a-f0862ad8e633",
   "metadata": {},
   "outputs": [
    {
     "data": {
      "text/plain": [
       "20.0"
      ]
     },
     "execution_count": 87,
     "metadata": {},
     "output_type": "execute_result"
    }
   ],
   "source": [
    "c.imag"
   ]
  },
  {
   "cell_type": "code",
   "execution_count": 88,
   "id": "0fe13ade-5840-4e0d-ade0-1d539d3dc5d6",
   "metadata": {},
   "outputs": [
    {
     "name": "stdout",
     "output_type": "stream",
     "text": [
      "(40+60j)\n",
      "(-20-20j)\n"
     ]
    }
   ],
   "source": [
    "c1=10+20j\n",
    "c2=30+40j\n",
    "print(c1+c2)\n",
    "print(c1-c2)"
   ]
  },
  {
   "cell_type": "markdown",
   "id": "016f6be8-cc3d-4dbe-b43a-130a08bcc0d9",
   "metadata": {},
   "source": [
    "# 24th oct"
   ]
  },
  {
   "cell_type": "code",
   "execution_count": 89,
   "id": "32b99bd3-1ff1-4be4-a997-d4366557ad7f",
   "metadata": {},
   "outputs": [],
   "source": [
    "s ='nit'"
   ]
  },
  {
   "cell_type": "code",
   "execution_count": 90,
   "id": "69690e52-4340-46c8-b03b-bc59224fbf24",
   "metadata": {},
   "outputs": [
    {
     "data": {
      "text/plain": [
       "'nit'"
      ]
     },
     "execution_count": 90,
     "metadata": {},
     "output_type": "execute_result"
    }
   ],
   "source": [
    "s"
   ]
  },
  {
   "cell_type": "code",
   "execution_count": 91,
   "id": "24c0ff6d-4034-4fcd-9b68-9b7d053aff6e",
   "metadata": {},
   "outputs": [
    {
     "data": {
      "text/plain": [
       "str"
      ]
     },
     "execution_count": 91,
     "metadata": {},
     "output_type": "execute_result"
    }
   ],
   "source": [
    "type(s)"
   ]
  },
  {
   "cell_type": "code",
   "execution_count": 96,
   "id": "ae7e4c60-0a48-48bb-8749-651ad5661f70",
   "metadata": {},
   "outputs": [
    {
     "data": {
      "text/plain": [
       "'hello python'"
      ]
     },
     "execution_count": 96,
     "metadata": {},
     "output_type": "execute_result"
    }
   ],
   "source": [
    "s1=\"hello python\"\n",
    "s1"
   ]
  },
  {
   "cell_type": "code",
   "execution_count": 93,
   "id": "237d8c3b-e650-45c1-aa78-d36810d4880c",
   "metadata": {},
   "outputs": [
    {
     "data": {
      "text/plain": [
       "'nit\\n         hello puyhon'"
      ]
     },
     "execution_count": 93,
     "metadata": {},
     "output_type": "execute_result"
    }
   ],
   "source": [
    "s2='''nit\n",
    "         hello puyhon'''\n",
    "s2"
   ]
  },
  {
   "cell_type": "code",
   "execution_count": 97,
   "id": "55cef137-d56b-4ca9-918b-5bfe4f6ac6d3",
   "metadata": {},
   "outputs": [
    {
     "data": {
      "text/plain": [
       "'hello python'"
      ]
     },
     "execution_count": 97,
     "metadata": {},
     "output_type": "execute_result"
    }
   ],
   "source": [
    "s1"
   ]
  },
  {
   "cell_type": "code",
   "execution_count": 95,
   "id": "6ffde6a6-a33e-4c20-903c-d39b1c5b992a",
   "metadata": {},
   "outputs": [
    {
     "data": {
      "text/plain": [
       "'h'"
      ]
     },
     "execution_count": 95,
     "metadata": {},
     "output_type": "execute_result"
    }
   ],
   "source": [
    "s1[0]"
   ]
  },
  {
   "cell_type": "code",
   "execution_count": 98,
   "id": "8aa17780-3c07-4443-b88b-90350213bbd5",
   "metadata": {},
   "outputs": [
    {
     "data": {
      "text/plain": [
       "'t'"
      ]
     },
     "execution_count": 98,
     "metadata": {},
     "output_type": "execute_result"
    }
   ],
   "source": [
    "s1[-4]"
   ]
  },
  {
   "cell_type": "code",
   "execution_count": 99,
   "id": "830f0481-98e2-4221-b4e0-d5b49d5db801",
   "metadata": {},
   "outputs": [
    {
     "data": {
      "text/plain": [
       "'o'"
      ]
     },
     "execution_count": 99,
     "metadata": {},
     "output_type": "execute_result"
    }
   ],
   "source": [
    "s1[4]"
   ]
  },
  {
   "cell_type": "code",
   "execution_count": 100,
   "id": "b34836ab-0a45-4fb3-bd25-f46781c275cb",
   "metadata": {},
   "outputs": [
    {
     "data": {
      "text/plain": [
       "' '"
      ]
     },
     "execution_count": 100,
     "metadata": {},
     "output_type": "execute_result"
    }
   ],
   "source": [
    "s1[5]"
   ]
  },
  {
   "cell_type": "code",
   "execution_count": 101,
   "id": "809a6fdc-39a8-4172-8022-4629131daf7a",
   "metadata": {},
   "outputs": [
    {
     "data": {
      "text/plain": [
       "'hello python'"
      ]
     },
     "execution_count": 101,
     "metadata": {},
     "output_type": "execute_result"
    }
   ],
   "source": [
    "s1"
   ]
  },
  {
   "cell_type": "code",
   "execution_count": 102,
   "id": "7b33e26c-d6b5-4503-a2ca-ead54127098f",
   "metadata": {},
   "outputs": [
    {
     "data": {
      "text/plain": [
       "' '"
      ]
     },
     "execution_count": 102,
     "metadata": {},
     "output_type": "execute_result"
    }
   ],
   "source": [
    "s1[-7]"
   ]
  },
  {
   "cell_type": "code",
   "execution_count": 103,
   "id": "8c461021-6728-4db6-bda5-1127f98821ac",
   "metadata": {},
   "outputs": [
    {
     "data": {
      "text/plain": [
       "'nit'"
      ]
     },
     "execution_count": 103,
     "metadata": {},
     "output_type": "execute_result"
    }
   ],
   "source": [
    "s"
   ]
  },
  {
   "cell_type": "code",
   "execution_count": 104,
   "id": "cab483be-8e2d-40f5-834f-1df43deb6a96",
   "metadata": {},
   "outputs": [
    {
     "name": "stdout",
     "output_type": "stream",
     "text": [
      "n\n",
      "i\n",
      "t\n"
     ]
    }
   ],
   "source": [
    "print(s[0])\n",
    "print(s[1])\n",
    "print(s[2])"
   ]
  },
  {
   "cell_type": "code",
   "execution_count": 105,
   "id": "4464be2c-e2f0-4525-9a9e-0e711cec6553",
   "metadata": {},
   "outputs": [
    {
     "data": {
      "text/plain": [
       "'hello python'"
      ]
     },
     "execution_count": 105,
     "metadata": {},
     "output_type": "execute_result"
    }
   ],
   "source": [
    "s1[:]"
   ]
  },
  {
   "cell_type": "code",
   "execution_count": 106,
   "id": "f5ab2bb5-6c39-4f20-a831-df8f8cb64a69",
   "metadata": {},
   "outputs": [
    {
     "data": {
      "text/plain": [
       "'hello python'"
      ]
     },
     "execution_count": 106,
     "metadata": {},
     "output_type": "execute_result"
    }
   ],
   "source": [
    "s1"
   ]
  },
  {
   "cell_type": "code",
   "execution_count": 107,
   "id": "0b5188b1-38f6-4316-a088-f32ead7d4c21",
   "metadata": {},
   "outputs": [
    {
     "data": {
      "text/plain": [
       "'llo p'"
      ]
     },
     "execution_count": 107,
     "metadata": {},
     "output_type": "execute_result"
    }
   ],
   "source": [
    "s1[2:7]"
   ]
  },
  {
   "cell_type": "code",
   "execution_count": 108,
   "id": "5cf2797f-508e-4bba-85cf-7be6c52e5d63",
   "metadata": {},
   "outputs": [
    {
     "data": {
      "text/plain": [
       "'nit\\n         hello puyhon'"
      ]
     },
     "execution_count": 108,
     "metadata": {},
     "output_type": "execute_result"
    }
   ],
   "source": [
    "s2"
   ]
  },
  {
   "cell_type": "code",
   "execution_count": 110,
   "id": "458b0a9f-5478-4f3e-9048-5222cc777745",
   "metadata": {},
   "outputs": [
    {
     "data": {
      "text/plain": [
       "'dataanalyst'"
      ]
     },
     "execution_count": 110,
     "metadata": {},
     "output_type": "execute_result"
    }
   ],
   "source": [
    "s3='dataanalyst'\n",
    "s3"
   ]
  },
  {
   "cell_type": "code",
   "execution_count": 111,
   "id": "cf530871-17ca-46df-9104-07990a65a34a",
   "metadata": {},
   "outputs": [
    {
     "data": {
      "text/plain": [
       "'dataanalys'"
      ]
     },
     "execution_count": 111,
     "metadata": {},
     "output_type": "execute_result"
    }
   ],
   "source": [
    "s3[0:10]"
   ]
  },
  {
   "cell_type": "code",
   "execution_count": 112,
   "id": "21238ed9-2582-4e5c-9baa-16e454043428",
   "metadata": {},
   "outputs": [
    {
     "data": {
      "text/plain": [
       "'dataanalyst'"
      ]
     },
     "execution_count": 112,
     "metadata": {},
     "output_type": "execute_result"
    }
   ],
   "source": [
    "s3[0:11]"
   ]
  },
  {
   "cell_type": "code",
   "execution_count": 113,
   "id": "2cb7a457-fd2f-43d4-8b68-a33209e19dd5",
   "metadata": {},
   "outputs": [
    {
     "ename": "IndexError",
     "evalue": "string index out of range",
     "output_type": "error",
     "traceback": [
      "\u001b[1;31m---------------------------------------------------------------------------\u001b[0m",
      "\u001b[1;31mIndexError\u001b[0m                                Traceback (most recent call last)",
      "Cell \u001b[1;32mIn[113], line 1\u001b[0m\n\u001b[1;32m----> 1\u001b[0m s3[\u001b[38;5;241m11\u001b[39m]\n",
      "\u001b[1;31mIndexError\u001b[0m: string index out of range"
     ]
    }
   ],
   "source": [
    "s3[11]"
   ]
  },
  {
   "cell_type": "code",
   "execution_count": 114,
   "id": "a1f7f65e-746c-4d37-b1a3-9f8b766dd55b",
   "metadata": {},
   "outputs": [
    {
     "data": {
      "text/plain": [
       "'dataanalyst'"
      ]
     },
     "execution_count": 114,
     "metadata": {},
     "output_type": "execute_result"
    }
   ],
   "source": [
    "s3"
   ]
  },
  {
   "cell_type": "code",
   "execution_count": 115,
   "id": "f57bcade-00b7-4fa8-9939-f2b2da060b9d",
   "metadata": {},
   "outputs": [
    {
     "data": {
      "text/plain": [
       "'st'"
      ]
     },
     "execution_count": 115,
     "metadata": {},
     "output_type": "execute_result"
    }
   ],
   "source": [
    "s3[9:12]"
   ]
  },
  {
   "cell_type": "code",
   "execution_count": 116,
   "id": "7b8f8957-884f-4075-8e65-172c49e6ab64",
   "metadata": {},
   "outputs": [
    {
     "data": {
      "text/plain": [
       "'dataanalyst'"
      ]
     },
     "execution_count": 116,
     "metadata": {},
     "output_type": "execute_result"
    }
   ],
   "source": [
    "s3"
   ]
  },
  {
   "cell_type": "code",
   "execution_count": 117,
   "id": "065b336d-0a51-4d91-85a0-86ef57355ccf",
   "metadata": {},
   "outputs": [
    {
     "data": {
      "text/plain": [
       "'dtaayt'"
      ]
     },
     "execution_count": 117,
     "metadata": {},
     "output_type": "execute_result"
    }
   ],
   "source": [
    "s3[0:11:2]"
   ]
  },
  {
   "cell_type": "code",
   "execution_count": 118,
   "id": "4bb8a8a1-606b-4645-bcde-dc7372993e73",
   "metadata": {},
   "outputs": [
    {
     "data": {
      "text/plain": [
       "'dataanalyst'"
      ]
     },
     "execution_count": 118,
     "metadata": {},
     "output_type": "execute_result"
    }
   ],
   "source": [
    "s3"
   ]
  },
  {
   "cell_type": "code",
   "execution_count": 119,
   "id": "6b65de48-8c86-4472-ab28-ac09bfe4349b",
   "metadata": {},
   "outputs": [
    {
     "data": {
      "text/plain": [
       "'daas'"
      ]
     },
     "execution_count": 119,
     "metadata": {},
     "output_type": "execute_result"
    }
   ],
   "source": [
    "s3[0:11:3]"
   ]
  },
  {
   "cell_type": "code",
   "execution_count": 120,
   "id": "51a121e2-2e6e-4481-bd3f-278289434389",
   "metadata": {},
   "outputs": [
    {
     "data": {
      "text/plain": [
       "'dataanalyst'"
      ]
     },
     "execution_count": 120,
     "metadata": {},
     "output_type": "execute_result"
    }
   ],
   "source": [
    "s3"
   ]
  },
  {
   "cell_type": "code",
   "execution_count": 121,
   "id": "de8e2e39-804d-48dc-a39e-4eee5f4513d3",
   "metadata": {},
   "outputs": [
    {
     "data": {
      "text/plain": [
       "'taanaly'"
      ]
     },
     "execution_count": 121,
     "metadata": {},
     "output_type": "execute_result"
    }
   ],
   "source": [
    "s3[2:-2]"
   ]
  },
  {
   "cell_type": "code",
   "execution_count": 122,
   "id": "857fd337-e6c9-46a5-9d34-1691b01b98e5",
   "metadata": {},
   "outputs": [
    {
     "data": {
      "text/plain": [
       "'dataanalyst'"
      ]
     },
     "execution_count": 122,
     "metadata": {},
     "output_type": "execute_result"
    }
   ],
   "source": [
    "s3"
   ]
  },
  {
   "cell_type": "code",
   "execution_count": 123,
   "id": "756f8b38-971a-4927-9c38-9a1f92fb2232",
   "metadata": {},
   "outputs": [
    {
     "name": "stdout",
     "output_type": "stream",
     "text": [
      "nit\n",
      "hello python\n",
      "dataanalyst\n"
     ]
    }
   ],
   "source": [
    "print(s)\n",
    "print(s1)\n",
    "#print(s2)\n",
    "print(s3)"
   ]
  },
  {
   "cell_type": "code",
   "execution_count": 124,
   "id": "686383fd-8bef-42d2-80a1-3a77077d2afc",
   "metadata": {},
   "outputs": [
    {
     "data": {
      "text/plain": [
       "'dataanalyst'"
      ]
     },
     "execution_count": 124,
     "metadata": {},
     "output_type": "execute_result"
    }
   ],
   "source": [
    "s3"
   ]
  },
  {
   "cell_type": "code",
   "execution_count": 125,
   "id": "c41d559d-62ae-4903-87c5-3dcaf228e1f3",
   "metadata": {},
   "outputs": [
    {
     "data": {
      "text/plain": [
       "['False',\n",
       " 'None',\n",
       " 'True',\n",
       " 'and',\n",
       " 'as',\n",
       " 'assert',\n",
       " 'async',\n",
       " 'await',\n",
       " 'break',\n",
       " 'class',\n",
       " 'continue',\n",
       " 'def',\n",
       " 'del',\n",
       " 'elif',\n",
       " 'else',\n",
       " 'except',\n",
       " 'finally',\n",
       " 'for',\n",
       " 'from',\n",
       " 'global',\n",
       " 'if',\n",
       " 'import',\n",
       " 'in',\n",
       " 'is',\n",
       " 'lambda',\n",
       " 'nonlocal',\n",
       " 'not',\n",
       " 'or',\n",
       " 'pass',\n",
       " 'raise',\n",
       " 'return',\n",
       " 'try',\n",
       " 'while',\n",
       " 'with',\n",
       " 'yield']"
      ]
     },
     "execution_count": 125,
     "metadata": {},
     "output_type": "execute_result"
    }
   ],
   "source": [
    "import keyword\n",
    "keyword.kwlist"
   ]
  },
  {
   "cell_type": "code",
   "execution_count": 126,
   "id": "b2a71e54-42fc-437f-ac63-401ed7615bd6",
   "metadata": {},
   "outputs": [
    {
     "name": "stdout",
     "output_type": "stream",
     "text": [
      "d\n",
      "a\n",
      "t\n",
      "a\n",
      "a\n",
      "n\n",
      "a\n",
      "l\n",
      "y\n",
      "s\n",
      "t\n"
     ]
    }
   ],
   "source": [
    "for i in s3:\n",
    "    print(i)\n"
   ]
  },
  {
   "cell_type": "markdown",
   "id": "78f554cc-19cd-40c8-a1c7-651b87b98f1b",
   "metadata": {},
   "source": [
    "# Python data type completed \n",
    "python type casting | type conversion"
   ]
  },
  {
   "cell_type": "code",
   "execution_count": 127,
   "id": "810c3319-9d3e-44a9-85e8-7a7d00bf1c34",
   "metadata": {},
   "outputs": [
    {
     "data": {
      "text/plain": [
       "2"
      ]
     },
     "execution_count": 127,
     "metadata": {},
     "output_type": "execute_result"
    }
   ],
   "source": [
    "int(2.3)# float to int"
   ]
  },
  {
   "cell_type": "code",
   "execution_count": 128,
   "id": "89a53bad-76d9-474d-b817-e063ddba9dc3",
   "metadata": {},
   "outputs": [
    {
     "data": {
      "text/plain": [
       "1"
      ]
     },
     "execution_count": 128,
     "metadata": {},
     "output_type": "execute_result"
    }
   ],
   "source": [
    "int(True)#bool to int"
   ]
  },
  {
   "cell_type": "code",
   "execution_count": 129,
   "id": "a4cc9e59-8be4-4b8f-ba77-2f2cf3becdee",
   "metadata": {},
   "outputs": [
    {
     "ename": "TypeError",
     "evalue": "int() argument must be a string, a bytes-like object or a real number, not 'complex'",
     "output_type": "error",
     "traceback": [
      "\u001b[1;31m---------------------------------------------------------------------------\u001b[0m",
      "\u001b[1;31mTypeError\u001b[0m                                 Traceback (most recent call last)",
      "Cell \u001b[1;32mIn[129], line 1\u001b[0m\n\u001b[1;32m----> 1\u001b[0m \u001b[38;5;28mint\u001b[39m(\u001b[38;5;241m1\u001b[39m\u001b[38;5;241m+\u001b[39m\u001b[38;5;241m2\u001b[39mj)\n",
      "\u001b[1;31mTypeError\u001b[0m: int() argument must be a string, a bytes-like object or a real number, not 'complex'"
     ]
    }
   ],
   "source": [
    "int(1+2j) #complex to int not possible"
   ]
  },
  {
   "cell_type": "code",
   "execution_count": 130,
   "id": "09ebfc5a-b13b-4c73-9e49-b5e8e87ada93",
   "metadata": {},
   "outputs": [
    {
     "data": {
      "text/plain": [
       "10"
      ]
     },
     "execution_count": 130,
     "metadata": {},
     "output_type": "execute_result"
    }
   ],
   "source": [
    "int('10')"
   ]
  },
  {
   "cell_type": "code",
   "execution_count": 131,
   "id": "5a969d12-b313-455a-9ab8-87c5153e4dfc",
   "metadata": {},
   "outputs": [
    {
     "ename": "ValueError",
     "evalue": "invalid literal for int() with base 10: 'ten'",
     "output_type": "error",
     "traceback": [
      "\u001b[1;31m---------------------------------------------------------------------------\u001b[0m",
      "\u001b[1;31mValueError\u001b[0m                                Traceback (most recent call last)",
      "Cell \u001b[1;32mIn[131], line 1\u001b[0m\n\u001b[1;32m----> 1\u001b[0m \u001b[38;5;28mint\u001b[39m(\u001b[38;5;124m'\u001b[39m\u001b[38;5;124mten\u001b[39m\u001b[38;5;124m'\u001b[39m)\n",
      "\u001b[1;31mValueError\u001b[0m: invalid literal for int() with base 10: 'ten'"
     ]
    }
   ],
   "source": [
    "int('ten')"
   ]
  },
  {
   "cell_type": "code",
   "execution_count": 132,
   "id": "c158e0c4-aa59-4f39-bde8-e5b1695c81af",
   "metadata": {},
   "outputs": [
    {
     "data": {
      "text/plain": [
       "'nit\\n         hello puyhon'"
      ]
     },
     "execution_count": 132,
     "metadata": {},
     "output_type": "execute_result"
    }
   ],
   "source": [
    "s2"
   ]
  },
  {
   "cell_type": "code",
   "execution_count": 133,
   "id": "5525748d-374a-4074-8477-78e64abd27d8",
   "metadata": {},
   "outputs": [],
   "source": [
    "del s2 "
   ]
  },
  {
   "cell_type": "code",
   "execution_count": 134,
   "id": "ade6f7b2-a50b-4589-ac50-53e1af7b6d33",
   "metadata": {},
   "outputs": [
    {
     "ename": "NameError",
     "evalue": "name 's2' is not defined",
     "output_type": "error",
     "traceback": [
      "\u001b[1;31m---------------------------------------------------------------------------\u001b[0m",
      "\u001b[1;31mNameError\u001b[0m                                 Traceback (most recent call last)",
      "Cell \u001b[1;32mIn[134], line 1\u001b[0m\n\u001b[1;32m----> 1\u001b[0m s2\n",
      "\u001b[1;31mNameError\u001b[0m: name 's2' is not defined"
     ]
    }
   ],
   "source": [
    "s2"
   ]
  },
  {
   "cell_type": "code",
   "execution_count": 1,
   "id": "e0eaf9e9-902b-45c9-8917-44c7dbc44c14",
   "metadata": {},
   "outputs": [
    {
     "ename": "NameError",
     "evalue": "name 'np' is not defined",
     "output_type": "error",
     "traceback": [
      "\u001b[1;31m---------------------------------------------------------------------------\u001b[0m",
      "\u001b[1;31mNameError\u001b[0m                                 Traceback (most recent call last)",
      "Cell \u001b[1;32mIn[1], line 1\u001b[0m\n\u001b[1;32m----> 1\u001b[0m np\u001b[38;5;241m.\u001b[39mnan\n",
      "\u001b[1;31mNameError\u001b[0m: name 'np' is not defined"
     ]
    }
   ],
   "source": [
    "np.nan"
   ]
  },
  {
   "cell_type": "code",
   "execution_count": 2,
   "id": "ec7069c0-815c-44ad-9ba6-7d0160c7ee7b",
   "metadata": {},
   "outputs": [],
   "source": [
    "import numpy as np\n",
    "a=np.nan"
   ]
  },
  {
   "cell_type": "code",
   "execution_count": 3,
   "id": "835f01e0-d10e-4ed3-b5fc-b85bb256b39c",
   "metadata": {},
   "outputs": [
    {
     "data": {
      "text/plain": [
       "float"
      ]
     },
     "execution_count": 3,
     "metadata": {},
     "output_type": "execute_result"
    }
   ],
   "source": [
    "type(a)"
   ]
  },
  {
   "cell_type": "markdown",
   "id": "5cd7b56c-eb99-4823-8108-72d99740c703",
   "metadata": {},
   "source": [
    "# 25th oct"
   ]
  },
  {
   "cell_type": "code",
   "execution_count": 4,
   "id": "883c2105-1940-4d37-a197-debbaa5dc9a8",
   "metadata": {},
   "outputs": [
    {
     "data": {
      "text/plain": [
       "3.0"
      ]
     },
     "execution_count": 4,
     "metadata": {},
     "output_type": "execute_result"
    }
   ],
   "source": [
    "float(3)"
   ]
  },
  {
   "cell_type": "code",
   "execution_count": 5,
   "id": "d8f87472-61d9-4384-b423-bdca9910a7b2",
   "metadata": {},
   "outputs": [
    {
     "data": {
      "text/plain": [
       "1.0"
      ]
     },
     "execution_count": 5,
     "metadata": {},
     "output_type": "execute_result"
    }
   ],
   "source": [
    "float(True)"
   ]
  },
  {
   "cell_type": "code",
   "execution_count": 6,
   "id": "18b2c8d3-68a3-4db8-9cd5-1d56c2f175e6",
   "metadata": {},
   "outputs": [
    {
     "ename": "TypeError",
     "evalue": "float() argument must be a string or a real number, not 'complex'",
     "output_type": "error",
     "traceback": [
      "\u001b[1;31m---------------------------------------------------------------------------\u001b[0m",
      "\u001b[1;31mTypeError\u001b[0m                                 Traceback (most recent call last)",
      "Cell \u001b[1;32mIn[6], line 1\u001b[0m\n\u001b[1;32m----> 1\u001b[0m \u001b[38;5;28mfloat\u001b[39m(\u001b[38;5;241m1\u001b[39m\u001b[38;5;241m+\u001b[39m\u001b[38;5;241m2\u001b[39mj)\n",
      "\u001b[1;31mTypeError\u001b[0m: float() argument must be a string or a real number, not 'complex'"
     ]
    }
   ],
   "source": [
    "float(1+2j)"
   ]
  },
  {
   "cell_type": "code",
   "execution_count": 7,
   "id": "ab683d14-bc62-48a2-8edf-681acb84c735",
   "metadata": {},
   "outputs": [
    {
     "ename": "TypeError",
     "evalue": "float expected at most 1 argument, got 2",
     "output_type": "error",
     "traceback": [
      "\u001b[1;31m---------------------------------------------------------------------------\u001b[0m",
      "\u001b[1;31mTypeError\u001b[0m                                 Traceback (most recent call last)",
      "Cell \u001b[1;32mIn[7], line 1\u001b[0m\n\u001b[1;32m----> 1\u001b[0m \u001b[38;5;28mfloat\u001b[39m(\u001b[38;5;241m3\u001b[39m,\u001b[38;5;241m4\u001b[39m)\n",
      "\u001b[1;31mTypeError\u001b[0m: float expected at most 1 argument, got 2"
     ]
    }
   ],
   "source": [
    "float(3,4)"
   ]
  },
  {
   "cell_type": "code",
   "execution_count": 8,
   "id": "67bd09d6-25e3-4944-9b93-a1a543572b42",
   "metadata": {},
   "outputs": [
    {
     "data": {
      "text/plain": [
       "10.0"
      ]
     },
     "execution_count": 8,
     "metadata": {},
     "output_type": "execute_result"
    }
   ],
   "source": [
    "float('10')"
   ]
  },
  {
   "cell_type": "code",
   "execution_count": 9,
   "id": "ffe402a8-4997-4367-acac-f890e33e09d1",
   "metadata": {},
   "outputs": [
    {
     "ename": "ValueError",
     "evalue": "could not convert string to float: 'ten'",
     "output_type": "error",
     "traceback": [
      "\u001b[1;31m---------------------------------------------------------------------------\u001b[0m",
      "\u001b[1;31mValueError\u001b[0m                                Traceback (most recent call last)",
      "Cell \u001b[1;32mIn[9], line 1\u001b[0m\n\u001b[1;32m----> 1\u001b[0m \u001b[38;5;28mfloat\u001b[39m(\u001b[38;5;124m'\u001b[39m\u001b[38;5;124mten\u001b[39m\u001b[38;5;124m'\u001b[39m)\n",
      "\u001b[1;31mValueError\u001b[0m: could not convert string to float: 'ten'"
     ]
    }
   ],
   "source": [
    "float('ten')"
   ]
  },
  {
   "cell_type": "code",
   "execution_count": 10,
   "id": "11eb8dc9-279b-45e5-a5e1-fbe552d7d6ba",
   "metadata": {},
   "outputs": [
    {
     "data": {
      "text/plain": [
       "(10+0j)"
      ]
     },
     "execution_count": 10,
     "metadata": {},
     "output_type": "execute_result"
    }
   ],
   "source": [
    "complex(10)"
   ]
  },
  {
   "cell_type": "code",
   "execution_count": 11,
   "id": "3a18a3b3-9f4f-4b8f-8ebc-66671aa783d2",
   "metadata": {},
   "outputs": [
    {
     "data": {
      "text/plain": [
       "(10+20j)"
      ]
     },
     "execution_count": 11,
     "metadata": {},
     "output_type": "execute_result"
    }
   ],
   "source": [
    "complex(10,20)"
   ]
  },
  {
   "cell_type": "code",
   "execution_count": 12,
   "id": "10b74c78-46dd-4f98-9a85-a3c4ee09941e",
   "metadata": {},
   "outputs": [
    {
     "ename": "TypeError",
     "evalue": "complex() takes at most 2 arguments (3 given)",
     "output_type": "error",
     "traceback": [
      "\u001b[1;31m---------------------------------------------------------------------------\u001b[0m",
      "\u001b[1;31mTypeError\u001b[0m                                 Traceback (most recent call last)",
      "Cell \u001b[1;32mIn[12], line 1\u001b[0m\n\u001b[1;32m----> 1\u001b[0m \u001b[38;5;28mcomplex\u001b[39m(\u001b[38;5;241m10\u001b[39m,\u001b[38;5;241m20\u001b[39m,\u001b[38;5;241m30\u001b[39m)\n",
      "\u001b[1;31mTypeError\u001b[0m: complex() takes at most 2 arguments (3 given)"
     ]
    }
   ],
   "source": [
    "complex(10,20,30)"
   ]
  },
  {
   "cell_type": "code",
   "execution_count": 13,
   "id": "f94babd3-8590-4d42-bf17-e972be7584b3",
   "metadata": {},
   "outputs": [
    {
     "data": {
      "text/plain": [
       "(2.3+0j)"
      ]
     },
     "execution_count": 13,
     "metadata": {},
     "output_type": "execute_result"
    }
   ],
   "source": [
    "complex(2.3)"
   ]
  },
  {
   "cell_type": "code",
   "execution_count": 14,
   "id": "779cfbba-d96e-4675-823f-d578454d650e",
   "metadata": {},
   "outputs": [
    {
     "data": {
      "text/plain": [
       "(2.3+10j)"
      ]
     },
     "execution_count": 14,
     "metadata": {},
     "output_type": "execute_result"
    }
   ],
   "source": [
    "complex(2.3,10)"
   ]
  },
  {
   "cell_type": "code",
   "execution_count": 15,
   "id": "69e7781c-be0e-408a-a968-8ae756dd3b80",
   "metadata": {},
   "outputs": [
    {
     "data": {
      "text/plain": [
       "(1+0j)"
      ]
     },
     "execution_count": 15,
     "metadata": {},
     "output_type": "execute_result"
    }
   ],
   "source": [
    "complex(True)"
   ]
  },
  {
   "cell_type": "code",
   "execution_count": 16,
   "id": "4c351774-b3db-493a-8328-3a7d2e4dbb05",
   "metadata": {},
   "outputs": [
    {
     "data": {
      "text/plain": [
       "0j"
      ]
     },
     "execution_count": 16,
     "metadata": {},
     "output_type": "execute_result"
    }
   ],
   "source": [
    "complex(False)"
   ]
  },
  {
   "cell_type": "code",
   "execution_count": 17,
   "id": "c4bca190-4114-467e-894d-332feb2d4d05",
   "metadata": {},
   "outputs": [
    {
     "data": {
      "text/plain": [
       "(10+0j)"
      ]
     },
     "execution_count": 17,
     "metadata": {},
     "output_type": "execute_result"
    }
   ],
   "source": [
    "complex('10')"
   ]
  },
  {
   "cell_type": "code",
   "execution_count": 18,
   "id": "80084944-93c7-4f0f-a3ae-3e2f0733fb72",
   "metadata": {},
   "outputs": [
    {
     "data": {
      "text/plain": [
       "True"
      ]
     },
     "execution_count": 18,
     "metadata": {},
     "output_type": "execute_result"
    }
   ],
   "source": [
    "bool(1)"
   ]
  },
  {
   "cell_type": "code",
   "execution_count": 19,
   "id": "09a40074-10af-45d8-ac8b-81f15ec9b3fc",
   "metadata": {},
   "outputs": [
    {
     "data": {
      "text/plain": [
       "False"
      ]
     },
     "execution_count": 19,
     "metadata": {},
     "output_type": "execute_result"
    }
   ],
   "source": [
    "bool(0)"
   ]
  },
  {
   "cell_type": "code",
   "execution_count": 20,
   "id": "87ecda79-7d60-441f-8fed-2f60ae6a3d8a",
   "metadata": {},
   "outputs": [
    {
     "data": {
      "text/plain": [
       "True"
      ]
     },
     "execution_count": 20,
     "metadata": {},
     "output_type": "execute_result"
    }
   ],
   "source": [
    "bool(2.3)"
   ]
  },
  {
   "cell_type": "code",
   "execution_count": 21,
   "id": "5158ac14-f6e2-4ce8-81de-122c292f4921",
   "metadata": {},
   "outputs": [
    {
     "data": {
      "text/plain": [
       "False"
      ]
     },
     "execution_count": 21,
     "metadata": {},
     "output_type": "execute_result"
    }
   ],
   "source": [
    "bool()"
   ]
  },
  {
   "cell_type": "code",
   "execution_count": 22,
   "id": "d8b40025-2733-4b94-8f37-978d2099e56d",
   "metadata": {},
   "outputs": [
    {
     "data": {
      "text/plain": [
       "False"
      ]
     },
     "execution_count": 22,
     "metadata": {},
     "output_type": "execute_result"
    }
   ],
   "source": [
    "bool( )"
   ]
  },
  {
   "cell_type": "code",
   "execution_count": 23,
   "id": "cac5e1a7-742c-4b45-b2d6-5206baac4fd1",
   "metadata": {},
   "outputs": [
    {
     "data": {
      "text/plain": [
       "True"
      ]
     },
     "execution_count": 23,
     "metadata": {},
     "output_type": "execute_result"
    }
   ],
   "source": [
    "bool('nit')"
   ]
  },
  {
   "cell_type": "code",
   "execution_count": 24,
   "id": "1672a7a1-8f79-4ad6-a67c-fa7c22b8fe41",
   "metadata": {},
   "outputs": [
    {
     "data": {
      "text/plain": [
       "True"
      ]
     },
     "execution_count": 24,
     "metadata": {},
     "output_type": "execute_result"
    }
   ],
   "source": [
    "bool(10+2j)"
   ]
  },
  {
   "cell_type": "code",
   "execution_count": 25,
   "id": "ea9246c4-c231-4eb1-8d6d-da262f4b8966",
   "metadata": {},
   "outputs": [
    {
     "data": {
      "text/plain": [
       "False"
      ]
     },
     "execution_count": 25,
     "metadata": {},
     "output_type": "execute_result"
    }
   ],
   "source": [
    "bool(0+0j)"
   ]
  },
  {
   "cell_type": "code",
   "execution_count": 26,
   "id": "be4e7f3f-3fe4-465b-af1a-6aa91afe3fdd",
   "metadata": {},
   "outputs": [
    {
     "name": "stdout",
     "output_type": "stream",
     "text": [
      "2\n",
      "2.3\n",
      "True\n",
      "(1+2j)\n"
     ]
    }
   ],
   "source": [
    "print(str(2))\n",
    "print(str(2.3))\n",
    "print(str(True))\n",
    "print(str(1+2j))"
   ]
  },
  {
   "cell_type": "markdown",
   "id": "ebad82ff-b508-417e-aa1a-9f74bd8fbc58",
   "metadata": {},
   "source": [
    "# python type casting (convert all other datatype of one datatype)"
   ]
  },
  {
   "cell_type": "code",
   "execution_count": 27,
   "id": "1c709291-5869-47aa-8676-aed4630cd35a",
   "metadata": {},
   "outputs": [
    {
     "data": {
      "text/plain": [
       "'HELLOPYTHON'"
      ]
     },
     "execution_count": 27,
     "metadata": {},
     "output_type": "execute_result"
    }
   ],
   "source": [
    "index='HELLOPYTHON'\n",
    "index"
   ]
  },
  {
   "cell_type": "code",
   "execution_count": 28,
   "id": "163c51b7-b03f-4a39-8f51-a851d5681fd4",
   "metadata": {},
   "outputs": [
    {
     "data": {
      "text/plain": [
       "'HELLOPYTHON'"
      ]
     },
     "execution_count": 28,
     "metadata": {},
     "output_type": "execute_result"
    }
   ],
   "source": [
    "index[:]"
   ]
  },
  {
   "cell_type": "code",
   "execution_count": 29,
   "id": "69d541d4-562e-4cec-bf67-d87c404c6925",
   "metadata": {},
   "outputs": [
    {
     "data": {
      "text/plain": [
       "'NOHTYPOLLEH'"
      ]
     },
     "execution_count": 29,
     "metadata": {},
     "output_type": "execute_result"
    }
   ],
   "source": [
    "index[::-1]"
   ]
  },
  {
   "cell_type": "code",
   "execution_count": 30,
   "id": "637ad7ff-3ae4-4830-85da-5bcd34887ab5",
   "metadata": {},
   "outputs": [
    {
     "data": {
      "text/plain": [
       "'HELLOPYTHON'"
      ]
     },
     "execution_count": 30,
     "metadata": {},
     "output_type": "execute_result"
    }
   ],
   "source": [
    "index"
   ]
  },
  {
   "cell_type": "code",
   "execution_count": 31,
   "id": "cd1d824c-59e0-4a0f-accd-c5b7db6d2454",
   "metadata": {},
   "outputs": [
    {
     "data": {
      "text/plain": [
       "'NHYOLH'"
      ]
     },
     "execution_count": 31,
     "metadata": {},
     "output_type": "execute_result"
    }
   ],
   "source": [
    "index[::-2]"
   ]
  },
  {
   "cell_type": "code",
   "execution_count": 32,
   "id": "6f33eadb-4969-4041-ae80-6675e35563c5",
   "metadata": {},
   "outputs": [
    {
     "data": {
      "text/plain": [
       "'HELLOPYTHON'"
      ]
     },
     "execution_count": 32,
     "metadata": {},
     "output_type": "execute_result"
    }
   ],
   "source": [
    "index"
   ]
  },
  {
   "cell_type": "code",
   "execution_count": 33,
   "id": "2a99e187-df11-4f3e-ae48-23c08914b1d8",
   "metadata": {},
   "outputs": [
    {
     "data": {
      "text/plain": [
       "'NYL'"
      ]
     },
     "execution_count": 33,
     "metadata": {},
     "output_type": "execute_result"
    }
   ],
   "source": [
    "index[::-4]"
   ]
  },
  {
   "cell_type": "code",
   "execution_count": 34,
   "id": "b6958e2c-7bc0-4488-9059-806e42427007",
   "metadata": {},
   "outputs": [
    {
     "data": {
      "text/plain": [
       "'HELLOPYTHON'"
      ]
     },
     "execution_count": 34,
     "metadata": {},
     "output_type": "execute_result"
    }
   ],
   "source": [
    "index"
   ]
  },
  {
   "cell_type": "code",
   "execution_count": 35,
   "id": "668168ea-c55b-40cd-ba3b-1ffced1568fe",
   "metadata": {},
   "outputs": [
    {
     "data": {
      "text/plain": [
       "'HELLOPY'"
      ]
     },
     "execution_count": 35,
     "metadata": {},
     "output_type": "execute_result"
    }
   ],
   "source": [
    "index[:-4]"
   ]
  },
  {
   "cell_type": "code",
   "execution_count": 36,
   "id": "abe6e144-0f41-40e5-adb9-0a8a4d3f916e",
   "metadata": {},
   "outputs": [
    {
     "data": {
      "text/plain": [
       "'HELLOPYTHON'"
      ]
     },
     "execution_count": 36,
     "metadata": {},
     "output_type": "execute_result"
    }
   ],
   "source": [
    "index"
   ]
  },
  {
   "cell_type": "code",
   "execution_count": 37,
   "id": "671d311c-a718-4c5c-801b-94384c1bc23a",
   "metadata": {},
   "outputs": [
    {
     "data": {
      "text/plain": [
       "'EOT'"
      ]
     },
     "execution_count": 37,
     "metadata": {},
     "output_type": "execute_result"
    }
   ],
   "source": [
    "index[1:10:3]"
   ]
  },
  {
   "cell_type": "code",
   "execution_count": 38,
   "id": "5232e0e4-80c8-4964-a1f7-81d8cf6eff54",
   "metadata": {},
   "outputs": [
    {
     "data": {
      "text/plain": [
       "'HELLOPYTHON'"
      ]
     },
     "execution_count": 38,
     "metadata": {},
     "output_type": "execute_result"
    }
   ],
   "source": [
    "index"
   ]
  },
  {
   "cell_type": "code",
   "execution_count": 39,
   "id": "da2683d6-3084-45c4-b20c-a0456ab3a4cf",
   "metadata": {},
   "outputs": [
    {
     "data": {
      "text/plain": [
       "'NHYOLH'"
      ]
     },
     "execution_count": 39,
     "metadata": {},
     "output_type": "execute_result"
    }
   ],
   "source": [
    "index[::-2]"
   ]
  },
  {
   "cell_type": "markdown",
   "id": "2bd4df8d-dd41-4b9f-9357-5d6d2c3737ec",
   "metadata": {},
   "source": [
    "# python type casting we are completed"
   ]
  },
  {
   "cell_type": "code",
   "execution_count": 40,
   "id": "5cb2e8d9-791b-42d5-9f23-ba20854276ab",
   "metadata": {},
   "outputs": [
    {
     "data": {
      "image/png": "[encoded data removed]",
      "text/plain": [
       "<Figure size 640x480 with 1 Axes>"
      ]
     },
     "metadata": {},
     "output_type": "display_data"
    }
   ],
   "source": [
    "import matplotlib.pyplot as plt\n",
    "plt.plot([1,4,9,16])\n",
    "plt.ylabel('Numbers')\n",
    "plt.show()"
   ]
  },
  {
   "cell_type": "code",
   "execution_count": 41,
   "id": "7a15d2f1-a95c-44d3-b86b-e548a5dcc72b",
   "metadata": {},
   "outputs": [
    {
     "data": {
      "image/png": "[encoded data removed]",
      "text/plain": [
       "<Figure size 640x480 with 1 Axes>"
      ]
     },
     "metadata": {},
     "output_type": "display_data"
    }
   ],
   "source": [
    "import matplotlib.pyplot as plt\n",
    "plt.plot([1,8,27,64])\n",
    "plt.ylabel('Numbers')\n",
    "plt.show()"
   ]
  },
  {
   "cell_type": "markdown",
   "id": "5b908967-a303-4052-8732-d49807497b24",
   "metadata": {},
   "source": [
    "# 26th -DATA STRUCTURE"
   ]
  },
  {
   "cell_type": "code",
   "execution_count": 43,
   "id": "931284d2-96f3-4388-be10-25e7c40cf7de",
   "metadata": {},
   "outputs": [
    {
     "data": {
      "text/plain": [
       "[]"
      ]
     },
     "execution_count": 43,
     "metadata": {},
     "output_type": "execute_result"
    }
   ],
   "source": [
    "l=[]\n",
    "l"
   ]
  },
  {
   "cell_type": "code",
   "execution_count": 44,
   "id": "eab9090e-13de-42d1-bc18-b4bce0a93cb7",
   "metadata": {},
   "outputs": [
    {
     "data": {
      "text/plain": [
       "list"
      ]
     },
     "execution_count": 44,
     "metadata": {},
     "output_type": "execute_result"
    }
   ],
   "source": [
    "type(l)"
   ]
  },
  {
   "cell_type": "code",
   "execution_count": 45,
   "id": "1a3fc3d6-2f38-4bc4-ab0e-7c0a91b590c1",
   "metadata": {},
   "outputs": [
    {
     "data": {
      "text/plain": [
       "[]"
      ]
     },
     "execution_count": 45,
     "metadata": {},
     "output_type": "execute_result"
    }
   ],
   "source": [
    "l"
   ]
  },
  {
   "cell_type": "code",
   "execution_count": 46,
   "id": "4348db5e-7473-4c8f-b962-e425db9a886c",
   "metadata": {},
   "outputs": [
    {
     "data": {
      "text/plain": [
       "[10]"
      ]
     },
     "execution_count": 46,
     "metadata": {},
     "output_type": "execute_result"
    }
   ],
   "source": [
    "l.append(10)\n",
    "l"
   ]
  },
  {
   "cell_type": "code",
   "execution_count": 47,
   "id": "787d7a13-4f02-4a51-949c-72db3fd97ee7",
   "metadata": {},
   "outputs": [],
   "source": [
    "l.append(20)\n",
    "l.append(30)"
   ]
  },
  {
   "cell_type": "code",
   "execution_count": 48,
   "id": "0b83259c-cb71-4615-bb4b-c16dcc378a93",
   "metadata": {},
   "outputs": [
    {
     "data": {
      "text/plain": [
       "[10, 20, 30]"
      ]
     },
     "execution_count": 48,
     "metadata": {},
     "output_type": "execute_result"
    }
   ],
   "source": [
    "l"
   ]
  },
  {
   "cell_type": "code",
   "execution_count": 49,
   "id": "8227aed5-0904-4122-b954-82406c839b5a",
   "metadata": {},
   "outputs": [
    {
     "data": {
      "text/plain": [
       "[10, 20, 30, 2.3]"
      ]
     },
     "execution_count": 49,
     "metadata": {},
     "output_type": "execute_result"
    }
   ],
   "source": [
    "l.append(2.3)\n",
    "l"
   ]
  },
  {
   "cell_type": "code",
   "execution_count": 50,
   "id": "d3d400e5-3236-4235-8dea-09bf82b0e576",
   "metadata": {},
   "outputs": [],
   "source": [
    "l.append(1+2j)\n",
    "l.append(True)\n",
    "l.append('nit')"
   ]
  },
  {
   "cell_type": "code",
   "execution_count": 51,
   "id": "0dc02ee2-42c5-4906-8d71-5e22a81a9553",
   "metadata": {},
   "outputs": [
    {
     "data": {
      "text/plain": [
       "[10, 20, 30, 2.3, (1+2j), True, 'nit']"
      ]
     },
     "execution_count": 51,
     "metadata": {},
     "output_type": "execute_result"
    }
   ],
   "source": [
    "l"
   ]
  },
  {
   "cell_type": "code",
   "execution_count": 53,
   "id": "43676d76-c566-46ad-9dd9-ea8f851f923c",
   "metadata": {},
   "outputs": [
    {
     "data": {
      "text/plain": [
       "7"
      ]
     },
     "execution_count": 53,
     "metadata": {},
     "output_type": "execute_result"
    }
   ],
   "source": [
    "len(l)"
   ]
  },
  {
   "cell_type": "code",
   "execution_count": 54,
   "id": "a9e00a75-de4e-47ae-93bd-7c5a68055bbb",
   "metadata": {},
   "outputs": [
    {
     "data": {
      "text/plain": [
       "[10, 20, 30, 2.3, (1+2j), True, 'nit', 10]"
      ]
     },
     "execution_count": 54,
     "metadata": {},
     "output_type": "execute_result"
    }
   ],
   "source": [
    "l.append(10)\n",
    "l"
   ]
  },
  {
   "cell_type": "code",
   "execution_count": 55,
   "id": "ac2b4a5c-4482-4b75-b007-ce73d79101c1",
   "metadata": {},
   "outputs": [
    {
     "data": {
      "text/plain": [
       "[20, 30, 2.3, (1+2j), True, 'nit', 10]"
      ]
     },
     "execution_count": 55,
     "metadata": {},
     "output_type": "execute_result"
    }
   ],
   "source": [
    "l.remove(10)\n",
    "l"
   ]
  },
  {
   "cell_type": "code",
   "execution_count": 56,
   "id": "45bd6b95-414e-48bb-b0d6-f7ad66928b5f",
   "metadata": {},
   "outputs": [
    {
     "data": {
      "text/plain": [
       "[20, 30, 2.3, (1+2j), True, 'nit']"
      ]
     },
     "execution_count": 56,
     "metadata": {},
     "output_type": "execute_result"
    }
   ],
   "source": [
    "l.remove(10)\n",
    "l"
   ]
  },
  {
   "cell_type": "code",
   "execution_count": 57,
   "id": "05390f89-3406-4560-aa77-25db83f26e22",
   "metadata": {},
   "outputs": [
    {
     "data": {
      "text/plain": [
       "[20, 30, 2.3, (1+2j), True, 'nit']"
      ]
     },
     "execution_count": 57,
     "metadata": {},
     "output_type": "execute_result"
    }
   ],
   "source": [
    "l"
   ]
  },
  {
   "cell_type": "code",
   "execution_count": 58,
   "id": "f54ebbd3-8a46-4f51-9f3e-caa01b67de17",
   "metadata": {},
   "outputs": [
    {
     "data": {
      "text/plain": [
       "[20, 30, 2.3, (1+2j), True, 'nit']"
      ]
     },
     "execution_count": 58,
     "metadata": {},
     "output_type": "execute_result"
    }
   ],
   "source": [
    "l1=l.copy()\n",
    "l1"
   ]
  },
  {
   "cell_type": "code",
   "execution_count": 59,
   "id": "4c91ea39-bdd6-48e8-a128-13a7b130e202",
   "metadata": {},
   "outputs": [
    {
     "data": {
      "text/plain": [
       "True"
      ]
     },
     "execution_count": 59,
     "metadata": {},
     "output_type": "execute_result"
    }
   ],
   "source": [
    "l==l1"
   ]
  },
  {
   "cell_type": "code",
   "execution_count": 60,
   "id": "eaab1a86-a77c-4e47-a3ec-eee68c9e0431",
   "metadata": {},
   "outputs": [
    {
     "data": {
      "text/plain": [
       "[20, 30, 2.3, (1+2j), True, 'nit']"
      ]
     },
     "execution_count": 60,
     "metadata": {},
     "output_type": "execute_result"
    }
   ],
   "source": [
    "l"
   ]
  },
  {
   "cell_type": "code",
   "execution_count": 61,
   "id": "4ff80d92-8e68-4ee3-a9fa-4d1c9a60ea8d",
   "metadata": {},
   "outputs": [
    {
     "data": {
      "text/plain": [
       "1"
      ]
     },
     "execution_count": 61,
     "metadata": {},
     "output_type": "execute_result"
    }
   ],
   "source": [
    "l.count(20)"
   ]
  },
  {
   "cell_type": "code",
   "execution_count": 62,
   "id": "e6a96feb-cb2b-4083-ade6-625137717a3f",
   "metadata": {},
   "outputs": [],
   "source": [
    "l.append(20)"
   ]
  },
  {
   "cell_type": "code",
   "execution_count": 63,
   "id": "54ea8fff-2f55-45e1-b0be-36556025574f",
   "metadata": {},
   "outputs": [
    {
     "data": {
      "text/plain": [
       "[20, 30, 2.3, (1+2j), True, 'nit', 20]"
      ]
     },
     "execution_count": 63,
     "metadata": {},
     "output_type": "execute_result"
    }
   ],
   "source": [
    "l"
   ]
  },
  {
   "cell_type": "code",
   "execution_count": 64,
   "id": "6d6560e8-5d35-454b-92a9-95a13ed81c0b",
   "metadata": {},
   "outputs": [
    {
     "data": {
      "text/plain": [
       "2"
      ]
     },
     "execution_count": 64,
     "metadata": {},
     "output_type": "execute_result"
    }
   ],
   "source": [
    "l.count(20)"
   ]
  },
  {
   "cell_type": "code",
   "execution_count": 65,
   "id": "0eee129b-8e0b-4f10-b962-c27fd1166fe5",
   "metadata": {},
   "outputs": [
    {
     "data": {
      "text/plain": [
       "[20, 30, 2.3, (1+2j), True, 'nit', 20]"
      ]
     },
     "execution_count": 65,
     "metadata": {},
     "output_type": "execute_result"
    }
   ],
   "source": [
    "l"
   ]
  },
  {
   "cell_type": "code",
   "execution_count": 66,
   "id": "1d122a87-1132-4a02-88b1-095ff42396b6",
   "metadata": {},
   "outputs": [
    {
     "data": {
      "text/plain": [
       "[20, 30, 2.3, (1+2j), True, 'nit']"
      ]
     },
     "execution_count": 66,
     "metadata": {},
     "output_type": "execute_result"
    }
   ],
   "source": [
    "l1"
   ]
  },
  {
   "cell_type": "code",
   "execution_count": 67,
   "id": "449459b8-63f1-406f-bdd0-31b4ca7e36f4",
   "metadata": {},
   "outputs": [
    {
     "data": {
      "text/plain": [
       "False"
      ]
     },
     "execution_count": 67,
     "metadata": {},
     "output_type": "execute_result"
    }
   ],
   "source": [
    "l==l1"
   ]
  },
  {
   "cell_type": "code",
   "execution_count": 68,
   "id": "ef73db41-a733-4cf3-8599-05f40e7ad9b9",
   "metadata": {},
   "outputs": [
    {
     "name": "stdout",
     "output_type": "stream",
     "text": [
      "7\n",
      "6\n"
     ]
    }
   ],
   "source": [
    "print(len(l))\n",
    "print(len(l1))"
   ]
  },
  {
   "cell_type": "code",
   "execution_count": 69,
   "id": "7a3e11b4-023a-4624-9289-9271f0aa0125",
   "metadata": {},
   "outputs": [
    {
     "data": {
      "text/plain": [
       "[20, 30, 2.3, (1+2j), True, 'nit', 20]"
      ]
     },
     "execution_count": 69,
     "metadata": {},
     "output_type": "execute_result"
    }
   ],
   "source": [
    "l"
   ]
  },
  {
   "cell_type": "code",
   "execution_count": 70,
   "id": "7908b911-0331-4cd2-811a-5f2e4025bf6d",
   "metadata": {},
   "outputs": [
    {
     "data": {
      "text/plain": [
       "[20, 30, 2.3, (1+2j), True, 'nit', 20]"
      ]
     },
     "execution_count": 70,
     "metadata": {},
     "output_type": "execute_result"
    }
   ],
   "source": [
    "l[:]"
   ]
  },
  {
   "cell_type": "code",
   "execution_count": 71,
   "id": "969011e8-a855-4746-9b57-c080573e0adc",
   "metadata": {},
   "outputs": [
    {
     "data": {
      "text/plain": [
       "True"
      ]
     },
     "execution_count": 71,
     "metadata": {},
     "output_type": "execute_result"
    }
   ],
   "source": [
    "l[4]"
   ]
  },
  {
   "cell_type": "code",
   "execution_count": 72,
   "id": "2d6e9a69-f3dc-4308-9a3d-6a05e857624f",
   "metadata": {},
   "outputs": [
    {
     "data": {
      "text/plain": [
       "[20, 30, 2.3, (1+2j), True, 'nit', 20]"
      ]
     },
     "execution_count": 72,
     "metadata": {},
     "output_type": "execute_result"
    }
   ],
   "source": [
    "l"
   ]
  },
  {
   "cell_type": "code",
   "execution_count": 73,
   "id": "03fa6b38-d867-4fbf-85ff-3d4c25c0af00",
   "metadata": {},
   "outputs": [
    {
     "data": {
      "text/plain": [
       "1"
      ]
     },
     "execution_count": 73,
     "metadata": {},
     "output_type": "execute_result"
    }
   ],
   "source": [
    "l.count(30)"
   ]
  },
  {
   "cell_type": "code",
   "execution_count": 74,
   "id": "35c6743a-c122-4786-8e35-4bdaacd454e2",
   "metadata": {},
   "outputs": [
    {
     "data": {
      "text/plain": [
       "[20, 30, 2.3, (1+2j), True, 'nit', 20]"
      ]
     },
     "execution_count": 74,
     "metadata": {},
     "output_type": "execute_result"
    }
   ],
   "source": [
    "l"
   ]
  },
  {
   "cell_type": "markdown",
   "id": "4398c019-48e3-49d1-81a1-e9cee886f025",
   "metadata": {},
   "source": [
    "# 28th -LIST data structure"
   ]
  },
  {
   "cell_type": "code",
   "execution_count": 75,
   "id": "e9abcb0c-3422-4092-a7a0-ee97b54ccabf",
   "metadata": {},
   "outputs": [
    {
     "data": {
      "text/plain": [
       "[]"
      ]
     },
     "execution_count": 75,
     "metadata": {},
     "output_type": "execute_result"
    }
   ],
   "source": [
    "l2=[]\n",
    "l2"
   ]
  },
  {
   "cell_type": "code",
   "execution_count": 76,
   "id": "0ec6c09e-67a6-4dc5-9765-e0ab04a5f3c8",
   "metadata": {},
   "outputs": [],
   "source": [
    "l2.append(1)\n",
    "l2.append(2.3)\n",
    "l2.append(True)\n",
    "l2.append(1+2j)\n",
    "l2.append('nit')"
   ]
  },
  {
   "cell_type": "code",
   "execution_count": 77,
   "id": "6089ce74-f05c-43ff-bb69-aeb1c3e381da",
   "metadata": {},
   "outputs": [
    {
     "data": {
      "text/plain": [
       "[1, 2.3, True, (1+2j), 'nit']"
      ]
     },
     "execution_count": 77,
     "metadata": {},
     "output_type": "execute_result"
    }
   ],
   "source": [
    "l2"
   ]
  },
  {
   "cell_type": "code",
   "execution_count": 78,
   "id": "91ce8f6f-7025-4dd4-a473-d8c614f8fc41",
   "metadata": {},
   "outputs": [
    {
     "data": {
      "text/plain": [
       "[1, 2.3, True, (1+2j), 'nit']"
      ]
     },
     "execution_count": 78,
     "metadata": {},
     "output_type": "execute_result"
    }
   ],
   "source": [
    "l3=l2.copy()\n",
    "l3"
   ]
  },
  {
   "cell_type": "code",
   "execution_count": 79,
   "id": "614f94ee-2136-45ff-b0b4-5325bffe4926",
   "metadata": {},
   "outputs": [
    {
     "data": {
      "text/plain": [
       "[1, 2.3, True, (1+2j), 'nit']"
      ]
     },
     "execution_count": 79,
     "metadata": {},
     "output_type": "execute_result"
    }
   ],
   "source": [
    "l2"
   ]
  },
  {
   "cell_type": "code",
   "execution_count": 80,
   "id": "b81994cf-c1c3-4f1b-9a36-53bb27de7e78",
   "metadata": {},
   "outputs": [
    {
     "data": {
      "text/plain": [
       "[1, 2.3, True, (1+2j), 'nit']"
      ]
     },
     "execution_count": 80,
     "metadata": {},
     "output_type": "execute_result"
    }
   ],
   "source": [
    "l3"
   ]
  },
  {
   "cell_type": "code",
   "execution_count": 81,
   "id": "4606c8cb-a1ed-45c2-b672-a79ff5f4e472",
   "metadata": {},
   "outputs": [
    {
     "data": {
      "text/plain": [
       "5"
      ]
     },
     "execution_count": 81,
     "metadata": {},
     "output_type": "execute_result"
    }
   ],
   "source": [
    "len(l3)"
   ]
  },
  {
   "cell_type": "code",
   "execution_count": 82,
   "id": "f6f38f3f-9759-4189-9e0b-0dbfcc1bcd68",
   "metadata": {},
   "outputs": [],
   "source": [
    "l3.clear()"
   ]
  },
  {
   "cell_type": "code",
   "execution_count": 84,
   "id": "bcdd64f1-7cd0-4668-862d-1527d8c78714",
   "metadata": {},
   "outputs": [
    {
     "data": {
      "text/plain": [
       "0"
      ]
     },
     "execution_count": 84,
     "metadata": {},
     "output_type": "execute_result"
    }
   ],
   "source": [
    "len(l3)"
   ]
  },
  {
   "cell_type": "code",
   "execution_count": 85,
   "id": "ce3aaeca-4837-416e-bfb5-9990d89c9663",
   "metadata": {},
   "outputs": [],
   "source": [
    "del l3"
   ]
  },
  {
   "cell_type": "code",
   "execution_count": 86,
   "id": "cbaf7b97-44b1-4868-8f7c-fed0b64e6b44",
   "metadata": {},
   "outputs": [
    {
     "data": {
      "text/plain": [
       "[1, 2.3, True, (1+2j), 'nit']"
      ]
     },
     "execution_count": 86,
     "metadata": {},
     "output_type": "execute_result"
    }
   ],
   "source": [
    "l2"
   ]
  },
  {
   "cell_type": "code",
   "execution_count": 87,
   "id": "51557be8-e449-4f2e-b7ec-adaaedc2f971",
   "metadata": {},
   "outputs": [
    {
     "ename": "NameError",
     "evalue": "name 'l3' is not defined",
     "output_type": "error",
     "traceback": [
      "\u001b[1;31m---------------------------------------------------------------------------\u001b[0m",
      "\u001b[1;31mNameError\u001b[0m                                 Traceback (most recent call last)",
      "Cell \u001b[1;32mIn[87], line 1\u001b[0m\n\u001b[1;32m----> 1\u001b[0m l3\n",
      "\u001b[1;31mNameError\u001b[0m: name 'l3' is not defined"
     ]
    }
   ],
   "source": [
    "l3"
   ]
  },
  {
   "cell_type": "code",
   "execution_count": 88,
   "id": "550bdb3b-3a23-4e47-8e1f-8bb58beb398c",
   "metadata": {},
   "outputs": [
    {
     "data": {
      "text/plain": [
       "[1, 2.3, True, (1+2j), 'nit']"
      ]
     },
     "execution_count": 88,
     "metadata": {},
     "output_type": "execute_result"
    }
   ],
   "source": [
    "l2"
   ]
  },
  {
   "cell_type": "code",
   "execution_count": 89,
   "id": "4c970823-953c-4925-b179-2dfc0a5b2287",
   "metadata": {},
   "outputs": [],
   "source": [
    "l2.remove(2.3)"
   ]
  },
  {
   "cell_type": "code",
   "execution_count": 90,
   "id": "3339c8f4-0f46-488e-937e-8d53ceaf5a2c",
   "metadata": {},
   "outputs": [
    {
     "data": {
      "text/plain": [
       "[1, True, (1+2j), 'nit']"
      ]
     },
     "execution_count": 90,
     "metadata": {},
     "output_type": "execute_result"
    }
   ],
   "source": [
    "l2"
   ]
  },
  {
   "cell_type": "code",
   "execution_count": 91,
   "id": "16fdb6dd-679e-4454-9640-e47529bd7996",
   "metadata": {},
   "outputs": [],
   "source": [
    "l2.append(1)"
   ]
  },
  {
   "cell_type": "code",
   "execution_count": 92,
   "id": "42a330d0-e938-4b37-a044-8a3980a80a80",
   "metadata": {},
   "outputs": [
    {
     "data": {
      "text/plain": [
       "[1, True, (1+2j), 'nit', 1]"
      ]
     },
     "execution_count": 92,
     "metadata": {},
     "output_type": "execute_result"
    }
   ],
   "source": [
    "l2"
   ]
  },
  {
   "cell_type": "code",
   "execution_count": 93,
   "id": "4b4ea8d0-4b7a-4b8e-bfe6-ec665fc36542",
   "metadata": {},
   "outputs": [],
   "source": [
    "l3=[]\n",
    "l3.append(10)"
   ]
  },
  {
   "cell_type": "code",
   "execution_count": 94,
   "id": "bc839027-c54e-4fc5-bfe3-f49eac82d387",
   "metadata": {},
   "outputs": [
    {
     "data": {
      "text/plain": [
       "[10]"
      ]
     },
     "execution_count": 94,
     "metadata": {},
     "output_type": "execute_result"
    }
   ],
   "source": [
    "l3"
   ]
  },
  {
   "cell_type": "code",
   "execution_count": 95,
   "id": "5d5b3f7e-d858-4101-b6e9-afd208161eaf",
   "metadata": {},
   "outputs": [
    {
     "data": {
      "text/plain": [
       "[1, True, (1+2j), 'nit', 1]"
      ]
     },
     "execution_count": 95,
     "metadata": {},
     "output_type": "execute_result"
    }
   ],
   "source": [
    "l2"
   ]
  },
  {
   "cell_type": "code",
   "execution_count": 96,
   "id": "68e0383a-5a0a-4b3b-a414-a8baa74d22b3",
   "metadata": {},
   "outputs": [],
   "source": [
    "l3.extend(l2)"
   ]
  },
  {
   "cell_type": "code",
   "execution_count": 97,
   "id": "6022eb22-18eb-4be8-9a2c-cdf18aa59be8",
   "metadata": {},
   "outputs": [
    {
     "data": {
      "text/plain": [
       "[10, 1, True, (1+2j), 'nit', 1]"
      ]
     },
     "execution_count": 97,
     "metadata": {},
     "output_type": "execute_result"
    }
   ],
   "source": [
    "l3"
   ]
  },
  {
   "cell_type": "code",
   "execution_count": 98,
   "id": "646d3cb2-5f3f-4951-b3f5-a0e1f7584293",
   "metadata": {},
   "outputs": [
    {
     "data": {
      "text/plain": [
       "[10, 1, True, (1+2j), 'nit', 1]"
      ]
     },
     "execution_count": 98,
     "metadata": {},
     "output_type": "execute_result"
    }
   ],
   "source": [
    "l3"
   ]
  },
  {
   "cell_type": "code",
   "execution_count": 99,
   "id": "422329b2-90ae-47c4-b916-b03454ef7235",
   "metadata": {},
   "outputs": [
    {
     "data": {
      "text/plain": [
       "3"
      ]
     },
     "execution_count": 99,
     "metadata": {},
     "output_type": "execute_result"
    }
   ],
   "source": [
    "l3.index(1+2j)"
   ]
  },
  {
   "cell_type": "code",
   "execution_count": 100,
   "id": "fe68bc76-ce20-443d-85a6-b99e25d1e1bd",
   "metadata": {},
   "outputs": [
    {
     "data": {
      "text/plain": [
       "[1, True, (1+2j), 'nit', 1]"
      ]
     },
     "execution_count": 100,
     "metadata": {},
     "output_type": "execute_result"
    }
   ],
   "source": [
    "l2"
   ]
  },
  {
   "cell_type": "code",
   "execution_count": 101,
   "id": "e8bd479e-bb04-4aa7-94b3-d67025483f43",
   "metadata": {},
   "outputs": [
    {
     "data": {
      "text/plain": [
       "[10, 1, True, (1+2j), 'nit', 1]"
      ]
     },
     "execution_count": 101,
     "metadata": {},
     "output_type": "execute_result"
    }
   ],
   "source": [
    "l3"
   ]
  },
  {
   "cell_type": "code",
   "execution_count": 102,
   "id": "79ceb718-7497-475d-8aee-dba7e0c6ff44",
   "metadata": {},
   "outputs": [
    {
     "data": {
      "text/plain": [
       "[1, True, (1+2j), 'nit', 1]"
      ]
     },
     "execution_count": 102,
     "metadata": {},
     "output_type": "execute_result"
    }
   ],
   "source": [
    "l2"
   ]
  },
  {
   "cell_type": "code",
   "execution_count": 103,
   "id": "c73a3e1f-7dfb-4c60-9439-9b8179f67838",
   "metadata": {},
   "outputs": [
    {
     "data": {
      "text/plain": [
       "3"
      ]
     },
     "execution_count": 103,
     "metadata": {},
     "output_type": "execute_result"
    }
   ],
   "source": [
    "l2.index('nit')"
   ]
  },
  {
   "cell_type": "code",
   "execution_count": 104,
   "id": "d9c18d7b-fc05-4397-9538-774c88dda11d",
   "metadata": {},
   "outputs": [
    {
     "data": {
      "text/plain": [
       "[1, True, (1+2j), 'nit', 1]"
      ]
     },
     "execution_count": 104,
     "metadata": {},
     "output_type": "execute_result"
    }
   ],
   "source": [
    "l2"
   ]
  },
  {
   "cell_type": "code",
   "execution_count": 105,
   "id": "06761fce-c4a8-4ba1-91db-547d96e779cd",
   "metadata": {},
   "outputs": [
    {
     "data": {
      "text/plain": [
       "[10, 1, True, (1+2j), 'nit', 1]"
      ]
     },
     "execution_count": 105,
     "metadata": {},
     "output_type": "execute_result"
    }
   ],
   "source": [
    "l3"
   ]
  },
  {
   "cell_type": "code",
   "execution_count": 106,
   "id": "9b7474c1-63c7-4c33-a901-842f0f382488",
   "metadata": {},
   "outputs": [],
   "source": [
    "l3.insert(5,'technology')"
   ]
  },
  {
   "cell_type": "code",
   "execution_count": 107,
   "id": "639726a7-ac70-4f1e-83a4-a53883e33397",
   "metadata": {},
   "outputs": [
    {
     "data": {
      "text/plain": [
       "[10, 1, True, (1+2j), 'nit', 'technology', 1]"
      ]
     },
     "execution_count": 107,
     "metadata": {},
     "output_type": "execute_result"
    }
   ],
   "source": [
    "l3"
   ]
  },
  {
   "cell_type": "code",
   "execution_count": 108,
   "id": "cb5026bd-51af-46cc-b4ec-12fe6d2c961c",
   "metadata": {},
   "outputs": [],
   "source": [
    "l3.insert(3,False)"
   ]
  },
  {
   "cell_type": "code",
   "execution_count": 109,
   "id": "462467ae-b1d1-4af4-9583-12db3af4ee98",
   "metadata": {},
   "outputs": [
    {
     "data": {
      "text/plain": [
       "[10, 1, True, False, (1+2j), 'nit', 'technology', 1]"
      ]
     },
     "execution_count": 109,
     "metadata": {},
     "output_type": "execute_result"
    }
   ],
   "source": [
    "l3"
   ]
  },
  {
   "cell_type": "code",
   "execution_count": 110,
   "id": "160e4a2b-5704-43f0-a0ed-7029c0c4c393",
   "metadata": {},
   "outputs": [
    {
     "data": {
      "text/plain": [
       "1"
      ]
     },
     "execution_count": 110,
     "metadata": {},
     "output_type": "execute_result"
    }
   ],
   "source": [
    "l3.pop()"
   ]
  },
  {
   "cell_type": "code",
   "execution_count": 111,
   "id": "1872abcf-eb62-429b-abca-2056e5f24258",
   "metadata": {},
   "outputs": [
    {
     "data": {
      "text/plain": [
       "[10, 1, True, False, (1+2j), 'nit', 'technology']"
      ]
     },
     "execution_count": 111,
     "metadata": {},
     "output_type": "execute_result"
    }
   ],
   "source": [
    "l3"
   ]
  },
  {
   "cell_type": "code",
   "execution_count": 112,
   "id": "bbca7276-0ad0-4b4e-ac4a-a7a92df68e36",
   "metadata": {},
   "outputs": [
    {
     "data": {
      "text/plain": [
       "(1+2j)"
      ]
     },
     "execution_count": 112,
     "metadata": {},
     "output_type": "execute_result"
    }
   ],
   "source": [
    "l3.pop(4)"
   ]
  },
  {
   "cell_type": "code",
   "execution_count": 113,
   "id": "be2a052e-10c7-4fb0-b5bc-c47342b95c25",
   "metadata": {},
   "outputs": [
    {
     "data": {
      "text/plain": [
       "[10, 1, True, False, 'nit', 'technology']"
      ]
     },
     "execution_count": 113,
     "metadata": {},
     "output_type": "execute_result"
    }
   ],
   "source": [
    "l3"
   ]
  },
  {
   "cell_type": "code",
   "execution_count": 114,
   "id": "b3cd43c4-450c-4420-8bb0-14f5013620af",
   "metadata": {},
   "outputs": [
    {
     "data": {
      "text/plain": [
       "[10, 1, True, False, 'nit', 'technology']"
      ]
     },
     "execution_count": 114,
     "metadata": {},
     "output_type": "execute_result"
    }
   ],
   "source": [
    "l3"
   ]
  },
  {
   "cell_type": "code",
   "execution_count": 115,
   "id": "5d60138f-7b04-4677-8a65-16117e799336",
   "metadata": {},
   "outputs": [
    {
     "data": {
      "text/plain": [
       "1"
      ]
     },
     "execution_count": 115,
     "metadata": {},
     "output_type": "execute_result"
    }
   ],
   "source": [
    "l3.pop(1)"
   ]
  },
  {
   "cell_type": "code",
   "execution_count": 116,
   "id": "3e1ba21c-b221-4f67-b650-58b814603d26",
   "metadata": {},
   "outputs": [
    {
     "data": {
      "text/plain": [
       "[10, True, False, 'nit', 'technology']"
      ]
     },
     "execution_count": 116,
     "metadata": {},
     "output_type": "execute_result"
    }
   ],
   "source": [
    "l3"
   ]
  },
  {
   "cell_type": "code",
   "execution_count": 117,
   "id": "93380860-7538-49f0-82bf-daed78271ee3",
   "metadata": {},
   "outputs": [
    {
     "data": {
      "text/plain": [
       "[10, 100, 3, 45, 76, 24]"
      ]
     },
     "execution_count": 117,
     "metadata": {},
     "output_type": "execute_result"
    }
   ],
   "source": [
    "l4=[10,100,3,45,76,24]\n",
    "l4"
   ]
  },
  {
   "cell_type": "code",
   "execution_count": 118,
   "id": "cda4f073-059f-4bee-9bf3-957042a7e1b0",
   "metadata": {},
   "outputs": [],
   "source": [
    "l4.sort()"
   ]
  },
  {
   "cell_type": "code",
   "execution_count": 119,
   "id": "0a1fbc61-0cde-4b51-b454-d177265332a3",
   "metadata": {},
   "outputs": [
    {
     "data": {
      "text/plain": [
       "[3, 10, 24, 45, 76, 100]"
      ]
     },
     "execution_count": 119,
     "metadata": {},
     "output_type": "execute_result"
    }
   ],
   "source": [
    "l4"
   ]
  },
  {
   "cell_type": "code",
   "execution_count": 120,
   "id": "a1f804a7-d41e-4492-9155-fce37a035de4",
   "metadata": {},
   "outputs": [
    {
     "data": {
      "text/plain": [
       "[100, 76, 45, 24, 10, 3]"
      ]
     },
     "execution_count": 120,
     "metadata": {},
     "output_type": "execute_result"
    }
   ],
   "source": [
    "l4.sort(reverse=True)\n",
    "l4"
   ]
  },
  {
   "cell_type": "code",
   "execution_count": 121,
   "id": "acc66a91-6d3f-4d57-8d3a-a620c011156e",
   "metadata": {},
   "outputs": [
    {
     "data": {
      "text/plain": [
       "['z', 'm', 'c', 'w']"
      ]
     },
     "execution_count": 121,
     "metadata": {},
     "output_type": "execute_result"
    }
   ],
   "source": [
    "l5=['z','m','c','w']\n",
    "l5"
   ]
  },
  {
   "cell_type": "code",
   "execution_count": 122,
   "id": "6b2f9d1d-22f5-4458-9827-863d91593014",
   "metadata": {},
   "outputs": [],
   "source": [
    "l5.sort()"
   ]
  },
  {
   "cell_type": "code",
   "execution_count": 123,
   "id": "ebe968f5-e3f8-4a63-a1bb-dfb2cb902300",
   "metadata": {},
   "outputs": [
    {
     "data": {
      "text/plain": [
       "['c', 'm', 'w', 'z']"
      ]
     },
     "execution_count": 123,
     "metadata": {},
     "output_type": "execute_result"
    }
   ],
   "source": [
    "l5"
   ]
  },
  {
   "cell_type": "code",
   "execution_count": 124,
   "id": "0ba237ac-3785-4192-b76c-42d553508b6b",
   "metadata": {},
   "outputs": [
    {
     "data": {
      "text/plain": [
       "[1, 2, 3, 'a', 'z', 'w']"
      ]
     },
     "execution_count": 124,
     "metadata": {},
     "output_type": "execute_result"
    }
   ],
   "source": [
    "l6=[1,2,3,'a','z','w']\n",
    "l6"
   ]
  },
  {
   "cell_type": "code",
   "execution_count": 125,
   "id": "2ac31740-be66-45af-80d3-40a78b73298f",
   "metadata": {},
   "outputs": [
    {
     "ename": "TypeError",
     "evalue": "'<' not supported between instances of 'str' and 'int'",
     "output_type": "error",
     "traceback": [
      "\u001b[1;31m---------------------------------------------------------------------------\u001b[0m",
      "\u001b[1;31mTypeError\u001b[0m                                 Traceback (most recent call last)",
      "Cell \u001b[1;32mIn[125], line 1\u001b[0m\n\u001b[1;32m----> 1\u001b[0m l6\u001b[38;5;241m.\u001b[39msort()\n\u001b[0;32m      2\u001b[0m l6\n",
      "\u001b[1;31mTypeError\u001b[0m: '<' not supported between instances of 'str' and 'int'"
     ]
    }
   ],
   "source": [
    "l6.sort()\n",
    "l6"
   ]
  },
  {
   "cell_type": "code",
   "execution_count": 126,
   "id": "b4b932f2-a540-4d43-87f2-8744dddf999b",
   "metadata": {},
   "outputs": [
    {
     "data": {
      "text/plain": [
       "[1, True, (1+2j), 'nit', 1]"
      ]
     },
     "execution_count": 126,
     "metadata": {},
     "output_type": "execute_result"
    }
   ],
   "source": [
    "l2"
   ]
  },
  {
   "cell_type": "code",
   "execution_count": 127,
   "id": "42af02ed-f078-4d16-a455-82a9c58889b9",
   "metadata": {},
   "outputs": [
    {
     "data": {
      "text/plain": [
       "[10, True, False, 'nit', 'technology']"
      ]
     },
     "execution_count": 127,
     "metadata": {},
     "output_type": "execute_result"
    }
   ],
   "source": [
    "l3"
   ]
  },
  {
   "cell_type": "code",
   "execution_count": 128,
   "id": "7b31bf2e-8c3d-4e23-86ae-3205e9be0b89",
   "metadata": {},
   "outputs": [],
   "source": [
    "l3.reverse()"
   ]
  },
  {
   "cell_type": "code",
   "execution_count": 129,
   "id": "224ff186-b00d-4d02-b8b9-b6fa4ce3560e",
   "metadata": {},
   "outputs": [
    {
     "data": {
      "text/plain": [
       "['technology', 'nit', False, True, 10]"
      ]
     },
     "execution_count": 129,
     "metadata": {},
     "output_type": "execute_result"
    }
   ],
   "source": [
    "l3"
   ]
  },
  {
   "cell_type": "code",
   "execution_count": 130,
   "id": "61828d50-d124-434f-8114-1a4bdf492b21",
   "metadata": {},
   "outputs": [
    {
     "data": {
      "text/plain": [
       "[1, True, (1+2j), 'nit', 1]"
      ]
     },
     "execution_count": 130,
     "metadata": {},
     "output_type": "execute_result"
    }
   ],
   "source": [
    "l2"
   ]
  },
  {
   "cell_type": "code",
   "execution_count": 131,
   "id": "1f2ea6ec-b10f-49bf-9736-0dab437568fe",
   "metadata": {},
   "outputs": [
    {
     "data": {
      "text/plain": [
       "'nit'"
      ]
     },
     "execution_count": 131,
     "metadata": {},
     "output_type": "execute_result"
    }
   ],
   "source": [
    "l2[3]"
   ]
  },
  {
   "cell_type": "code",
   "execution_count": 132,
   "id": "de88a470-a85c-40ff-9814-b06636eea6e5",
   "metadata": {},
   "outputs": [
    {
     "name": "stdout",
     "output_type": "stream",
     "text": [
      "n\n",
      "i\n",
      "t\n"
     ]
    }
   ],
   "source": [
    "print(l2[3][0])\n",
    "print(l2[3][1])\n",
    "print(l2[3][2])"
   ]
  },
  {
   "cell_type": "code",
   "execution_count": 133,
   "id": "df0772e7-8974-4b43-b0ad-7b7607478a1d",
   "metadata": {},
   "outputs": [
    {
     "data": {
      "text/plain": [
       "['technology', 'nit', False, True, 10]"
      ]
     },
     "execution_count": 133,
     "metadata": {},
     "output_type": "execute_result"
    }
   ],
   "source": [
    "l3"
   ]
  },
  {
   "cell_type": "code",
   "execution_count": 134,
   "id": "3da296cd-e931-4724-a2de-34b34f53cf9e",
   "metadata": {},
   "outputs": [],
   "source": [
    "l3[2]=0"
   ]
  },
  {
   "cell_type": "code",
   "execution_count": 135,
   "id": "5414d7f9-8480-46b9-81cd-79298f2458ba",
   "metadata": {},
   "outputs": [
    {
     "data": {
      "text/plain": [
       "['technology', 'nit', 0, True, 10]"
      ]
     },
     "execution_count": 135,
     "metadata": {},
     "output_type": "execute_result"
    }
   ],
   "source": [
    "l3"
   ]
  },
  {
   "cell_type": "code",
   "execution_count": 136,
   "id": "9fc10668-8f1a-40d4-8d56-8037f97cdb6b",
   "metadata": {},
   "outputs": [
    {
     "data": {
      "text/plain": [
       "['technology', 'mit', 0, True, 10]"
      ]
     },
     "execution_count": 136,
     "metadata": {},
     "output_type": "execute_result"
    }
   ],
   "source": [
    "l3[1]='mit'\n",
    "l3"
   ]
  },
  {
   "cell_type": "code",
   "execution_count": 137,
   "id": "429e9804-9a07-4bd3-b45c-edcf83e16a32",
   "metadata": {},
   "outputs": [
    {
     "data": {
      "text/plain": [
       "['technology', 'mit', 0, True, 10]"
      ]
     },
     "execution_count": 137,
     "metadata": {},
     "output_type": "execute_result"
    }
   ],
   "source": [
    "l3"
   ]
  },
  {
   "cell_type": "code",
   "execution_count": 138,
   "id": "0ebd206d-31a7-4661-ac07-6778ee519e52",
   "metadata": {},
   "outputs": [
    {
     "name": "stdout",
     "output_type": "stream",
     "text": [
      "technology\n",
      "mit\n",
      "0\n",
      "True\n",
      "10\n"
     ]
    }
   ],
   "source": [
    "for i in l3:\n",
    "      print(i)"
   ]
  },
  {
   "cell_type": "code",
   "execution_count": 141,
   "id": "120906c6-1ecc-4dc1-acba-5996ac8b3899",
   "metadata": {},
   "outputs": [],
   "source": [
    "l6 = ['sbi','icic']\n",
    "l7 = ['hdf','kotak']"
   ]
  },
  {
   "cell_type": "code",
   "execution_count": 142,
   "id": "5c641197-4da3-4588-8f32-e4966d265c90",
   "metadata": {},
   "outputs": [
    {
     "data": {
      "text/plain": [
       "['sbi', 'icic', 'hdf', 'kotak']"
      ]
     },
     "execution_count": 142,
     "metadata": {},
     "output_type": "execute_result"
    }
   ],
   "source": [
    "family_bank =l6+l7\n",
    "family_bank"
   ]
  },
  {
   "cell_type": "code",
   "execution_count": 143,
   "id": "a5853713-9c9e-4bea-b5ac-879a88d8ce51",
   "metadata": {},
   "outputs": [
    {
     "data": {
      "text/plain": [
       "['technology', 'mit', 0, True, 10]"
      ]
     },
     "execution_count": 143,
     "metadata": {},
     "output_type": "execute_result"
    }
   ],
   "source": [
    "l3"
   ]
  },
  {
   "cell_type": "code",
   "execution_count": 144,
   "id": "1005a09b-bf6e-4fd4-b97f-a60f27880533",
   "metadata": {},
   "outputs": [
    {
     "name": "stdout",
     "output_type": "stream",
     "text": [
      "(0, 'technology')\n",
      "(1, 'mit')\n",
      "(2, 0)\n",
      "(3, True)\n",
      "(4, 10)\n"
     ]
    }
   ],
   "source": [
    "for i in enumerate (l3):\n",
    "        print(i)"
   ]
  },
  {
   "cell_type": "code",
   "execution_count": 145,
   "id": "10539752-77ba-4595-9229-ff834be78fab",
   "metadata": {},
   "outputs": [
    {
     "data": {
      "text/plain": [
       "[20, 30, 2.3, (1+2j), True, 'nit', 20]"
      ]
     },
     "execution_count": 145,
     "metadata": {},
     "output_type": "execute_result"
    }
   ],
   "source": [
    "l"
   ]
  },
  {
   "cell_type": "code",
   "execution_count": 146,
   "id": "cc22539e-703e-4047-8b8e-1a486ac3e1dd",
   "metadata": {},
   "outputs": [
    {
     "data": {
      "text/plain": [
       "[20, 30, 2.3, (1+2j), True, 'nit', 20]"
      ]
     },
     "execution_count": 146,
     "metadata": {},
     "output_type": "execute_result"
    }
   ],
   "source": [
    "l[:]"
   ]
  },
  {
   "cell_type": "code",
   "execution_count": 147,
   "id": "22445144-034b-4eda-85fa-2107e9c459f7",
   "metadata": {},
   "outputs": [
    {
     "data": {
      "text/plain": [
       "[20, 'nit', True, (1+2j), 2.3, 30, 20]"
      ]
     },
     "execution_count": 147,
     "metadata": {},
     "output_type": "execute_result"
    }
   ],
   "source": [
    "l[::-1]"
   ]
  },
  {
   "cell_type": "code",
   "execution_count": 148,
   "id": "bbc6cba3-3ccb-43ed-b078-bc240205e0ab",
   "metadata": {},
   "outputs": [
    {
     "data": {
      "text/plain": [
       "[20, True, 2.3, 20]"
      ]
     },
     "execution_count": 148,
     "metadata": {},
     "output_type": "execute_result"
    }
   ],
   "source": [
    "l[::-2]"
   ]
  },
  {
   "cell_type": "code",
   "execution_count": 149,
   "id": "5ce15e73-23fd-4ec4-9c15-0cc230a792ad",
   "metadata": {},
   "outputs": [
    {
     "data": {
      "text/plain": [
       "[20, 30, 2.3, (1+2j), True, 'nit', 20]"
      ]
     },
     "execution_count": 149,
     "metadata": {},
     "output_type": "execute_result"
    }
   ],
   "source": [
    "l"
   ]
  },
  {
   "cell_type": "code",
   "execution_count": 150,
   "id": "53148e24-3d3d-49c6-8051-14c4ebed3cf5",
   "metadata": {},
   "outputs": [
    {
     "ename": "IndexError",
     "evalue": "list index out of range",
     "output_type": "error",
     "traceback": [
      "\u001b[1;31m---------------------------------------------------------------------------\u001b[0m",
      "\u001b[1;31mIndexError\u001b[0m                                Traceback (most recent call last)",
      "Cell \u001b[1;32mIn[150], line 1\u001b[0m\n\u001b[1;32m----> 1\u001b[0m l[\u001b[38;5;241m17\u001b[39m]\n",
      "\u001b[1;31mIndexError\u001b[0m: list index out of range"
     ]
    }
   ],
   "source": [
    "l[17]"
   ]
  },
  {
   "cell_type": "code",
   "execution_count": 151,
   "id": "0beab855-e72a-4480-9deb-34034b3933b4",
   "metadata": {},
   "outputs": [
    {
     "data": {
      "text/plain": [
       "[20, 30, 2.3, (1+2j), True, 'nit', 20]"
      ]
     },
     "execution_count": 151,
     "metadata": {},
     "output_type": "execute_result"
    }
   ],
   "source": [
    "l"
   ]
  },
  {
   "cell_type": "code",
   "execution_count": 152,
   "id": "4ec0dbcf-ae84-474e-b9f9-9c94aac59d19",
   "metadata": {},
   "outputs": [
    {
     "data": {
      "text/plain": [
       "[2.3, (1+2j), True, 'nit', 20]"
      ]
     },
     "execution_count": 152,
     "metadata": {},
     "output_type": "execute_result"
    }
   ],
   "source": [
    "l[2:]#print the element from 2nd indext to till last"
   ]
  },
  {
   "cell_type": "code",
   "execution_count": 153,
   "id": "c94cfc9b-62a2-4c4b-a187-63f6561a31cd",
   "metadata": {},
   "outputs": [
    {
     "data": {
      "text/plain": [
       "[20, 30, 2.3, (1+2j), True, 'nit', 20]"
      ]
     },
     "execution_count": 153,
     "metadata": {},
     "output_type": "execute_result"
    }
   ],
   "source": [
    "l"
   ]
  },
  {
   "cell_type": "code",
   "execution_count": 154,
   "id": "7924b1ce-888a-465a-817f-d296e2ae6144",
   "metadata": {},
   "outputs": [
    {
     "data": {
      "text/plain": [
       "[20, 30, 2.3, (1+2j), True, 'nit', 20]"
      ]
     },
     "execution_count": 154,
     "metadata": {},
     "output_type": "execute_result"
    }
   ],
   "source": [
    "l[:7]"
   ]
  },
  {
   "cell_type": "code",
   "execution_count": 155,
   "id": "a734f250-a3b8-49c3-ad63-87cea7b3f21d",
   "metadata": {},
   "outputs": [
    {
     "data": {
      "text/plain": [
       "[20, 30, 2.3, (1+2j), True, 'nit', 20]"
      ]
     },
     "execution_count": 155,
     "metadata": {},
     "output_type": "execute_result"
    }
   ],
   "source": [
    "l"
   ]
  },
  {
   "cell_type": "code",
   "execution_count": 156,
   "id": "09e8e2cc-e2b5-493e-8b73-abc7dc53f317",
   "metadata": {},
   "outputs": [
    {
     "data": {
      "text/plain": [
       "[20, 2.3, True, 20]"
      ]
     },
     "execution_count": 156,
     "metadata": {},
     "output_type": "execute_result"
    }
   ],
   "source": [
    "l[0:7:2]"
   ]
  },
  {
   "cell_type": "markdown",
   "id": "d7cf2592-fee8-464e-8fcf-7e7d406dd292",
   "metadata": {},
   "source": [
    "# LIST DATA STRUCUTRE WE ARE COMPLETED"
   ]
  },
  {
   "cell_type": "code",
   "execution_count": 157,
   "id": "9e85c485-3e7e-4ff6-b136-db87cc325483",
   "metadata": {},
   "outputs": [
    {
     "data": {
      "text/plain": [
       "()"
      ]
     },
     "execution_count": 157,
     "metadata": {},
     "output_type": "execute_result"
    }
   ],
   "source": [
    "t=()\n",
    "t"
   ]
  },
  {
   "cell_type": "code",
   "execution_count": 158,
   "id": "07cd28fc-69fc-46f7-906f-0c36c8b3275b",
   "metadata": {},
   "outputs": [
    {
     "data": {
      "text/plain": [
       "tuple"
      ]
     },
     "execution_count": 158,
     "metadata": {},
     "output_type": "execute_result"
    }
   ],
   "source": [
    "type(t)"
   ]
  },
  {
   "cell_type": "code",
   "execution_count": 159,
   "id": "e29d1ad6-e5c6-4aa3-b67d-1e364afe017e",
   "metadata": {},
   "outputs": [
    {
     "data": {
      "text/plain": [
       "list"
      ]
     },
     "execution_count": 159,
     "metadata": {},
     "output_type": "execute_result"
    }
   ],
   "source": [
    "type(l)"
   ]
  },
  {
   "cell_type": "code",
   "execution_count": 160,
   "id": "f1484d26-9a87-409a-b664-24ccffe7c686",
   "metadata": {},
   "outputs": [
    {
     "data": {
      "text/plain": [
       "tuple"
      ]
     },
     "execution_count": 160,
     "metadata": {},
     "output_type": "execute_result"
    }
   ],
   "source": [
    "t1=tuple()\n",
    "type(t1)"
   ]
  },
  {
   "cell_type": "code",
   "execution_count": 161,
   "id": "f8a3dcdf-3047-4d58-aee5-a73255f0d9ec",
   "metadata": {},
   "outputs": [],
   "source": [
    "t=(10,10,20,30)"
   ]
  },
  {
   "cell_type": "code",
   "execution_count": 162,
   "id": "e97af10e-7e3a-48a2-b5ee-a1167302fda5",
   "metadata": {},
   "outputs": [
    {
     "data": {
      "text/plain": [
       "(10, 10, 20, 30)"
      ]
     },
     "execution_count": 162,
     "metadata": {},
     "output_type": "execute_result"
    }
   ],
   "source": [
    "t"
   ]
  },
  {
   "cell_type": "code",
   "execution_count": 163,
   "id": "8ea9fe94-c407-4118-b013-5a29bc67db9a",
   "metadata": {},
   "outputs": [
    {
     "data": {
      "text/plain": [
       "(1234, 'cizp', '4thmar')"
      ]
     },
     "execution_count": 163,
     "metadata": {},
     "output_type": "execute_result"
    }
   ],
   "source": [
    "icic=(1234,'cizp','4thmar')\n",
    "icic"
   ]
  },
  {
   "cell_type": "code",
   "execution_count": 164,
   "id": "8cdac322-df6d-4cd9-acef-856a317f4614",
   "metadata": {},
   "outputs": [
    {
     "ename": "AttributeError",
     "evalue": "'tuple' object has no attribute 'copy'",
     "output_type": "error",
     "traceback": [
      "\u001b[1;31m---------------------------------------------------------------------------\u001b[0m",
      "\u001b[1;31mAttributeError\u001b[0m                            Traceback (most recent call last)",
      "Cell \u001b[1;32mIn[164], line 1\u001b[0m\n\u001b[1;32m----> 1\u001b[0m i\u001b[38;5;241m=\u001b[39micic\u001b[38;5;241m.\u001b[39mcopy()\n",
      "\u001b[1;31mAttributeError\u001b[0m: 'tuple' object has no attribute 'copy'"
     ]
    }
   ],
   "source": [
    "i=icic.copy()"
   ]
  },
  {
   "cell_type": "code",
   "execution_count": 165,
   "id": "b7712dac-96ba-4c57-9162-4c7ef15e4941",
   "metadata": {},
   "outputs": [
    {
     "data": {
      "text/plain": [
       "(10, 10, 20, 30)"
      ]
     },
     "execution_count": 165,
     "metadata": {},
     "output_type": "execute_result"
    }
   ],
   "source": [
    "t"
   ]
  },
  {
   "cell_type": "code",
   "execution_count": 166,
   "id": "79ffef13-74d1-4d11-a0b4-9c66ed1c6263",
   "metadata": {},
   "outputs": [
    {
     "data": {
      "text/plain": [
       "10"
      ]
     },
     "execution_count": 166,
     "metadata": {},
     "output_type": "execute_result"
    }
   ],
   "source": [
    "t[0]"
   ]
  },
  {
   "cell_type": "code",
   "execution_count": 167,
   "id": "1d2a68d6-fe40-46b3-8716-e44ec7a61394",
   "metadata": {},
   "outputs": [
    {
     "ename": "TypeError",
     "evalue": "'tuple' object does not support item assignment",
     "output_type": "error",
     "traceback": [
      "\u001b[1;31m---------------------------------------------------------------------------\u001b[0m",
      "\u001b[1;31mTypeError\u001b[0m                                 Traceback (most recent call last)",
      "Cell \u001b[1;32mIn[167], line 1\u001b[0m\n\u001b[1;32m----> 1\u001b[0m t[\u001b[38;5;241m0\u001b[39m]\u001b[38;5;241m=\u001b[39m\u001b[38;5;241m100\u001b[39m\n",
      "\u001b[1;31mTypeError\u001b[0m: 'tuple' object does not support item assignment"
     ]
    }
   ],
   "source": [
    "t[0]=100"
   ]
  },
  {
   "cell_type": "code",
   "execution_count": 168,
   "id": "1747df2f-f9b8-4a28-bcbd-c328a19d270c",
   "metadata": {},
   "outputs": [
    {
     "data": {
      "text/plain": [
       "(10, 1.2, 'nit', (1+2j), True)"
      ]
     },
     "execution_count": 168,
     "metadata": {},
     "output_type": "execute_result"
    }
   ],
   "source": [
    "t1=(10,1.2,'nit',1+2j,True)\n",
    "t1"
   ]
  },
  {
   "cell_type": "code",
   "execution_count": 169,
   "id": "f65bb614-c807-4d5b-80a8-488b2f659139",
   "metadata": {},
   "outputs": [
    {
     "data": {
      "text/plain": [
       "1"
      ]
     },
     "execution_count": 169,
     "metadata": {},
     "output_type": "execute_result"
    }
   ],
   "source": [
    "t1.count(10)"
   ]
  },
  {
   "cell_type": "code",
   "execution_count": 170,
   "id": "6dac4e67-2d17-4cc2-b098-4683548937d3",
   "metadata": {},
   "outputs": [
    {
     "data": {
      "text/plain": [
       "2"
      ]
     },
     "execution_count": 170,
     "metadata": {},
     "output_type": "execute_result"
    }
   ],
   "source": [
    "t1.index('nit')"
   ]
  },
  {
   "cell_type": "code",
   "execution_count": 171,
   "id": "73f44674-07a8-4435-ae93-7554109fefb3",
   "metadata": {},
   "outputs": [
    {
     "data": {
      "text/plain": [
       "(10, 1.2, 'nit', (1+2j), True)"
      ]
     },
     "execution_count": 171,
     "metadata": {},
     "output_type": "execute_result"
    }
   ],
   "source": [
    "t1"
   ]
  },
  {
   "cell_type": "code",
   "execution_count": 172,
   "id": "052bc012-e247-4d3f-9e4d-85ed99a5d38c",
   "metadata": {},
   "outputs": [
    {
     "name": "stdout",
     "output_type": "stream",
     "text": [
      "10\n",
      "1.2\n",
      "nit\n",
      "(1+2j)\n",
      "True\n"
     ]
    }
   ],
   "source": [
    "for i in t1:\n",
    "     print(i)"
   ]
  },
  {
   "cell_type": "code",
   "execution_count": 173,
   "id": "e1992cb4-1628-45d6-84ea-055093bc3935",
   "metadata": {},
   "outputs": [
    {
     "name": "stdout",
     "output_type": "stream",
     "text": [
      "(0, 10)\n",
      "(1, 1.2)\n",
      "(2, 'nit')\n",
      "(3, (1+2j))\n",
      "(4, True)\n"
     ]
    }
   ],
   "source": [
    "for i in enumerate(t1):\n",
    "     print(i)"
   ]
  },
  {
   "cell_type": "code",
   "execution_count": 174,
   "id": "14de21ca-e7ca-4ea2-a05e-7acb40b7b254",
   "metadata": {},
   "outputs": [
    {
     "data": {
      "text/plain": [
       "(10, 10, 20, 30)"
      ]
     },
     "execution_count": 174,
     "metadata": {},
     "output_type": "execute_result"
    }
   ],
   "source": [
    "t"
   ]
  },
  {
   "cell_type": "code",
   "execution_count": 175,
   "id": "f0167ca5-91d4-4e23-9b30-9ceaadd30293",
   "metadata": {},
   "outputs": [
    {
     "data": {
      "text/plain": [
       "(10, 10, 20, 30)"
      ]
     },
     "execution_count": 175,
     "metadata": {},
     "output_type": "execute_result"
    }
   ],
   "source": [
    "t[:]"
   ]
  },
  {
   "cell_type": "code",
   "execution_count": 176,
   "id": "264abb92-6f8c-4fca-8ea9-6bfdc16bcdcf",
   "metadata": {},
   "outputs": [
    {
     "data": {
      "text/plain": [
       "(10, 10, 20, 30)"
      ]
     },
     "execution_count": 176,
     "metadata": {},
     "output_type": "execute_result"
    }
   ],
   "source": [
    "t"
   ]
  },
  {
   "cell_type": "code",
   "execution_count": 177,
   "id": "ba789628-b1e1-48ce-a3dd-65422d1d4636",
   "metadata": {},
   "outputs": [
    {
     "data": {
      "text/plain": [
       "(10, 10, 20, 30, 10, 10, 20, 30, 10, 10, 20, 30, 10, 10, 20, 30)"
      ]
     },
     "execution_count": 177,
     "metadata": {},
     "output_type": "execute_result"
    }
   ],
   "source": [
    "t4=t*4\n",
    "t4"
   ]
  },
  {
   "cell_type": "code",
   "execution_count": 178,
   "id": "16c01d61-aca2-490d-ab7c-4ec442fa5caa",
   "metadata": {},
   "outputs": [
    {
     "data": {
      "text/plain": [
       "[20, 30, 2.3, (1+2j), True, 'nit', 20]"
      ]
     },
     "execution_count": 178,
     "metadata": {},
     "output_type": "execute_result"
    }
   ],
   "source": [
    "l"
   ]
  },
  {
   "cell_type": "code",
   "execution_count": 179,
   "id": "5b745cfd-98dd-44f4-817d-4b62bc011bd9",
   "metadata": {},
   "outputs": [
    {
     "data": {
      "text/plain": [
       "['technology', 'mit', 0, True, 10]"
      ]
     },
     "execution_count": 179,
     "metadata": {},
     "output_type": "execute_result"
    }
   ],
   "source": [
    "l3"
   ]
  },
  {
   "cell_type": "code",
   "execution_count": 180,
   "id": "331e4ace-9790-47f8-a891-04563002facf",
   "metadata": {},
   "outputs": [
    {
     "data": {
      "text/plain": [
       "(10, 10, 20, 30)"
      ]
     },
     "execution_count": 180,
     "metadata": {},
     "output_type": "execute_result"
    }
   ],
   "source": [
    "t"
   ]
  },
  {
   "cell_type": "code",
   "execution_count": 181,
   "id": "16a932ef-dae9-48a3-81ca-5a38941a32b7",
   "metadata": {},
   "outputs": [
    {
     "name": "stdout",
     "output_type": "stream",
     "text": [
      "3252728598016\n",
      "3252728391904\n"
     ]
    }
   ],
   "source": [
    "print(id(l))\n",
    "print(id(t))"
   ]
  },
  {
   "cell_type": "markdown",
   "id": "70f9b9b8-6e3d-4c96-a8e7-749b73a16c6b",
   "metadata": {},
   "source": [
    "# tuple completed"
   ]
  },
  {
   "cell_type": "code",
   "execution_count": null,
   "id": "8b97db45-6ccd-421b-ad20-c518f679eb47",
   "metadata": {},
   "outputs": [],
   "source": []
  }
 ],
 "metadata": {
  "kernelspec": {
   "display_name": "Python 3 (ipykernel)",
   "language": "python",
   "name": "python3"
  },
  "language_info": {
   "codemirror_mode": {
    "name": "ipython",
    "version": 3
   },
   "file_extension": ".py",
   "mimetype": "text/x-python",
   "name": "python",
   "nbconvert_exporter": "python",
   "pygments_lexer": "ipython3",
   "version": "3.12.4"
  }
 },
 "nbformat": 4,
 "nbformat_minor": 5
}
