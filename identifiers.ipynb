{
 "cells": [
  {
   "cell_type": "markdown",
   "id": "a5fc49d8-d9e3-4ddd-b301-5baa02a694a1",
   "metadata": {},
   "source": [
    "# Identifiers"
   ]
  },
  {
   "cell_type": "code",
   "execution_count": 2,
   "id": "005b1135-4248-4a12-8674-e1859cdaedc1",
   "metadata": {},
   "outputs": [
    {
     "name": "stdout",
     "output_type": "stream",
     "text": [
      "20\n",
      "<class 'int'>\n",
      "0x7fffb3553c18\n"
     ]
    }
   ],
   "source": [
    "p=20\n",
    "q=20\n",
    "r=q\n",
    "print(p)\n",
    "print(type(p))\n",
    "print(hex(id(p)))"
   ]
  },
  {
   "cell_type": "code",
   "execution_count": 3,
   "id": "451181e2-d523-4ebd-bdeb-7ffb529a1400",
   "metadata": {},
   "outputs": [
    {
     "name": "stdout",
     "output_type": "stream",
     "text": [
      "<class 'int'>\n"
     ]
    }
   ],
   "source": [
    "print(type(q))"
   ]
  },
  {
   "cell_type": "code",
   "execution_count": 4,
   "id": "64b36a4b-5d17-4a0e-a074-b2a40bef4ab8",
   "metadata": {},
   "outputs": [
    {
     "data": {
      "text/plain": [
       "-10"
      ]
     },
     "execution_count": 4,
     "metadata": {},
     "output_type": "execute_result"
    }
   ],
   "source": [
    "p=30\n",
    "p=p-40\n",
    "p"
   ]
  },
  {
   "cell_type": "markdown",
   "id": "ee804f18-e75d-459c-a6e3-ac80a671c758",
   "metadata": {},
   "source": [
    "# variable assignment"
   ]
  },
  {
   "cell_type": "code",
   "execution_count": 5,
   "id": "9465d08f-11c2-4e72-8624-223957e87f94",
   "metadata": {},
   "outputs": [
    {
     "name": "stdout",
     "output_type": "stream",
     "text": [
      "10\n",
      "20.5\n",
      "python\n"
     ]
    }
   ],
   "source": [
    "intvar=10\n",
    "floatvar=20.5\n",
    "strvar='python'\n",
    "print(intvar)\n",
    "print(floatvar)\n",
    "print(strvar)"
   ]
  },
  {
   "cell_type": "markdown",
   "id": "5bbe100b-aad2-4646-9c22-29b5d6d0f267",
   "metadata": {},
   "source": [
    "# multiple variable"
   ]
  },
  {
   "cell_type": "code",
   "execution_count": 6,
   "id": "7ea0b095-a7ab-4e2b-a757-592e09449816",
   "metadata": {},
   "outputs": [
    {
     "name": "stdout",
     "output_type": "stream",
     "text": [
      "10\n",
      "20.5\n"
     ]
    },
    {
     "data": {
      "text/plain": [
       "'language'"
      ]
     },
     "execution_count": 6,
     "metadata": {},
     "output_type": "execute_result"
    }
   ],
   "source": [
    "intvar,floatvar,strvar=10,20.5,'language'\n",
    "print(intvar)\n",
    "print(floatvar)\n",
    "strvar"
   ]
  },
  {
   "cell_type": "code",
   "execution_count": 8,
   "id": "d51c217e-2258-4e15-907e-228d9271cce2",
   "metadata": {},
   "outputs": [
    {
     "data": {
      "text/plain": [
       "55"
      ]
     },
     "execution_count": 8,
     "metadata": {},
     "output_type": "execute_result"
    }
   ],
   "source": [
    "p1=p2=p3=p4=55\n",
    "p1\n",
    "p2\n",
    "p3\n",
    "p4"
   ]
  },
  {
   "cell_type": "code",
   "execution_count": 9,
   "id": "07f9dd85-2131-48c4-9e34-757ed2528573",
   "metadata": {},
   "outputs": [
    {
     "name": "stdout",
     "output_type": "stream",
     "text": [
      "55 55 55 55\n"
     ]
    }
   ],
   "source": [
    "print(p1,p2,p3,p4)"
   ]
  },
  {
   "cell_type": "code",
   "execution_count": 10,
   "id": "c42a2c46-eba5-479b-a7d0-84680c2d044c",
   "metadata": {},
   "outputs": [
    {
     "name": "stdout",
     "output_type": "stream",
     "text": [
      "10\n",
      "<class 'int'>\n",
      "10 True\n"
     ]
    }
   ],
   "source": [
    "val1=10\n",
    "print(val1)\n",
    "print(type(val1))\n",
    "print(val1,isinstance(val1,int))"
   ]
  },
  {
   "cell_type": "code",
   "execution_count": 11,
   "id": "b3bde1a4-e45a-47cb-b756-cf7f200002c3",
   "metadata": {},
   "outputs": [
    {
     "ename": "NameError",
     "evalue": "name 'sys' is not defined",
     "output_type": "error",
     "traceback": [
      "\u001b[1;31m---------------------------------------------------------------------------\u001b[0m",
      "\u001b[1;31mNameError\u001b[0m                                 Traceback (most recent call last)",
      "Cell \u001b[1;32mIn[11], line 1\u001b[0m\n\u001b[1;32m----> 1\u001b[0m \u001b[38;5;28mprint\u001b[39m(sys\u001b[38;5;241m.\u001b[39mgetsizeof(val1))\n",
      "\u001b[1;31mNameError\u001b[0m: name 'sys' is not defined"
     ]
    }
   ],
   "source": [
    "print(sys.getsizeof(val1))"
   ]
  },
  {
   "cell_type": "code",
   "execution_count": 12,
   "id": "fa138d1a-8a83-4a4f-8bfd-9f307d6ce7fc",
   "metadata": {},
   "outputs": [
    {
     "data": {
      "text/plain": [
       "'3.12.4 | packaged by Anaconda, Inc. | (main, Jun 18 2024, 15:03:56) [MSC v.1929 64 bit (AMD64)]'"
      ]
     },
     "execution_count": 12,
     "metadata": {},
     "output_type": "execute_result"
    }
   ],
   "source": [
    "import sys\n",
    "sys. version"
   ]
  },
  {
   "cell_type": "code",
   "execution_count": 13,
   "id": "b272dbd6-0e8d-4fcf-8c9d-0c54906c629f",
   "metadata": {},
   "outputs": [
    {
     "name": "stdout",
     "output_type": "stream",
     "text": [
      "28\n"
     ]
    }
   ],
   "source": [
    "import sys \n",
    "print(sys.getsizeof(val1))"
   ]
  },
  {
   "cell_type": "code",
   "execution_count": 14,
   "id": "e6e22f70-3f93-464c-90ee-f37c5df38bc2",
   "metadata": {},
   "outputs": [
    {
     "name": "stdout",
     "output_type": "stream",
     "text": [
      "10\n",
      "<class 'complex'>\n",
      "32\n",
      "(10+2j) True\n"
     ]
    }
   ],
   "source": [
    "val2=10+2j\n",
    "print(val1)\n",
    "print(type(val2))\n",
    "print(sys.getsizeof(val2))\n",
    "print(val2,isinstance(val2,complex))"
   ]
  },
  {
   "cell_type": "code",
   "execution_count": null,
   "id": "cfa2bbeb-5f12-4aaf-b1b1-dc3e8709ea75",
   "metadata": {},
   "outputs": [],
   "source": []
  }
 ],
 "metadata": {
  "kernelspec": {
   "display_name": "Python 3 (ipykernel)",
   "language": "python",
   "name": "python3"
  },
  "language_info": {
   "codemirror_mode": {
    "name": "ipython",
    "version": 3
   },
   "file_extension": ".py",
   "mimetype": "text/x-python",
   "name": "python",
   "nbconvert_exporter": "python",
   "pygments_lexer": "ipython3",
   "version": "3.12.4"
  }
 },
 "nbformat": 4,
 "nbformat_minor": 5
}
