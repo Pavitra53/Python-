{
 "cells": [
  {
   "cell_type": "markdown",
   "id": "748c9340-6c8f-45a4-81c9-e88fcfec7bed",
   "metadata": {},
   "source": [
    "# List"
   ]
  },
  {
   "cell_type": "code",
   "execution_count": 2,
   "id": "9583c31d-96f1-4968-b7bc-0ea7eecd01f3",
   "metadata": {},
   "outputs": [
    {
     "data": {
      "text/plain": [
       "['joe', 35, [67, 89], [120, 37]]"
      ]
     },
     "execution_count": 2,
     "metadata": {},
     "output_type": "execute_result"
    }
   ],
   "source": [
    "l5=['joe',35,[67,89],[120,37]]\n",
    "l5"
   ]
  },
  {
   "cell_type": "code",
   "execution_count": 4,
   "id": "b32e4542-a318-4061-aa28-40036101e3db",
   "metadata": {},
   "outputs": [
    {
     "name": "stdout",
     "output_type": "stream",
     "text": [
      "4\n"
     ]
    }
   ],
   "source": [
    "print(len(l5))"
   ]
  },
  {
   "cell_type": "code",
   "execution_count": 5,
   "id": "c732f9ce-f44e-463c-a1f3-663be4d1b9b3",
   "metadata": {},
   "outputs": [
    {
     "data": {
      "text/plain": [
       "1"
      ]
     },
     "execution_count": 5,
     "metadata": {},
     "output_type": "execute_result"
    }
   ],
   "source": [
    "l5.index(35)"
   ]
  },
  {
   "cell_type": "code",
   "execution_count": 6,
   "id": "9b82102b-4aef-4a6d-b536-ce3a29d21410",
   "metadata": {},
   "outputs": [
    {
     "data": {
      "text/plain": [
       "2"
      ]
     },
     "execution_count": 6,
     "metadata": {},
     "output_type": "execute_result"
    }
   ],
   "source": [
    "l5.index([67,89])"
   ]
  },
  {
   "cell_type": "code",
   "execution_count": 8,
   "id": "0ee3ea66-a6df-48b2-9895-a5b0968628fc",
   "metadata": {},
   "outputs": [
    {
     "data": {
      "text/plain": [
       "[90, 87, {'bye', 'hi'}, {'hello', 'welcome'}]"
      ]
     },
     "execution_count": 8,
     "metadata": {},
     "output_type": "execute_result"
    }
   ],
   "source": [
    "l6=[90,87,{'hi','bye'},{'hello','welcome'}]\n",
    "l6"
   ]
  },
  {
   "cell_type": "code",
   "execution_count": 9,
   "id": "62017f16-9eb3-48d0-802a-70e9ed186d23",
   "metadata": {},
   "outputs": [
    {
     "ename": "ValueError",
     "evalue": "'hello' is not in list",
     "output_type": "error",
     "traceback": [
      "\u001b[1;31m---------------------------------------------------------------------------\u001b[0m",
      "\u001b[1;31mValueError\u001b[0m                                Traceback (most recent call last)",
      "Cell \u001b[1;32mIn[9], line 1\u001b[0m\n\u001b[1;32m----> 1\u001b[0m l6\u001b[38;5;241m.\u001b[39mindex(\u001b[38;5;124m'\u001b[39m\u001b[38;5;124mhello\u001b[39m\u001b[38;5;124m'\u001b[39m)\n",
      "\u001b[1;31mValueError\u001b[0m: 'hello' is not in list"
     ]
    }
   ],
   "source": [
    "l6.index('hello')"
   ]
  },
  {
   "cell_type": "code",
   "execution_count": 12,
   "id": "852403e7-4057-4f26-9107-d7ffbe40b9cf",
   "metadata": {},
   "outputs": [
    {
     "data": {
      "text/plain": [
       "3"
      ]
     },
     "execution_count": 12,
     "metadata": {},
     "output_type": "execute_result"
    }
   ],
   "source": [
    "l6.index({'hello','welcome'})"
   ]
  },
  {
   "cell_type": "code",
   "execution_count": 13,
   "id": "adaff0be-6856-4b60-a7dc-11b52ac2510c",
   "metadata": {},
   "outputs": [
    {
     "name": "stdout",
     "output_type": "stream",
     "text": [
      "4\n"
     ]
    }
   ],
   "source": [
    "print(len(l6))"
   ]
  },
  {
   "cell_type": "markdown",
   "id": "e230ab22-65eb-431b-b526-c7ea35376d94",
   "metadata": {},
   "source": [
    "# List slicing"
   ]
  },
  {
   "cell_type": "code",
   "execution_count": 15,
   "id": "cb0c9eb5-4434-4c67-bba4-0ef449515137",
   "metadata": {},
   "outputs": [
    {
     "data": {
      "text/plain": [
       "['ten', 12, 'six', 24]"
      ]
     },
     "execution_count": 15,
     "metadata": {},
     "output_type": "execute_result"
    }
   ],
   "source": [
    "my_list=['ten',12,'six',24]\n",
    "my_list"
   ]
  },
  {
   "cell_type": "code",
   "execution_count": 16,
   "id": "a061c7e1-50f5-4440-8e24-053b6dcd3b62",
   "metadata": {},
   "outputs": [
    {
     "data": {
      "text/plain": [
       "['ten', 12, 'six', 24]"
      ]
     },
     "execution_count": 16,
     "metadata": {},
     "output_type": "execute_result"
    }
   ],
   "source": [
    "my_list[:]"
   ]
  },
  {
   "cell_type": "code",
   "execution_count": 17,
   "id": "4676aa8b-a5de-4502-9704-6dcf106477bc",
   "metadata": {},
   "outputs": [
    {
     "data": {
      "text/plain": [
       "[12, 'six', 24]"
      ]
     },
     "execution_count": 17,
     "metadata": {},
     "output_type": "execute_result"
    }
   ],
   "source": [
    "my_list[1:5]"
   ]
  },
  {
   "cell_type": "code",
   "execution_count": 18,
   "id": "e9f17093-160b-4f9d-9722-563ed76efdd7",
   "metadata": {},
   "outputs": [
    {
     "data": {
      "text/plain": [
       "[]"
      ]
     },
     "execution_count": 18,
     "metadata": {},
     "output_type": "execute_result"
    }
   ],
   "source": [
    "my_list[:-4]"
   ]
  },
  {
   "cell_type": "code",
   "execution_count": 19,
   "id": "3103452f-5a43-4b30-8ed7-e610e85a5a63",
   "metadata": {},
   "outputs": [
    {
     "data": {
      "text/plain": [
       "['ten']"
      ]
     },
     "execution_count": 19,
     "metadata": {},
     "output_type": "execute_result"
    }
   ],
   "source": [
    "my_list[:-3]"
   ]
  },
  {
   "cell_type": "code",
   "execution_count": 20,
   "id": "d2963fda-fa64-4482-9876-fb7cbb664973",
   "metadata": {},
   "outputs": [
    {
     "data": {
      "text/plain": [
       "['ten', 12, 'six']"
      ]
     },
     "execution_count": 20,
     "metadata": {},
     "output_type": "execute_result"
    }
   ],
   "source": [
    "my_list[-4:-1]"
   ]
  },
  {
   "cell_type": "code",
   "execution_count": 21,
   "id": "32190c66-baad-4f83-a8ad-93b24982155b",
   "metadata": {},
   "outputs": [
    {
     "name": "stdout",
     "output_type": "stream",
     "text": [
      "18\n"
     ]
    }
   ],
   "source": [
    "x=18\n",
    "y=4\n",
    "print(x)"
   ]
  },
  {
   "cell_type": "code",
   "execution_count": 22,
   "id": "8e6ff4b1-e662-43ab-b159-cb9bb78a4580",
   "metadata": {},
   "outputs": [
    {
     "data": {
      "text/plain": [
       "2"
      ]
     },
     "execution_count": 22,
     "metadata": {},
     "output_type": "execute_result"
    }
   ],
   "source": [
    "x=9\n",
    "y=4\n",
    "x//y"
   ]
  },
  {
   "cell_type": "code",
   "execution_count": 23,
   "id": "fb8f67c3-86e9-4ce7-a8c8-c97a06450699",
   "metadata": {},
   "outputs": [
    {
     "data": {
      "text/plain": [
       "'ell'"
      ]
     },
     "execution_count": 23,
     "metadata": {},
     "output_type": "execute_result"
    }
   ],
   "source": [
    "a='hello'\n",
    "a[1:4]"
   ]
  },
  {
   "cell_type": "code",
   "execution_count": 24,
   "id": "1e34f729-f2e1-433e-88aa-940265b516bf",
   "metadata": {},
   "outputs": [
    {
     "data": {
      "text/plain": [
       "87"
      ]
     },
     "execution_count": 24,
     "metadata": {},
     "output_type": "execute_result"
    }
   ],
   "source": [
    "x=[19,34,56,87]\n",
    "max(x)"
   ]
  },
  {
   "cell_type": "code",
   "execution_count": 25,
   "id": "fa61911a-3fe6-4e4a-a7cc-6e7c2412d6d7",
   "metadata": {},
   "outputs": [
    {
     "data": {
      "text/plain": [
       "1"
      ]
     },
     "execution_count": 25,
     "metadata": {},
     "output_type": "execute_result"
    }
   ],
   "source": [
    "x.index(34)"
   ]
  },
  {
   "cell_type": "code",
   "execution_count": 26,
   "id": "f4eb998d-8b24-4790-8f50-179b4e9c93c0",
   "metadata": {},
   "outputs": [
    {
     "data": {
      "text/plain": [
       "['joe', 35, [67, 89], [120, 37]]"
      ]
     },
     "execution_count": 26,
     "metadata": {},
     "output_type": "execute_result"
    }
   ],
   "source": [
    "l5"
   ]
  },
  {
   "cell_type": "code",
   "execution_count": 27,
   "id": "4b679c9b-c241-46d9-baea-ebb02f6df6d4",
   "metadata": {},
   "outputs": [
    {
     "ename": "AttributeError",
     "evalue": "'list' object has no attribute 'len'",
     "output_type": "error",
     "traceback": [
      "\u001b[1;31m---------------------------------------------------------------------------\u001b[0m",
      "\u001b[1;31mAttributeError\u001b[0m                            Traceback (most recent call last)",
      "Cell \u001b[1;32mIn[27], line 1\u001b[0m\n\u001b[1;32m----> 1\u001b[0m l5\u001b[38;5;241m.\u001b[39mlen(l5)\n",
      "\u001b[1;31mAttributeError\u001b[0m: 'list' object has no attribute 'len'"
     ]
    }
   ],
   "source": [
    "l5.len(l5)"
   ]
  },
  {
   "cell_type": "code",
   "execution_count": 28,
   "id": "b641f785-c204-4831-9e6f-67d9a65afcec",
   "metadata": {},
   "outputs": [
    {
     "data": {
      "text/plain": [
       "4"
      ]
     },
     "execution_count": 28,
     "metadata": {},
     "output_type": "execute_result"
    }
   ],
   "source": [
    "len(l5)"
   ]
  },
  {
   "cell_type": "code",
   "execution_count": 29,
   "id": "1f011bc3-9f87-4f68-9c58-e4d4f0fc09a0",
   "metadata": {},
   "outputs": [
    {
     "data": {
      "text/plain": [
       "35"
      ]
     },
     "execution_count": 29,
     "metadata": {},
     "output_type": "execute_result"
    }
   ],
   "source": [
    "x=35.5\n",
    "int(x)"
   ]
  },
  {
   "cell_type": "code",
   "execution_count": 30,
   "id": "716542ad-44bd-4a75-ba92-261d7d6ac619",
   "metadata": {},
   "outputs": [
    {
     "data": {
      "text/plain": [
       "35.5"
      ]
     },
     "execution_count": 30,
     "metadata": {},
     "output_type": "execute_result"
    }
   ],
   "source": [
    "x"
   ]
  },
  {
   "cell_type": "code",
   "execution_count": 31,
   "id": "a69a39b8-9a69-4a62-9d14-b0efe51d3ec6",
   "metadata": {},
   "outputs": [
    {
     "data": {
      "text/plain": [
       "False"
      ]
     },
     "execution_count": 31,
     "metadata": {},
     "output_type": "execute_result"
    }
   ],
   "source": [
    "isinstance(x,int)"
   ]
  },
  {
   "cell_type": "code",
   "execution_count": 32,
   "id": "6a76bc44-4c07-486c-8950-7d026c378d8a",
   "metadata": {},
   "outputs": [
    {
     "data": {
      "text/plain": [
       "float"
      ]
     },
     "execution_count": 32,
     "metadata": {},
     "output_type": "execute_result"
    }
   ],
   "source": [
    "type(x)"
   ]
  },
  {
   "cell_type": "code",
   "execution_count": 33,
   "id": "34a2fbc8-9abd-4ebd-8e77-c14f6681063a",
   "metadata": {},
   "outputs": [
    {
     "data": {
      "text/plain": [
       "'24'"
      ]
     },
     "execution_count": 33,
     "metadata": {},
     "output_type": "execute_result"
    }
   ],
   "source": [
    "v='24'\n",
    "v"
   ]
  },
  {
   "cell_type": "code",
   "execution_count": 34,
   "id": "6c3169b3-88ac-4a03-b57c-7df577a0d36b",
   "metadata": {},
   "outputs": [
    {
     "data": {
      "text/plain": [
       "str"
      ]
     },
     "execution_count": 34,
     "metadata": {},
     "output_type": "execute_result"
    }
   ],
   "source": [
    "type(v)"
   ]
  },
  {
   "cell_type": "code",
   "execution_count": 35,
   "id": "28013c96-e81b-407e-8e90-690bc382dec1",
   "metadata": {},
   "outputs": [
    {
     "data": {
      "text/plain": [
       "30"
      ]
     },
     "execution_count": 35,
     "metadata": {},
     "output_type": "execute_result"
    }
   ],
   "source": [
    "int(30.8)"
   ]
  },
  {
   "cell_type": "code",
   "execution_count": 36,
   "id": "3574ba24-4e09-468f-8ed3-ee969121eaa3",
   "metadata": {},
   "outputs": [
    {
     "ename": "SyntaxError",
     "evalue": "invalid syntax (3580870201.py, line 2)",
     "output_type": "error",
     "traceback": [
      "\u001b[1;36m  Cell \u001b[1;32mIn[36], line 2\u001b[1;36m\u001b[0m\n\u001b[1;33m    copy code\u001b[0m\n\u001b[1;37m         ^\u001b[0m\n\u001b[1;31mSyntaxError\u001b[0m\u001b[1;31m:\u001b[0m invalid syntax\n"
     ]
    }
   ],
   "source": [
    "python\n",
    "copy code\n",
    "print(type({}))"
   ]
  },
  {
   "cell_type": "code",
   "execution_count": 38,
   "id": "ac13ac7c-8147-4bc5-9f9f-1a85ad4b5bc1",
   "metadata": {},
   "outputs": [
    {
     "name": "stdout",
     "output_type": "stream",
     "text": [
      "7\n"
     ]
    }
   ],
   "source": [
    "l3=['m','n','s',3,7]\n",
    "print(l3.pop())"
   ]
  },
  {
   "cell_type": "code",
   "execution_count": 39,
   "id": "18a47d83-9c7f-4b00-93c2-45f277894531",
   "metadata": {},
   "outputs": [
    {
     "data": {
      "text/plain": [
       "['m', 'n', 's', 3]"
      ]
     },
     "execution_count": 39,
     "metadata": {},
     "output_type": "execute_result"
    }
   ],
   "source": [
    "l3"
   ]
  },
  {
   "cell_type": "code",
   "execution_count": 40,
   "id": "d04c1531-2e5c-41a2-8c70-4a54c67d464f",
   "metadata": {},
   "outputs": [
    {
     "name": "stdout",
     "output_type": "stream",
     "text": [
      "True\n"
     ]
    }
   ],
   "source": [
    "var=9\n",
    "print(9==9.0)"
   ]
  },
  {
   "cell_type": "code",
   "execution_count": 41,
   "id": "99f2a9e0-439b-4447-8464-e442982ddcd5",
   "metadata": {},
   "outputs": [
    {
     "name": "stdout",
     "output_type": "stream",
     "text": [
      "<class 'complex'>\n"
     ]
    }
   ],
   "source": [
    "num=9+0j\n",
    "print(type(num))"
   ]
  },
  {
   "cell_type": "code",
   "execution_count": 42,
   "id": "1b4b9a49-94a4-424e-8c48-f1d225ea8fa1",
   "metadata": {},
   "outputs": [
    {
     "name": "stdout",
     "output_type": "stream",
     "text": [
      "8\n"
     ]
    }
   ],
   "source": [
    "num1=8.9\n",
    "print(int(8.9))"
   ]
  },
  {
   "cell_type": "code",
   "execution_count": 43,
   "id": "8b053201-5735-46ab-baed-38137b1283d3",
   "metadata": {},
   "outputs": [
    {
     "data": {
      "text/plain": [
       "'python.py'"
      ]
     },
     "execution_count": 43,
     "metadata": {},
     "output_type": "execute_result"
    }
   ],
   "source": [
    "a ='python'+\".py\"\n",
    "a"
   ]
  },
  {
   "cell_type": "code",
   "execution_count": 44,
   "id": "44ef193e-9d42-4202-a9f5-4e223d4f6e5b",
   "metadata": {},
   "outputs": [
    {
     "name": "stdout",
     "output_type": "stream",
     "text": [
      "True"
     ]
    },
    {
     "ename": "ValueError",
     "evalue": "invalid literal for int() with base 10: '8.9'",
     "output_type": "error",
     "traceback": [
      "\u001b[1;31m---------------------------------------------------------------------------\u001b[0m",
      "\u001b[1;31mValueError\u001b[0m                                Traceback (most recent call last)",
      "Cell \u001b[1;32mIn[44], line 2\u001b[0m\n\u001b[0;32m      1\u001b[0m \u001b[38;5;28mprint\u001b[39m(\u001b[38;5;28mstr\u001b[39m(\u001b[38;5;28;01mTrue\u001b[39;00m),end\u001b[38;5;241m=\u001b[39m\u001b[38;5;124m'\u001b[39m\u001b[38;5;124m'\u001b[39m)\n\u001b[1;32m----> 2\u001b[0m \u001b[38;5;28mint\u001b[39m(\u001b[38;5;124m'\u001b[39m\u001b[38;5;124m8.9\u001b[39m\u001b[38;5;124m'\u001b[39m)\n",
      "\u001b[1;31mValueError\u001b[0m: invalid literal for int() with base 10: '8.9'"
     ]
    }
   ],
   "source": [
    "print(str(True),end='')\n",
    "int('8.9')"
   ]
  },
  {
   "cell_type": "code",
   "execution_count": 46,
   "id": "4ebdc06d-67ab-4797-934f-6653ea3c66b2",
   "metadata": {},
   "outputs": [
    {
     "name": "stdout",
     "output_type": "stream",
     "text": [
      "25\n",
      "50\n"
     ]
    }
   ],
   "source": [
    "x=50\n",
    "def fun1():\n",
    "    x=25\n",
    "    print(x)\n",
    "fun1()\n",
    "print(x)"
   ]
  },
  {
   "cell_type": "code",
   "execution_count": 47,
   "id": "cf09f9e8-8e1f-43d1-a15b-b87c9ab047b2",
   "metadata": {},
   "outputs": [
    {
     "ename": "UnboundLocalError",
     "evalue": "cannot access local variable 'x' where it is not associated with a value",
     "output_type": "error",
     "traceback": [
      "\u001b[1;31m---------------------------------------------------------------------------\u001b[0m",
      "\u001b[1;31mUnboundLocalError\u001b[0m                         Traceback (most recent call last)",
      "Cell \u001b[1;32mIn[47], line 5\u001b[0m\n\u001b[0;32m      3\u001b[0m     x\u001b[38;5;241m=\u001b[39mx\u001b[38;5;241m+\u001b[39m\u001b[38;5;241m1\u001b[39m\n\u001b[0;32m      4\u001b[0m     \u001b[38;5;28mprint\u001b[39m(x)\n\u001b[1;32m----> 5\u001b[0m myfunc()\n\u001b[0;32m      6\u001b[0m \u001b[38;5;28mprint\u001b[39m(x)\n",
      "Cell \u001b[1;32mIn[47], line 3\u001b[0m, in \u001b[0;36mmyfunc\u001b[1;34m()\u001b[0m\n\u001b[0;32m      2\u001b[0m \u001b[38;5;28;01mdef\u001b[39;00m \u001b[38;5;21mmyfunc\u001b[39m():\n\u001b[1;32m----> 3\u001b[0m     x\u001b[38;5;241m=\u001b[39mx\u001b[38;5;241m+\u001b[39m\u001b[38;5;241m1\u001b[39m\n\u001b[0;32m      4\u001b[0m     \u001b[38;5;28mprint\u001b[39m(x)\n",
      "\u001b[1;31mUnboundLocalError\u001b[0m: cannot access local variable 'x' where it is not associated with a value"
     ]
    }
   ],
   "source": [
    "x=76\n",
    "def myfunc():\n",
    "    x=x+1\n",
    "    print(x)\n",
    "myfunc()\n",
    "print(x)"
   ]
  },
  {
   "cell_type": "code",
   "execution_count": 48,
   "id": "71ac0101-24a8-4a25-9dce-60cce1950d81",
   "metadata": {},
   "outputs": [
    {
     "name": "stdout",
     "output_type": "stream",
     "text": [
      "<class 'int'>\n"
     ]
    }
   ],
   "source": [
    "print(type(0xFF))"
   ]
  },
  {
   "cell_type": "code",
   "execution_count": 49,
   "id": "e3bebdca-6ad1-4509-923b-860f4c679694",
   "metadata": {},
   "outputs": [
    {
     "ename": "SyntaxError",
     "evalue": "unterminated string literal (detected at line 1) (174450467.py, line 1)",
     "output_type": "error",
     "traceback": [
      "\u001b[1;36m  Cell \u001b[1;32mIn[49], line 1\u001b[1;36m\u001b[0m\n\u001b[1;33m    str1='Auil\\\\'kelly'\u001b[0m\n\u001b[1;37m                      ^\u001b[0m\n\u001b[1;31mSyntaxError\u001b[0m\u001b[1;31m:\u001b[0m unterminated string literal (detected at line 1)\n"
     ]
    }
   ],
   "source": [
    "str1='Auil\\\\'kelly'\n",
    "str1"
   ]
  },
  {
   "cell_type": "code",
   "execution_count": 50,
   "id": "419160fb-fa3e-49e7-b6dc-c1298f3a8af4",
   "metadata": {},
   "outputs": [
    {
     "data": {
      "text/plain": [
       "\"Auil'kelly\""
      ]
     },
     "execution_count": 50,
     "metadata": {},
     "output_type": "execute_result"
    }
   ],
   "source": [
    "str1=\"\"\"Auil'kelly\"\"\"\n",
    "str1"
   ]
  },
  {
   "cell_type": "code",
   "execution_count": 51,
   "id": "e869d26b-9c98-4fd1-bcfc-a9d5d21abd32",
   "metadata": {},
   "outputs": [
    {
     "data": {
      "text/plain": [
       "\"Auil'kelly\""
      ]
     },
     "execution_count": 51,
     "metadata": {},
     "output_type": "execute_result"
    }
   ],
   "source": [
    "str1='Auil\\'kelly'\n",
    "str1"
   ]
  },
  {
   "cell_type": "code",
   "execution_count": null,
   "id": "63b3f1c0-4a8a-4000-8ce5-25fe79f14858",
   "metadata": {},
   "outputs": [],
   "source": []
  }
 ],
 "metadata": {
  "kernelspec": {
   "display_name": "Python 3 (ipykernel)",
   "language": "python",
   "name": "python3"
  },
  "language_info": {
   "codemirror_mode": {
    "name": "ipython",
    "version": 3
   },
   "file_extension": ".py",
   "mimetype": "text/x-python",
   "name": "python",
   "nbconvert_exporter": "python",
   "pygments_lexer": "ipython3",
   "version": "3.12.4"
  }
 },
 "nbformat": 4,
 "nbformat_minor": 5
}
