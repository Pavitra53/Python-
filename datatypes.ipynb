{
 "cells": [
  {
   "cell_type": "markdown",
   "id": "293f95a2-45c2-41f9-a11d-b624477c789e",
   "metadata": {},
   "source": [
    "# Datatypes"
   ]
  },
  {
   "cell_type": "code",
   "execution_count": 1,
   "id": "90decad7-ee3d-4a8b-b6ca-b36a8049f5d0",
   "metadata": {},
   "outputs": [
    {
     "name": "stdout",
     "output_type": "stream",
     "text": [
      "addition of 10 20 is 30\n"
     ]
    }
   ],
   "source": [
    "num1,num2=10,20\n",
    "add=num1+num2\n",
    "print('addition of', num1,num2,'is',add)"
   ]
  },
  {
   "cell_type": "code",
   "execution_count": 2,
   "id": "7cc1145d-8834-44aa-b75d-f7d48a7a44a4",
   "metadata": {},
   "outputs": [
    {
     "name": "stdout",
     "output_type": "stream",
     "text": [
      "addition of 20 and 30 is= 50\n"
     ]
    }
   ],
   "source": [
    "num1=20\n",
    "num2=30\n",
    "add=num1+num2\n",
    "print('addition of',num1,'and',num2,'is=',add)"
   ]
  },
  {
   "cell_type": "code",
   "execution_count": 3,
   "id": "73b837f7-004e-47c2-8ddf-bfddb3343a15",
   "metadata": {},
   "outputs": [
    {
     "name": "stdout",
     "output_type": "stream",
     "text": [
      "my name is python age is 20 from hyderabad\n"
     ]
    }
   ],
   "source": [
    "name='python'\n",
    "age=20\n",
    "city='hyderabad'\n",
    "print('my name is',name,'age is',age,'from',city)"
   ]
  },
  {
   "cell_type": "code",
   "execution_count": 5,
   "id": "8ca4f26d-541f-4bf5-a235-23df34a8ffb3",
   "metadata": {},
   "outputs": [
    {
     "name": "stdout",
     "output_type": "stream",
     "text": [
      "my name ispython and age is 20 and from hyderabad.\n"
     ]
    }
   ],
   "source": [
    "name='python'\n",
    "age=20\n",
    "city='hyderabad'\n",
    "print('my name is{} and age is {} and from {}.'.format(name,age,city))"
   ]
  },
  {
   "cell_type": "code",
   "execution_count": 6,
   "id": "a6cb9708-84f1-44fb-919c-997e17543322",
   "metadata": {},
   "outputs": [
    {
     "name": "stdout",
     "output_type": "stream",
     "text": [
      "addition of 20 and 80 is=100\n"
     ]
    }
   ],
   "source": [
    "num1=20\n",
    "num2=80\n",
    "add=num1+num2\n",
    "print(f'addition of {num1} and {num2} is={add}')"
   ]
  },
  {
   "cell_type": "code",
   "execution_count": 7,
   "id": "c427dae3-0021-417a-8cbe-58a0801ae393",
   "metadata": {},
   "outputs": [],
   "source": [
    "#num1=100 num2=25 num3=333 avg=(num1+num2+num3)/3print(avg)"
   ]
  },
  {
   "cell_type": "code",
   "execution_count": 9,
   "id": "fcf716c2-1c5f-41c8-b9a3-8ee81472d3c8",
   "metadata": {},
   "outputs": [
    {
     "name": "stdout",
     "output_type": "stream",
     "text": [
      "avg of100,25 and 333 is 152.66666666666666 or (152.66666666666666, 2)\n"
     ]
    }
   ],
   "source": [
    "num1=100\n",
    "num2=25\n",
    "num3=333\n",
    "avg=(num1+num2+num3)/3\n",
    "avg1=round(num1+num2+num3)/3,2\n",
    "print(f'avg of{num1},{num2} and {num3} is {avg} or {avg1}')"
   ]
  },
  {
   "cell_type": "markdown",
   "id": "8d4b23c9-ceca-4496-814e-cc2d89b1456d",
   "metadata": {},
   "source": [
    "# end statement"
   ]
  },
  {
   "cell_type": "code",
   "execution_count": 10,
   "id": "5bb73975-dd9e-46e0-8ebe-467e55cf96e8",
   "metadata": {},
   "outputs": [
    {
     "name": "stdout",
     "output_type": "stream",
     "text": [
      "hello\n",
      "good morning\n"
     ]
    }
   ],
   "source": [
    "print('hello')\n",
    "print('good morning')"
   ]
  },
  {
   "cell_type": "code",
   "execution_count": 13,
   "id": "1c3d5737-425c-4301-b3be-feef8b1550c6",
   "metadata": {},
   "outputs": [
    {
     "name": "stdout",
     "output_type": "stream",
     "text": [
      "hello good morning\n"
     ]
    }
   ],
   "source": [
    "print('hello',end=' ')\n",
    "print('good morning')"
   ]
  },
  {
   "cell_type": "code",
   "execution_count": 14,
   "id": "ef336d87-0253-4d5c-9d4c-d25a52fb51c2",
   "metadata": {},
   "outputs": [
    {
     "name": "stdout",
     "output_type": "stream",
     "text": [
      "1 2 3 4\n"
     ]
    }
   ],
   "source": [
    "print(1,2,end=' ')\n",
    "print(3,4)"
   ]
  },
  {
   "cell_type": "markdown",
   "id": "f571dc73-207b-490f-bd35-8663e29bd25a",
   "metadata": {},
   "source": [
    "# separator"
   ]
  },
  {
   "cell_type": "code",
   "execution_count": 15,
   "id": "3e68d3d9-08de-49f4-8925-bcfdd8c7b923",
   "metadata": {},
   "outputs": [
    {
     "name": "stdout",
     "output_type": "stream",
     "text": [
      "hai--->hello--->how are you\n"
     ]
    }
   ],
   "source": [
    "print('hai', 'hello', 'how are you',sep='--->')"
   ]
  },
  {
   "cell_type": "code",
   "execution_count": 16,
   "id": "ded55b31-350c-4c48-8b6f-07c906cb2ffe",
   "metadata": {},
   "outputs": [
    {
     "name": "stdout",
     "output_type": "stream",
     "text": [
      "3 .\n"
     ]
    }
   ],
   "source": [
    "print(3,'.')"
   ]
  },
  {
   "cell_type": "code",
   "execution_count": 17,
   "id": "601fce85-223d-4730-b0de-c543ca4e65b0",
   "metadata": {},
   "outputs": [
    {
     "name": "stdout",
     "output_type": "stream",
     "text": [
      "3.\n"
     ]
    }
   ],
   "source": [
    "print(3,'.',sep='')"
   ]
  },
  {
   "cell_type": "code",
   "execution_count": 20,
   "id": "f5ca2719-c3ec-429e-8fff-c6e5736280f7",
   "metadata": {},
   "outputs": [
    {
     "name": "stdout",
     "output_type": "stream",
     "text": [
      "1 2 3 4 .\n"
     ]
    }
   ],
   "source": [
    "print(1,2,3,end=' ')\n",
    "print(4,'.',sep=' ')"
   ]
  },
  {
   "cell_type": "code",
   "execution_count": 21,
   "id": "b2b06de8-e712-465f-859a-d24795dd95f4",
   "metadata": {},
   "outputs": [
    {
     "name": "stdout",
     "output_type": "stream",
     "text": [
      "34\n"
     ]
    }
   ],
   "source": [
    "age=34\n",
    "print(age)"
   ]
  },
  {
   "cell_type": "code",
   "execution_count": 22,
   "id": "7e9e88f6-8a50-449a-b39d-9f7b59eba011",
   "metadata": {},
   "outputs": [
    {
     "name": "stdout",
     "output_type": "stream",
     "text": [
      "29\n"
     ]
    }
   ],
   "source": [
    "number=30\n",
    "print(number-1)"
   ]
  },
  {
   "cell_type": "code",
   "execution_count": 23,
   "id": "4bd6adb8-68dd-4d38-ac9b-1600c1c39e13",
   "metadata": {},
   "outputs": [
    {
     "name": "stdout",
     "output_type": "stream",
     "text": [
      "chef\n"
     ]
    }
   ],
   "source": [
    "a='chef'\n",
    "print(a)"
   ]
  },
  {
   "cell_type": "code",
   "execution_count": 24,
   "id": "b08d8a36-cf03-46f4-9cc6-03eec1d37604",
   "metadata": {},
   "outputs": [
    {
     "name": "stdout",
     "output_type": "stream",
     "text": [
      "121\n"
     ]
    }
   ],
   "source": [
    "a=23\n",
    "b=98\n",
    "print(a+b)"
   ]
  },
  {
   "cell_type": "code",
   "execution_count": 25,
   "id": "08e34850-25e9-4c62-a823-d02cfd4c778b",
   "metadata": {},
   "outputs": [
    {
     "name": "stdout",
     "output_type": "stream",
     "text": [
      "3915\n"
     ]
    }
   ],
   "source": [
    "l=45\n",
    "b=87\n",
    "area=l*b\n",
    "print(l*b)"
   ]
  },
  {
   "cell_type": "code",
   "execution_count": 28,
   "id": "71f7b63d-a32b-4cfb-aa18-bb5ecb271191",
   "metadata": {},
   "outputs": [
    {
     "name": "stdout",
     "output_type": "stream",
     "text": [
      "248.71940000000004\n"
     ]
    }
   ],
   "source": [
    "r=8.9\n",
    "pi=3.14\n",
    "area=r*r*pi\n",
    "print(area)"
   ]
  },
  {
   "cell_type": "code",
   "execution_count": 29,
   "id": "be8ed65f-d6d6-4340-8f87-19b02b7d4c47",
   "metadata": {},
   "outputs": [
    {
     "name": "stdout",
     "output_type": "stream",
     "text": [
      "learning isfun!\n"
     ]
    }
   ],
   "source": [
    "a='learning is'\n",
    "c=''\n",
    "b='fun!'\n",
    "print(a+c+b)"
   ]
  },
  {
   "cell_type": "code",
   "execution_count": null,
   "id": "579fd4a9-3119-4bf6-8068-9fdcee4155c9",
   "metadata": {},
   "outputs": [],
   "source": []
  }
 ],
 "metadata": {
  "kernelspec": {
   "display_name": "Python 3 (ipykernel)",
   "language": "python",
   "name": "python3"
  },
  "language_info": {
   "codemirror_mode": {
    "name": "ipython",
    "version": 3
   },
   "file_extension": ".py",
   "mimetype": "text/x-python",
   "name": "python",
   "nbconvert_exporter": "python",
   "pygments_lexer": "ipython3",
   "version": "3.12.4"
  }
 },
 "nbformat": 4,
 "nbformat_minor": 5
}
