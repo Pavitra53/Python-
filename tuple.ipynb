{
 "cells": [
  {
   "cell_type": "markdown",
   "id": "0c654ef8-fff1-47ab-a125-72d29fa75bd3",
   "metadata": {},
   "source": [
    "#  Tuple"
   ]
  },
  {
   "cell_type": "code",
   "execution_count": 1,
   "id": "a9afcf71-43ee-47bc-918c-b2ea6758db7b",
   "metadata": {},
   "outputs": [],
   "source": [
    "tuple=()"
   ]
  },
  {
   "cell_type": "code",
   "execution_count": 2,
   "id": "be8619e1-808a-4186-9c63-1c6f7fb18f28",
   "metadata": {},
   "outputs": [
    {
     "data": {
      "text/plain": [
       "()"
      ]
     },
     "execution_count": 2,
     "metadata": {},
     "output_type": "execute_result"
    }
   ],
   "source": [
    "tuple"
   ]
  },
  {
   "cell_type": "code",
   "execution_count": 3,
   "id": "0c794ccb-52ae-4d36-b530-fcf82f442271",
   "metadata": {},
   "outputs": [
    {
     "data": {
      "text/plain": [
       "tuple"
      ]
     },
     "execution_count": 3,
     "metadata": {},
     "output_type": "execute_result"
    }
   ],
   "source": [
    "type(tuple)"
   ]
  },
  {
   "cell_type": "code",
   "execution_count": 6,
   "id": "9d4d3a85-e6d3-474f-a955-c2e12afdc66e",
   "metadata": {},
   "outputs": [
    {
     "data": {
      "text/plain": [
       "(89, 30.4, 'nit', (2+5j))"
      ]
     },
     "execution_count": 6,
     "metadata": {},
     "output_type": "execute_result"
    }
   ],
   "source": [
    "t1=(89,30.4,'nit',2+5j)\n",
    "t1"
   ]
  },
  {
   "cell_type": "code",
   "execution_count": 7,
   "id": "7f571009-6e5e-48ad-9773-ebd3b5047050",
   "metadata": {},
   "outputs": [
    {
     "data": {
      "text/plain": [
       "(23, 66, 'hi', (60, 89), (78, 23), 'sky')"
      ]
     },
     "execution_count": 7,
     "metadata": {},
     "output_type": "execute_result"
    }
   ],
   "source": [
    "t2=(23,66,'hi',(60,89),(78,23),'sky')\n",
    "t2"
   ]
  },
  {
   "cell_type": "code",
   "execution_count": 8,
   "id": "54179859-dc0e-4274-a0d4-7d097f304b24",
   "metadata": {},
   "outputs": [
    {
     "data": {
      "text/plain": [
       "(78, 23)"
      ]
     },
     "execution_count": 8,
     "metadata": {},
     "output_type": "execute_result"
    }
   ],
   "source": [
    "t2[4]"
   ]
  },
  {
   "cell_type": "code",
   "execution_count": 9,
   "id": "ca7f785a-c73f-48d2-910e-e52b44a349f7",
   "metadata": {},
   "outputs": [
    {
     "data": {
      "text/plain": [
       "('mini', 37, [45, 87], {'hey', 'siri'})"
      ]
     },
     "execution_count": 9,
     "metadata": {},
     "output_type": "execute_result"
    }
   ],
   "source": [
    "t3=('mini',37,[45,87],{'hey','siri'})\n",
    "t3"
   ]
  },
  {
   "cell_type": "code",
   "execution_count": 10,
   "id": "d1129ded-e20f-45af-9567-8d4d93cd0bd4",
   "metadata": {},
   "outputs": [
    {
     "ename": "IndexError",
     "evalue": "tuple index out of range",
     "output_type": "error",
     "traceback": [
      "\u001b[1;31m---------------------------------------------------------------------------\u001b[0m",
      "\u001b[1;31mIndexError\u001b[0m                                Traceback (most recent call last)",
      "Cell \u001b[1;32mIn[10], line 1\u001b[0m\n\u001b[1;32m----> 1\u001b[0m t3[\u001b[38;5;241m5\u001b[39m]\n",
      "\u001b[1;31mIndexError\u001b[0m: tuple index out of range"
     ]
    }
   ],
   "source": [
    "t3[5]"
   ]
  },
  {
   "cell_type": "code",
   "execution_count": 11,
   "id": "4b080793-854b-4272-a235-ae096b41461a",
   "metadata": {},
   "outputs": [
    {
     "data": {
      "text/plain": [
       "{'hey', 'siri'}"
      ]
     },
     "execution_count": 11,
     "metadata": {},
     "output_type": "execute_result"
    }
   ],
   "source": [
    "t3[3]"
   ]
  },
  {
   "cell_type": "code",
   "execution_count": 12,
   "id": "ee60ef43-9ce1-4944-8af6-ef8b3401a044",
   "metadata": {},
   "outputs": [
    {
     "data": {
      "text/plain": [
       "(89, 30.4, 'nit', (2+5j))"
      ]
     },
     "execution_count": 12,
     "metadata": {},
     "output_type": "execute_result"
    }
   ],
   "source": [
    "t1"
   ]
  },
  {
   "cell_type": "code",
   "execution_count": 14,
   "id": "bd0737b5-3a0c-4ca1-93c4-7eac90b2dc39",
   "metadata": {},
   "outputs": [
    {
     "data": {
      "text/plain": [
       "'n'"
      ]
     },
     "execution_count": 14,
     "metadata": {},
     "output_type": "execute_result"
    }
   ],
   "source": [
    "t1[2][0]"
   ]
  },
  {
   "cell_type": "code",
   "execution_count": 15,
   "id": "8af165db-d6e6-4cd6-81cb-27e8d1097619",
   "metadata": {},
   "outputs": [
    {
     "data": {
      "text/plain": [
       "'i'"
      ]
     },
     "execution_count": 15,
     "metadata": {},
     "output_type": "execute_result"
    }
   ],
   "source": [
    "t1[2][1]"
   ]
  },
  {
   "cell_type": "code",
   "execution_count": 16,
   "id": "09cc1c76-629c-4d74-9e07-ecb7cd25dabd",
   "metadata": {},
   "outputs": [
    {
     "data": {
      "text/plain": [
       "'t'"
      ]
     },
     "execution_count": 16,
     "metadata": {},
     "output_type": "execute_result"
    }
   ],
   "source": [
    "t1[2][2]"
   ]
  },
  {
   "cell_type": "code",
   "execution_count": 17,
   "id": "0b9a153e-e17d-4717-b6b5-38128e2b6b98",
   "metadata": {},
   "outputs": [
    {
     "data": {
      "text/plain": [
       "(23, 66, 'hi', (60, 89), (78, 23), 'sky')"
      ]
     },
     "execution_count": 17,
     "metadata": {},
     "output_type": "execute_result"
    }
   ],
   "source": [
    "t2"
   ]
  },
  {
   "cell_type": "code",
   "execution_count": 18,
   "id": "5ed63c27-f194-430b-8aa9-ad4450597d38",
   "metadata": {},
   "outputs": [
    {
     "data": {
      "text/plain": [
       "(60, 89)"
      ]
     },
     "execution_count": 18,
     "metadata": {},
     "output_type": "execute_result"
    }
   ],
   "source": [
    "t2[-3]"
   ]
  },
  {
   "cell_type": "code",
   "execution_count": 19,
   "id": "384da835-2b18-4e49-acb4-f544575b5e9a",
   "metadata": {},
   "outputs": [
    {
     "data": {
      "text/plain": [
       "6"
      ]
     },
     "execution_count": 19,
     "metadata": {},
     "output_type": "execute_result"
    }
   ],
   "source": [
    "len(t2)"
   ]
  },
  {
   "cell_type": "code",
   "execution_count": 20,
   "id": "28f23c94-c130-4816-843f-1c52f8690189",
   "metadata": {},
   "outputs": [
    {
     "data": {
      "text/plain": [
       "4"
      ]
     },
     "execution_count": 20,
     "metadata": {},
     "output_type": "execute_result"
    }
   ],
   "source": [
    "len(t1)"
   ]
  },
  {
   "cell_type": "code",
   "execution_count": 21,
   "id": "936bcd47-a270-4319-96a5-5db8f5fd058b",
   "metadata": {},
   "outputs": [
    {
     "data": {
      "text/plain": [
       "4"
      ]
     },
     "execution_count": 21,
     "metadata": {},
     "output_type": "execute_result"
    }
   ],
   "source": [
    "len(t3)"
   ]
  },
  {
   "cell_type": "code",
   "execution_count": 22,
   "id": "b36c54ef-e87d-454b-a2fd-1b172373326a",
   "metadata": {},
   "outputs": [
    {
     "data": {
      "text/plain": [
       "(89, 30.4, 'nit', (2+5j))"
      ]
     },
     "execution_count": 22,
     "metadata": {},
     "output_type": "execute_result"
    }
   ],
   "source": [
    "t1"
   ]
  },
  {
   "cell_type": "code",
   "execution_count": 23,
   "id": "ca0a7230-e9fe-4a67-b18f-f8167cfcb998",
   "metadata": {},
   "outputs": [
    {
     "data": {
      "text/plain": [
       "(23, 66, 'hi', (60, 89), (78, 23), 'sky')"
      ]
     },
     "execution_count": 23,
     "metadata": {},
     "output_type": "execute_result"
    }
   ],
   "source": [
    "t2"
   ]
  },
  {
   "cell_type": "code",
   "execution_count": 24,
   "id": "9dbe4cb1-84e2-4504-af3f-adf8820c54e7",
   "metadata": {},
   "outputs": [
    {
     "data": {
      "text/plain": [
       "('mini', 37, [45, 87], {'hey', 'siri'})"
      ]
     },
     "execution_count": 24,
     "metadata": {},
     "output_type": "execute_result"
    }
   ],
   "source": [
    "t3"
   ]
  },
  {
   "cell_type": "code",
   "execution_count": 26,
   "id": "066db784-fb0a-4031-9f66-741945e0b698",
   "metadata": {},
   "outputs": [
    {
     "data": {
      "text/plain": [
       "(23, 66, 'hi', (60, 89), (78, 23), 'sky')"
      ]
     },
     "execution_count": 26,
     "metadata": {},
     "output_type": "execute_result"
    }
   ],
   "source": [
    "t2[:]"
   ]
  },
  {
   "cell_type": "code",
   "execution_count": 27,
   "id": "f0d0385f-3769-42a7-b520-02e5448de5cd",
   "metadata": {},
   "outputs": [
    {
     "data": {
      "text/plain": [
       "('hi', (60, 89), (78, 23))"
      ]
     },
     "execution_count": 27,
     "metadata": {},
     "output_type": "execute_result"
    }
   ],
   "source": [
    "t2[2:5]"
   ]
  },
  {
   "cell_type": "code",
   "execution_count": 28,
   "id": "5b8de697-eec5-42bd-83c5-f086c512c99c",
   "metadata": {},
   "outputs": [
    {
     "data": {
      "text/plain": [
       "('hi', (60, 89))"
      ]
     },
     "execution_count": 28,
     "metadata": {},
     "output_type": "execute_result"
    }
   ],
   "source": [
    "t2[2:4]"
   ]
  },
  {
   "cell_type": "code",
   "execution_count": 29,
   "id": "72ebdbbe-3590-4e77-90d3-705adf582bb1",
   "metadata": {},
   "outputs": [
    {
     "data": {
      "text/plain": [
       "0"
      ]
     },
     "execution_count": 29,
     "metadata": {},
     "output_type": "execute_result"
    }
   ],
   "source": [
    "t1.count(t1)"
   ]
  },
  {
   "cell_type": "code",
   "execution_count": 30,
   "id": "2d271cca-9485-451e-9386-014d87efb209",
   "metadata": {},
   "outputs": [
    {
     "data": {
      "text/plain": [
       "1"
      ]
     },
     "execution_count": 30,
     "metadata": {},
     "output_type": "execute_result"
    }
   ],
   "source": [
    "t1.count(30.4)"
   ]
  },
  {
   "cell_type": "code",
   "execution_count": 31,
   "id": "5d151df5-47f2-4471-8cb8-2b05ee98c8e5",
   "metadata": {},
   "outputs": [
    {
     "data": {
      "text/plain": [
       "1"
      ]
     },
     "execution_count": 31,
     "metadata": {},
     "output_type": "execute_result"
    }
   ],
   "source": [
    "t2.count('hi')"
   ]
  },
  {
   "cell_type": "code",
   "execution_count": 32,
   "id": "bd6ff6f2-bede-4cfd-bd20-e765a461dc68",
   "metadata": {},
   "outputs": [
    {
     "name": "stdout",
     "output_type": "stream",
     "text": [
      "23\n",
      "66\n",
      "hi\n",
      "(60, 89)\n",
      "(78, 23)\n",
      "sky\n"
     ]
    }
   ],
   "source": [
    "for i in t2:\n",
    "    print(i)"
   ]
  },
  {
   "cell_type": "code",
   "execution_count": 33,
   "id": "20221a3a-0645-4bcf-a651-943a1f7abeda",
   "metadata": {},
   "outputs": [
    {
     "ename": "TypeError",
     "evalue": "'<' not supported between instances of 'str' and 'int'",
     "output_type": "error",
     "traceback": [
      "\u001b[1;31m---------------------------------------------------------------------------\u001b[0m",
      "\u001b[1;31mTypeError\u001b[0m                                 Traceback (most recent call last)",
      "Cell \u001b[1;32mIn[33], line 1\u001b[0m\n\u001b[1;32m----> 1\u001b[0m \u001b[38;5;28msorted\u001b[39m(t2)\n",
      "\u001b[1;31mTypeError\u001b[0m: '<' not supported between instances of 'str' and 'int'"
     ]
    }
   ],
   "source": [
    "sorted(t2)"
   ]
  },
  {
   "cell_type": "code",
   "execution_count": 34,
   "id": "56cfb5f6-91f7-4c66-b41f-c5418a48eb6e",
   "metadata": {},
   "outputs": [
    {
     "data": {
      "text/plain": [
       "('siri', 'mini', 'sha')"
      ]
     },
     "execution_count": 34,
     "metadata": {},
     "output_type": "execute_result"
    }
   ],
   "source": [
    "t4=('siri','mini','sha')\n",
    "t4"
   ]
  },
  {
   "cell_type": "code",
   "execution_count": 35,
   "id": "d3d08fc3-5ce9-4050-bdaf-bee47c291078",
   "metadata": {},
   "outputs": [
    {
     "data": {
      "text/plain": [
       "['mini', 'sha', 'siri']"
      ]
     },
     "execution_count": 35,
     "metadata": {},
     "output_type": "execute_result"
    }
   ],
   "source": [
    "sorted(t4)"
   ]
  },
  {
   "cell_type": "code",
   "execution_count": 38,
   "id": "232632f0-baa7-4a54-b014-00f582fe5fee",
   "metadata": {},
   "outputs": [
    {
     "name": "stdout",
     "output_type": "stream",
     "text": [
      "no\n"
     ]
    }
   ],
   "source": [
    "if 'shi' in t4:\n",
    "    print('yes')\n",
    "else:\n",
    "    print('no')"
   ]
  },
  {
   "cell_type": "code",
   "execution_count": 39,
   "id": "ad97b16a-8942-47e7-a3b3-63619b4b0701",
   "metadata": {},
   "outputs": [
    {
     "data": {
      "text/plain": [
       "(89, 30.4, 'nit', (2+5j))"
      ]
     },
     "execution_count": 39,
     "metadata": {},
     "output_type": "execute_result"
    }
   ],
   "source": [
    "t1"
   ]
  },
  {
   "cell_type": "code",
   "execution_count": 40,
   "id": "1b76a88f-bda7-4d9c-abf1-f6ea1b0f681c",
   "metadata": {},
   "outputs": [
    {
     "name": "stdout",
     "output_type": "stream",
     "text": [
      "no\n"
     ]
    }
   ],
   "source": [
    "if 10 in t1:\n",
    "    print('yes')\n",
    "else:\n",
    "    print('no')"
   ]
  },
  {
   "cell_type": "code",
   "execution_count": null,
   "id": "f563667e-fa09-4d0c-8e65-5fda2a388fb9",
   "metadata": {},
   "outputs": [],
   "source": []
  }
 ],
 "metadata": {
  "kernelspec": {
   "display_name": "Python 3 (ipykernel)",
   "language": "python",
   "name": "python3"
  },
  "language_info": {
   "codemirror_mode": {
    "name": "ipython",
    "version": 3
   },
   "file_extension": ".py",
   "mimetype": "text/x-python",
   "name": "python",
   "nbconvert_exporter": "python",
   "pygments_lexer": "ipython3",
   "version": "3.12.4"
  }
 },
 "nbformat": 4,
 "nbformat_minor": 5
}
