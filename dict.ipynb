{
 "cells": [
  {
   "cell_type": "markdown",
   "id": "af6b58de-6a4a-46ca-8598-fad7dd5188b5",
   "metadata": {},
   "source": [
    "# Dict"
   ]
  },
  {
   "cell_type": "code",
   "execution_count": 1,
   "id": "80da3e19-f5d6-4b5a-b507-7445d9760a12",
   "metadata": {},
   "outputs": [
    {
     "data": {
      "text/plain": [
       "{}"
      ]
     },
     "execution_count": 1,
     "metadata": {},
     "output_type": "execute_result"
    }
   ],
   "source": [
    "d={}\n",
    "d"
   ]
  },
  {
   "cell_type": "code",
   "execution_count": 2,
   "id": "0831b085-8165-4b7b-8d57-4e0d1858e980",
   "metadata": {},
   "outputs": [
    {
     "data": {
      "text/plain": [
       "dict"
      ]
     },
     "execution_count": 2,
     "metadata": {},
     "output_type": "execute_result"
    }
   ],
   "source": [
    "type(d)"
   ]
  },
  {
   "cell_type": "code",
   "execution_count": 6,
   "id": "a4bb80cb-109c-4cb1-ae99-5f46e3265a8b",
   "metadata": {},
   "outputs": [
    {
     "data": {
      "text/plain": [
       "{1: 'one', 2: 'two', 3: 'three'}"
      ]
     },
     "execution_count": 6,
     "metadata": {},
     "output_type": "execute_result"
    }
   ],
   "source": [
    "d ={1:'one',2:'two',3:'three'}\n",
    "d"
   ]
  },
  {
   "cell_type": "code",
   "execution_count": 7,
   "id": "2ecfd6cf-22d7-40a7-9cc5-6c7f7807b96c",
   "metadata": {},
   "outputs": [
    {
     "data": {
      "text/plain": [
       "dict_keys([1, 2, 3])"
      ]
     },
     "execution_count": 7,
     "metadata": {},
     "output_type": "execute_result"
    }
   ],
   "source": [
    "d.keys()"
   ]
  },
  {
   "cell_type": "code",
   "execution_count": 8,
   "id": "26b743e9-ba19-4a21-be07-9d16dd325113",
   "metadata": {},
   "outputs": [
    {
     "data": {
      "text/plain": [
       "dict_values(['one', 'two', 'three'])"
      ]
     },
     "execution_count": 8,
     "metadata": {},
     "output_type": "execute_result"
    }
   ],
   "source": [
    "d.values()"
   ]
  },
  {
   "cell_type": "code",
   "execution_count": 9,
   "id": "061abcf9-fc75-4c49-9253-06f4d3905b77",
   "metadata": {},
   "outputs": [
    {
     "data": {
      "text/plain": [
       "dict_items([(1, 'one'), (2, 'two'), (3, 'three')])"
      ]
     },
     "execution_count": 9,
     "metadata": {},
     "output_type": "execute_result"
    }
   ],
   "source": [
    "d.items()"
   ]
  },
  {
   "cell_type": "code",
   "execution_count": 11,
   "id": "f9f49529-f386-4fb3-bb5a-ce0146b2cc7a",
   "metadata": {},
   "outputs": [
    {
     "data": {
      "text/plain": [
       "{1: 'one', 2: 'two', 3: 'three', 4: ['mini', 'sha'], 5: 'five'}"
      ]
     },
     "execution_count": 11,
     "metadata": {},
     "output_type": "execute_result"
    }
   ],
   "source": [
    "d1={1:'one',2:'two',3:'three',4:['mini','sha'],5:'five'}\n",
    "d1"
   ]
  },
  {
   "cell_type": "code",
   "execution_count": 12,
   "id": "1ce42239-31a7-4977-a636-db415e283b1c",
   "metadata": {},
   "outputs": [
    {
     "data": {
      "text/plain": [
       "dict_keys([1, 2, 3, 4, 5])"
      ]
     },
     "execution_count": 12,
     "metadata": {},
     "output_type": "execute_result"
    }
   ],
   "source": [
    "d1.keys()"
   ]
  },
  {
   "cell_type": "code",
   "execution_count": 13,
   "id": "444764ba-5fe7-4612-9be2-8c14118079fb",
   "metadata": {},
   "outputs": [
    {
     "data": {
      "text/plain": [
       "dict_values(['one', 'two', 'three', ['mini', 'sha'], 'five'])"
      ]
     },
     "execution_count": 13,
     "metadata": {},
     "output_type": "execute_result"
    }
   ],
   "source": [
    "d1.values()"
   ]
  },
  {
   "cell_type": "code",
   "execution_count": 14,
   "id": "8579bca9-ac24-4d3e-b7f9-b9db8302783c",
   "metadata": {},
   "outputs": [
    {
     "data": {
      "text/plain": [
       "{'a': None, 'b': None, 'c': None, 'd': None}"
      ]
     },
     "execution_count": 14,
     "metadata": {},
     "output_type": "execute_result"
    }
   ],
   "source": [
    "keys='a','b','c','d'\n",
    "d2=dict.fromkeys(keys)\n",
    "d2"
   ]
  },
  {
   "cell_type": "code",
   "execution_count": 15,
   "id": "18fa1b7e-84a7-4c76-9d8e-d1682c9a39a7",
   "metadata": {},
   "outputs": [
    {
     "data": {
      "text/plain": [
       "{'a': 20, 'b': 20, 'c': 20, 'd': 20}"
      ]
     },
     "execution_count": 15,
     "metadata": {},
     "output_type": "execute_result"
    }
   ],
   "source": [
    "keys ='a','b','c','d'\n",
    "value=20\n",
    "d2=dict.fromkeys(keys,value)\n",
    "d2"
   ]
  },
  {
   "cell_type": "code",
   "execution_count": 16,
   "id": "7114f4a8-5024-4319-8952-ab2aa85af5d6",
   "metadata": {},
   "outputs": [
    {
     "data": {
      "text/plain": [
       "{'p': [76, 98, 34, 87],\n",
       " 'q': [76, 98, 34, 87],\n",
       " 'r': [76, 98, 34, 87],\n",
       " 's': [76, 98, 34, 87]}"
      ]
     },
     "execution_count": 16,
     "metadata": {},
     "output_type": "execute_result"
    }
   ],
   "source": [
    "keys='p','q','r','s'\n",
    "value=[76,98,34,87]\n",
    "d3=dict.fromkeys(keys,value)\n",
    "d3"
   ]
  },
  {
   "cell_type": "code",
   "execution_count": 17,
   "id": "d8301468-6f33-4b81-a28b-ab16a7371293",
   "metadata": {},
   "outputs": [
    {
     "data": {
      "text/plain": [
       "{'p': [76, 98, 34, 87, 20],\n",
       " 'q': [76, 98, 34, 87, 20],\n",
       " 'r': [76, 98, 34, 87, 20],\n",
       " 's': [76, 98, 34, 87, 20]}"
      ]
     },
     "execution_count": 17,
     "metadata": {},
     "output_type": "execute_result"
    }
   ],
   "source": [
    "value.append(20)\n",
    "d3"
   ]
  },
  {
   "cell_type": "code",
   "execution_count": 18,
   "id": "e11d0752-e572-4e5f-abc4-e34769240a70",
   "metadata": {},
   "outputs": [
    {
     "data": {
      "text/plain": [
       "{1: 'one', 2: 'two', 3: 'three'}"
      ]
     },
     "execution_count": 18,
     "metadata": {},
     "output_type": "execute_result"
    }
   ],
   "source": [
    "d"
   ]
  },
  {
   "cell_type": "code",
   "execution_count": 19,
   "id": "472f0b7d-ef4e-48aa-a08f-5d26c2cd54af",
   "metadata": {},
   "outputs": [
    {
     "data": {
      "text/plain": [
       "{'Name': 'Mani', 'DOB': 2003, 'Job': 'Analyst', 'Id': 55}"
      ]
     },
     "execution_count": 19,
     "metadata": {},
     "output_type": "execute_result"
    }
   ],
   "source": [
    "dict={'Name':'Mani','DOB':2003,'Job':'Analyst','Id':55}\n",
    "dict"
   ]
  },
  {
   "cell_type": "code",
   "execution_count": 20,
   "id": "e99ad463-1a0b-4273-94c6-05a8d7203cf9",
   "metadata": {},
   "outputs": [
    {
     "data": {
      "text/plain": [
       "{'Name': 'pavii', 'DOB': 2003, 'Job': 'Analyst', 'Id': 74123}"
      ]
     },
     "execution_count": 20,
     "metadata": {},
     "output_type": "execute_result"
    }
   ],
   "source": [
    "dict1={'Name':'pavii','DOB':2003,'Job':'Analyst','Id':74123}\n",
    "dict1"
   ]
  },
  {
   "cell_type": "code",
   "execution_count": 21,
   "id": "a4493dcc-4389-4779-8007-4b545b2f914d",
   "metadata": {},
   "outputs": [
    {
     "data": {
      "text/plain": [
       "'Mani'"
      ]
     },
     "execution_count": 21,
     "metadata": {},
     "output_type": "execute_result"
    }
   ],
   "source": [
    "dict['Name']"
   ]
  },
  {
   "cell_type": "code",
   "execution_count": 22,
   "id": "3659e448-258a-4a26-9681-512e725d080a",
   "metadata": {},
   "outputs": [
    {
     "data": {
      "text/plain": [
       "{1: 'one', 2: 'two', 3: 'three'}"
      ]
     },
     "execution_count": 22,
     "metadata": {},
     "output_type": "execute_result"
    }
   ],
   "source": [
    "d"
   ]
  },
  {
   "cell_type": "code",
   "execution_count": 23,
   "id": "b4e14596-0a94-48ed-adee-47d5999edc0b",
   "metadata": {},
   "outputs": [
    {
     "data": {
      "text/plain": [
       "'three'"
      ]
     },
     "execution_count": 23,
     "metadata": {},
     "output_type": "execute_result"
    }
   ],
   "source": [
    "d[3]"
   ]
  },
  {
   "cell_type": "code",
   "execution_count": 25,
   "id": "96163bfe-4b4a-4196-8979-75543a13af19",
   "metadata": {},
   "outputs": [
    {
     "data": {
      "text/plain": [
       "{'Name': 'Mani',\n",
       " 'DOB': 2003,\n",
       " 'Job': 'Analyst',\n",
       " 'Id': 55,\n",
       " 'job': 'Data Analyst'}"
      ]
     },
     "execution_count": 25,
     "metadata": {},
     "output_type": "execute_result"
    }
   ],
   "source": [
    "dict['job']='Data Analyst' #changing value\n",
    "dict"
   ]
  },
  {
   "cell_type": "code",
   "execution_count": 26,
   "id": "218fb2f5-71c0-48a6-be6a-1859c73acaa2",
   "metadata": {},
   "outputs": [
    {
     "data": {
      "text/plain": [
       "{'Name': 'Mani',\n",
       " 'DOB': 2003,\n",
       " 'Job': 'Analyst',\n",
       " 'Id': 55,\n",
       " 'job': 'Data Analyst',\n",
       " 'Address': 'Hyd'}"
      ]
     },
     "execution_count": 26,
     "metadata": {},
     "output_type": "execute_result"
    }
   ],
   "source": [
    "dict['Address']='Hyd' #adding values\n",
    "dict"
   ]
  },
  {
   "cell_type": "code",
   "execution_count": 27,
   "id": "aebbd2ea-c031-4d4b-a21b-fbaca3c063ee",
   "metadata": {},
   "outputs": [
    {
     "data": {
      "text/plain": [
       "{1: 'one', 2: 'two', 3: 'three'}"
      ]
     },
     "execution_count": 27,
     "metadata": {},
     "output_type": "execute_result"
    }
   ],
   "source": [
    "d"
   ]
  },
  {
   "cell_type": "code",
   "execution_count": 28,
   "id": "14d9c2e1-f1b9-4ba8-bad5-5d21f6e4c95d",
   "metadata": {},
   "outputs": [
    {
     "data": {
      "text/plain": [
       "'two'"
      ]
     },
     "execution_count": 28,
     "metadata": {},
     "output_type": "execute_result"
    }
   ],
   "source": [
    "d.pop(2)"
   ]
  },
  {
   "cell_type": "code",
   "execution_count": 29,
   "id": "719dcdf9-4b63-415e-a349-8f6172896e58",
   "metadata": {},
   "outputs": [
    {
     "data": {
      "text/plain": [
       "{1: 'one', 3: 'three'}"
      ]
     },
     "execution_count": 29,
     "metadata": {},
     "output_type": "execute_result"
    }
   ],
   "source": [
    "d"
   ]
  },
  {
   "cell_type": "code",
   "execution_count": 30,
   "id": "ba0c4ea2-6cae-4c7c-8c2b-7a84ed08e813",
   "metadata": {},
   "outputs": [
    {
     "data": {
      "text/plain": [
       "{'Name': 'Mani',\n",
       " 'DOB': 2003,\n",
       " 'Job': 'Analyst',\n",
       " 'Id': 55,\n",
       " 'job': 'Data Analyst',\n",
       " 'Address': 'Hyd'}"
      ]
     },
     "execution_count": 30,
     "metadata": {},
     "output_type": "execute_result"
    }
   ],
   "source": [
    "dict"
   ]
  },
  {
   "cell_type": "code",
   "execution_count": 31,
   "id": "35854ea7-1b8d-4e3f-84ed-9888dc7b7157",
   "metadata": {},
   "outputs": [
    {
     "data": {
      "text/plain": [
       "dict_keys(['Name', 'DOB', 'Job', 'Id', 'job', 'Address'])"
      ]
     },
     "execution_count": 31,
     "metadata": {},
     "output_type": "execute_result"
    }
   ],
   "source": [
    "dict.keys()"
   ]
  },
  {
   "cell_type": "code",
   "execution_count": 32,
   "id": "3abd4c22-1912-493c-bb3a-49a2a2f5f163",
   "metadata": {},
   "outputs": [
    {
     "data": {
      "text/plain": [
       "2003"
      ]
     },
     "execution_count": 32,
     "metadata": {},
     "output_type": "execute_result"
    }
   ],
   "source": [
    "dict.get('DOB')"
   ]
  },
  {
   "cell_type": "code",
   "execution_count": 33,
   "id": "89c2200a-479d-4160-99a7-63dd9ff72f77",
   "metadata": {},
   "outputs": [
    {
     "data": {
      "text/plain": [
       "{'Name': 'Mani',\n",
       " 'DOB': 2003,\n",
       " 'Job': 'Analyst',\n",
       " 'Id': 55,\n",
       " 'job': 'Data Analyst',\n",
       " 'Address': 'Hyd'}"
      ]
     },
     "execution_count": 33,
     "metadata": {},
     "output_type": "execute_result"
    }
   ],
   "source": [
    "dict.copy() #no arguments taken"
   ]
  },
  {
   "cell_type": "code",
   "execution_count": 34,
   "id": "4b01b911-837c-44d5-8dda-24fb47633d40",
   "metadata": {},
   "outputs": [
    {
     "data": {
      "text/plain": [
       "('Address', 'Hyd')"
      ]
     },
     "execution_count": 34,
     "metadata": {},
     "output_type": "execute_result"
    }
   ],
   "source": [
    "dict.popitem() # values will be popped randomly"
   ]
  },
  {
   "cell_type": "code",
   "execution_count": 36,
   "id": "2a7ac2ea-8246-4a83-9349-d00f83dfabc5",
   "metadata": {},
   "outputs": [
    {
     "data": {
      "text/plain": [
       "{'Name': 'Mani',\n",
       " 'DOB': 2003,\n",
       " 'Job': 'Analyst',\n",
       " 'Id': 55,\n",
       " 'job': 'Data Analyst'}"
      ]
     },
     "execution_count": 36,
     "metadata": {},
     "output_type": "execute_result"
    }
   ],
   "source": [
    "d=dict.copy()\n",
    "d"
   ]
  },
  {
   "cell_type": "code",
   "execution_count": 39,
   "id": "631afaa0-4436-40ba-b85b-92b119c2f430",
   "metadata": {},
   "outputs": [
    {
     "name": "stdout",
     "output_type": "stream",
     "text": [
      "Name : Mani\n",
      "DOB : 2003\n",
      "Job : Analyst\n",
      "Id : 55\n",
      "job : Data Analyst\n"
     ]
    }
   ],
   "source": [
    "for i in dict:\n",
    " print(i,':',dict[i])"
   ]
  },
  {
   "cell_type": "code",
   "execution_count": 40,
   "id": "9fd83d9d-6eeb-47a9-bbae-760c4117c93e",
   "metadata": {},
   "outputs": [
    {
     "name": "stdout",
     "output_type": "stream",
     "text": [
      "Mani\n",
      "2003\n",
      "Analyst\n",
      "55\n",
      "Data Analyst\n"
     ]
    }
   ],
   "source": [
    "for i in dict:\n",
    " print(dict[i])"
   ]
  },
  {
   "cell_type": "code",
   "execution_count": 41,
   "id": "01a355a5-cfad-476a-9141-990d1ef0490d",
   "metadata": {},
   "outputs": [
    {
     "data": {
      "text/plain": [
       "{'Name': 'Mani',\n",
       " 'DOB': 2003,\n",
       " 'Job': 'Analyst',\n",
       " 'Id': 55,\n",
       " 'job': 'Data Analyst'}"
      ]
     },
     "execution_count": 41,
     "metadata": {},
     "output_type": "execute_result"
    }
   ],
   "source": [
    "dict"
   ]
  },
  {
   "cell_type": "code",
   "execution_count": 42,
   "id": "90ec9fb4-ec3d-4aa9-843d-b296ec80c014",
   "metadata": {},
   "outputs": [
    {
     "data": {
      "text/plain": [
       "True"
      ]
     },
     "execution_count": 42,
     "metadata": {},
     "output_type": "execute_result"
    }
   ],
   "source": [
    "'Name' in dict #membership"
   ]
  },
  {
   "cell_type": "code",
   "execution_count": 43,
   "id": "f6761720-bbfd-4029-aa36-83480721b280",
   "metadata": {},
   "outputs": [
    {
     "data": {
      "text/plain": [
       "False"
      ]
     },
     "execution_count": 43,
     "metadata": {},
     "output_type": "execute_result"
    }
   ],
   "source": [
    "35 in dict"
   ]
  },
  {
   "cell_type": "code",
   "execution_count": 44,
   "id": "e1b740c2-29dc-4ae3-88de-240f187db5ca",
   "metadata": {},
   "outputs": [
    {
     "data": {
      "text/plain": [
       "True"
      ]
     },
     "execution_count": 44,
     "metadata": {},
     "output_type": "execute_result"
    }
   ],
   "source": [
    "all(dict)"
   ]
  },
  {
   "cell_type": "code",
   "execution_count": 45,
   "id": "bcd5a221-fb50-4acd-85ae-da3d632324a9",
   "metadata": {},
   "outputs": [
    {
     "data": {
      "text/plain": [
       "True"
      ]
     },
     "execution_count": 45,
     "metadata": {},
     "output_type": "execute_result"
    }
   ],
   "source": [
    "any(dict)"
   ]
  },
  {
   "cell_type": "code",
   "execution_count": 46,
   "id": "e02ce151-f13d-4d56-8214-f27d42b8adc6",
   "metadata": {},
   "outputs": [
    {
     "data": {
      "text/plain": [
       "{'Name': 'Mani',\n",
       " 'DOB': 2003,\n",
       " 'Job': 'Analyst',\n",
       " 'Id': 55,\n",
       " 'job': 'Data Analyst',\n",
       " 'Address': 'Hyderabad'}"
      ]
     },
     "execution_count": 46,
     "metadata": {},
     "output_type": "execute_result"
    }
   ],
   "source": [
    "dict['Address']='Hyderabad'\n",
    "dict"
   ]
  },
  {
   "cell_type": "code",
   "execution_count": 47,
   "id": "97440dd6-6805-4644-b716-13d25871d930",
   "metadata": {},
   "outputs": [
    {
     "data": {
      "text/plain": [
       "{'Name': 'Mani',\n",
       " 'DOB': 2003,\n",
       " 'Job': 'Analyst',\n",
       " 'Id': 55,\n",
       " 'job': 'Data Analyst',\n",
       " 'Address': 'Hyderabad',\n",
       " 'experience': 0}"
      ]
     },
     "execution_count": 47,
     "metadata": {},
     "output_type": "execute_result"
    }
   ],
   "source": [
    "dict['experience']=0\n",
    "dict"
   ]
  },
  {
   "cell_type": "code",
   "execution_count": 48,
   "id": "b825cbcb-ed84-4c48-9da2-e805ac1e7d7b",
   "metadata": {},
   "outputs": [
    {
     "data": {
      "text/plain": [
       "True"
      ]
     },
     "execution_count": 48,
     "metadata": {},
     "output_type": "execute_result"
    }
   ],
   "source": [
    "all(dict)"
   ]
  },
  {
   "cell_type": "code",
   "execution_count": 50,
   "id": "ff494d15-dcc5-4efe-b7e6-a56b4e8633de",
   "metadata": {},
   "outputs": [
    {
     "data": {
      "text/plain": [
       "False"
      ]
     },
     "execution_count": 50,
     "metadata": {},
     "output_type": "execute_result"
    }
   ],
   "source": [
    "1 in dict"
   ]
  },
  {
   "cell_type": "code",
   "execution_count": 51,
   "id": "ff12e750-8c0f-4e8d-a72c-20bf5f47ed6c",
   "metadata": {},
   "outputs": [
    {
     "data": {
      "text/plain": [
       "True"
      ]
     },
     "execution_count": 51,
     "metadata": {},
     "output_type": "execute_result"
    }
   ],
   "source": [
    "any(dict)"
   ]
  },
  {
   "cell_type": "code",
   "execution_count": null,
   "id": "cd59abbe-6474-47f8-8d6f-3566d96913e1",
   "metadata": {},
   "outputs": [],
   "source": []
  }
 ],
 "metadata": {
  "kernelspec": {
   "display_name": "Python 3 (ipykernel)",
   "language": "python",
   "name": "python3"
  },
  "language_info": {
   "codemirror_mode": {
    "name": "ipython",
    "version": 3
   },
   "file_extension": ".py",
   "mimetype": "text/x-python",
   "name": "python",
   "nbconvert_exporter": "python",
   "pygments_lexer": "ipython3",
   "version": "3.12.4"
  }
 },
 "nbformat": 4,
 "nbformat_minor": 5
}
